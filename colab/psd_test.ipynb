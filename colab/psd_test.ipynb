{
  "nbformat": 4,
  "nbformat_minor": 0,
  "metadata": {
    "colab": {
      "name": "positive_semidefinite_symbolic.ipynb",
      "provenance": [],
      "authorship_tag": "ABX9TyNAMWRvJUMmEZiJzFvhluu9",
      "include_colab_link": true
    },
    "kernelspec": {
      "name": "python3",
      "display_name": "Python 3"
    }
  },
  "cells": [
    {
      "cell_type": "markdown",
      "metadata": {
        "id": "view-in-github",
        "colab_type": "text"
      },
      "source": [
        "<a href=\"https://colab.research.google.com/github/dnguyend/ManNullRange/blob/master/tests/positive_semidefinite_symbolic.ipynb\" target=\"_parent\"><img src=\"https://colab.research.google.com/assets/colab-badge.svg\" alt=\"Open In Colab\"/></a>"
      ]
    },
    {
      "cell_type": "markdown",
      "metadata": {
        "id": "ibXmMhvhoobN",
        "colab_type": "text"
      },
      "source": [
        "$\\newcommand{\\KK}{\\mathbb{K}}$\n",
        "$\\newcommand{\\rN}{\\mathrm{N}}$\n",
        "$\\newcommand{\\rD}{\\mathrm{D}}$\n",
        "$\\newcommand{\\cE}{\\mathcal{E}}$\n",
        "$\\newcommand{\\ft}{\\mathfrak{t}}$\n",
        "$\\newcommand{\\cEJ}{\\cE_{\\JJ}}$\n",
        "$\\newcommand{\\CTRL}{\\textsc{CTRL}}$\n",
        "$\\newcommand{\\Herm}[3]{\\mathrm{Sym}_{#1, #2, #3}}$\n",
        "$\\newcommand{\\AHerm}[3]{\\mathrm{Skew}_{#1, #2, #3}}$\n",
        "$\\newcommand{\\St}[3]{\\mathrm{St}_{#1, #2, #3}}$\n",
        "$\\newcommand{\\Sp}[3]{\\mathtt{S}^{+}_{#1, #2, #3}}$\n",
        "$\\newcommand{\\Sd}[2]{\\mathtt{S}^{+}_{#1, #2}}$\n",
        "$\\DeclareMathOperator{\\UU}{U}$\n",
        "$\\DeclareMathOperator{\\JJ}{J}$\n",
        "$\\DeclareMathOperator{\\xtrace}{xtrace}$\n",
        "# Symbolic calculation for Positive Semidefinite manifold $\\Sp{\\KK}{p}{n}$ with Riemannian quotient metric, with $\\KK$ real or complex.\n",
        "* Manifold is Stiefel $\\St{\\KK}{p}{n}$ times positive definite (PD) $\\Sd{\\KK}{p}$ with the quotient by the unitary group $\\UU(\\KK, p)$, via a representation $S = YPY^{\\ft}$ with $Y\\in\\St{\\KK}{p}{n}, P\\in \\Sd{\\KK}{p}$.\n",
        "* Horizontal lift is normal to vertical vectors.\n",
        "* Ambient space $\\cE= \\KK^{n\\times p}\\oplus\\KK^{p\\times p}$\n",
        "* The tangent space is the nullspace of the operator $\\JJ(S)$ is $[\\omega_P-\\omega_P^{\\ft},  \\alpha_1 Y^{H} \\omega_Y+\\beta(\\omega_P P^{-1}-\\omega_P P^{-1}) ]$ in $\\cE_{\\JJ} = \\AHerm{\\KK}{p}{p}\\oplus \\KK^{p\\times p}$\n",
        "* Operator $\\rN(S)$ is $\\rN[B, D]=[\\beta Y(P^{-1}D - D P^{-1}) + Y_{\\perp}B, \\alpha_1 D]$ parameterizing the tangent space by $\\cE_{\\rN} = \\KK^{(n-p)\\times p}\\oplus \\Herm{\\ft}{\\KK}{p}$.\n"
      ]
    },
    {
      "cell_type": "code",
      "metadata": {
        "id": "j3xznG5CqrwH",
        "colab_type": "code",
        "colab": {
          "base_uri": "https://localhost:8080/",
          "height": 136
        },
        "outputId": "543b0054-6611-4d6c-dd5d-d89738e01a2a"
      },
      "source": [
        "!git clone https://github.com/dnguyend/ManNullRange.git"
      ],
      "execution_count": 1,
      "outputs": [
        {
          "output_type": "stream",
          "text": [
            "Cloning into 'ManNullRange'...\n",
            "remote: Enumerating objects: 125, done.\u001b[K\n",
            "remote: Counting objects: 100% (125/125), done.\u001b[K\n",
            "remote: Compressing objects: 100% (70/70), done.\u001b[K\n",
            "remote: Total 125 (delta 83), reused 90 (delta 54), pack-reused 0\u001b[K\n",
            "Receiving objects: 100% (125/125), 121.34 KiB | 347.00 KiB/s, done.\n",
            "Resolving deltas: 100% (83/83), done.\n"
          ],
          "name": "stdout"
        }
      ]
    },
    {
      "cell_type": "code",
      "metadata": {
        "id": "3oiOVOhKh0-K",
        "colab_type": "code",
        "colab": {}
      },
      "source": [
        "from collections import OrderedDict\n",
        "from sympy import Integer\n",
        "from IPython.display import display, Math\n",
        "from ManNullRange.symbolic import SymMat as sm\n",
        "from ManNullRange.symbolic.SymMat import (\n",
        "    matrices, stiefels, scalars, t, mat_spfy,\n",
        "    xtrace, trace, DDR, sym_symb, asym_symb,\n",
        "    latex_map, mat_latex, simplify_pd_tangent, inv)\n",
        "\n",
        "def sprint(expr):\n",
        "    return latex_map(mat_latex(expr), OrderedDict(\n",
        "        [('fYY', r'f_{YY}'), ('fY', 'f_Y'), ('al', r'\\alpha'), ('bt', r'\\beta')]))\n",
        "\n",
        "\n",
        "def pprint(expr):\n",
        "    display(Math(sprint(expr)))\n"
      ],
      "execution_count": 2,
      "outputs": []
    },
    {
      "cell_type": "markdown",
      "metadata": {
        "id": "gMZv6OmUrfth",
        "colab_type": "text"
      },
      "source": [
        "* Define the symbols. A manifold point consists of $Y, P$ with $S = YPY^{\\ft}$. $B, D$ parameterize the tangent space via $N(B, D)$. "
      ]
    },
    {
      "cell_type": "code",
      "metadata": {
        "id": "8N02EjCqoqf1",
        "colab_type": "code",
        "colab": {
          "base_uri": "https://localhost:8080/",
          "height": 55
        },
        "outputId": "38f5620f-bede-4054-f62f-fdda4c20312e"
      },
      "source": [
        "if True:\n",
        "    # in this method, the ambient is still\n",
        "    # R(n times p) + Symmetric(p)\n",
        "    # Horizontal is still\n",
        "    # al1*t(Y)*omg_Y + bt*omg_P*inv(R*R) - bt*inv(R*R)*omg_P)\n",
        "    # manifold is on pair (Y, P)\n",
        "    # Use pair B, D. B size n*(n-p), D size p(p+1)/2\n",
        "    # Use the embedding\n",
        "    # omg_Y = bt(Y*(inv(P)*D - D*inv(P))\n",
        "    # omg_P = al1*D\n",
        "    # so need to set up a new variable Y_0 and relation YY_0=0\n",
        "    \n",
        "    Y, Y0 = stiefels('Y Y0')\n",
        "    sm.g_cstiefels[Y] = Y0\n",
        "    sm.g_cstiefels[Y0] = Y\n",
        "    \n",
        "    B, eta_Y, eta_P = matrices('B eta_Y eta_P')\n",
        "    P, D = sym_symb('P D')\n",
        "    al0, al1, bt = scalars('al0 al1 bt')\n",
        "    \n",
        "    def g(Y, P, omg_Y, omg_P):\n",
        "        return al0*omg_Y+(al1-al0)*Y*t(Y)*omg_Y, bt*inv(P)*omg_P*inv(P)\n",
        "\n",
        "    def ginv(Y, P, omg_Y, omg_P):\n",
        "        return 1/al0*omg_Y+(1/al1-1/al0)*Y*t(Y)*omg_Y, 1/bt*P*omg_P*P\n",
        "\n",
        "    # check that ginv \\circ g is id\n",
        "    e1, e2 = ginv(Y, P, *(g(Y, P, eta_Y, eta_P)))\n",
        "    e1 = mat_spfy(e1)\n",
        "    e2 = mat_spfy(e2)\n",
        "    pprint(\"\\\\text{Showing }g \\circ g^{-1} \\eta = \\eta\")\n",
        "    print(e1, e2)\n"
      ],
      "execution_count": 3,
      "outputs": [
        {
          "output_type": "display_data",
          "data": {
            "text/latex": "$$\\text{Showing }g \\circ g^{-1} \\eta = \\eta$$",
            "text/plain": [
              "<IPython.core.display.Math object>"
            ]
          },
          "metadata": {
            "tags": []
          }
        },
        {
          "output_type": "stream",
          "text": [
            "eta_Y eta_P\n"
          ],
          "name": "stdout"
        }
      ]
    },
    {
      "cell_type": "markdown",
      "metadata": {
        "id": "oblfLZWltrfL",
        "colab_type": "text"
      },
      "source": [
        "We define base (Frobenius) inner product on the ambient spaces. as sum of two trace expressions. We show the horizontal condition can be derived through $\\xtrace$\n"
      ]
    },
    {
      "cell_type": "code",
      "metadata": {
        "id": "FABj3rwos2qs",
        "colab_type": "code",
        "colab": {
          "base_uri": "https://localhost:8080/",
          "height": 55
        },
        "outputId": "ada533df-d041-4786-c6fe-b4572cd0517e"
      },
      "source": [
        "def base_ambient_inner(omg_Y, omg_P, xi_Y, xi_P):\n",
        "    return mat_spfy(\n",
        "        trace(\n",
        "            mat_spfy(omg_Y * t(xi_Y))) +\n",
        "        trace(mat_spfy(\n",
        "            omg_P*t(xi_P))))\n",
        "\n",
        "def ambient_inner(Y, P, omg_Y, omg_P, xi_Y, xi_P):\n",
        "    return mat_spfy(\n",
        "        trace(\n",
        "            mat_spfy(\n",
        "                (al0*omg_Y+(al1-al0)*Y*t(Y)*omg_Y) * t(xi_Y))) +\n",
        "        trace(mat_spfy(\n",
        "            bt*inv(P)*omg_P*inv(P)*t(xi_P))))\n",
        "\n",
        "def EN_inner(Y, P, Ba, Da, Bb, Db):\n",
        "    return trace(\n",
        "        mat_spfy(Da * Db) + mat_spfy(\n",
        "            Ba*t(Bb)))\n",
        "\n",
        "qat = asym_symb('qat')\n",
        "\n",
        "ipr = ambient_inner(Y, P, eta_Y, eta_P, Y * qat,  P*qat - qat*P)\n",
        "dqat = mat_spfy(xtrace(ipr, qat))\n",
        "print(\"The Horizontal condtion\")\n",
        "pprint(dqat)\n"
      ],
      "execution_count": 4,
      "outputs": [
        {
          "output_type": "stream",
          "text": [
            "The Horizontal condtion\n"
          ],
          "name": "stdout"
        },
        {
          "output_type": "display_data",
          "data": {
            "text/latex": "$$- \\alpha_{1} \\eta_{Y}^T Y - \\beta P^{-1} \\eta_{P}^T + \\beta \\eta_{P}^T P^{-1}$$",
            "text/plain": [
              "<IPython.core.display.Math object>"
            ]
          },
          "metadata": {
            "tags": []
          }
        }
      ]
    },
    {
      "cell_type": "code",
      "metadata": {
        "id": "VQi6xx1OuTAT",
        "colab_type": "code",
        "colab": {
          "base_uri": "https://localhost:8080/",
          "height": 228
        },
        "outputId": "ed48abda-e2ac-45cf-f349-7bcba1df4a08"
      },
      "source": [
        "def N(Y, P, B, D):\n",
        "    N_Y = mat_spfy(bt*Y*(inv(P)*D - D*inv(P))) + Y0*B\n",
        "    N_P = mat_spfy(\n",
        "        al1*D)\n",
        "\n",
        "    return N_Y, N_P\n",
        "\n",
        "def NT(Y, P, omg_Y, omg_P):\n",
        "    nB, nD = matrices('nB nD')\n",
        "    ipt = mat_spfy(\n",
        "        base_ambient_inner(*N(Y, P, nB, nD), omg_Y, omg_P))\n",
        "    ntB = mat_spfy(xtrace(ipt, nB))\n",
        "    ntD1 = mat_spfy(xtrace(ipt, nD))\n",
        "    ntD = mat_spfy(Integer(1)/Integer(2)*(ntD1 + t(ntD1)))\n",
        "    return ntB, ntD\n",
        "\n",
        "# check that image of N is horizontal:\n",
        "print(\"Check that image of N is horizontal, so inner product with a vertical vector is zero\")\n",
        "pprint(mat_spfy(xtrace(\n",
        "    mat_spfy(\n",
        "        ambient_inner(Y, P, *N(Y, P, B, D), Y*qat, P*qat - qat*P)), qat)))\n",
        "NTe_B, NTe_D = NT(Y, P, eta_Y, eta_P)\n",
        "\n",
        "display(Math('\\\\text{ Formula for } N^Te_B: %s' % sprint(NTe_B)))\n",
        "display(Math('\\\\text{ Formula for } N^Te_D: %s '% sprint(NTe_D)))\n",
        "\n",
        "gN = g(Y, P, *N(Y, P, B, D))\n",
        "gN_Y = mat_spfy(gN[0])\n",
        "gN_P = mat_spfy(gN[1])\n",
        "display(Math('\\\\text{ Formula for } (gN)_Y: %s' % sprint(gN_Y)))\n",
        "display(Math('\\\\text{ Formula for } (gN)_P: %s' % sprint(gN_P)))\n",
        "\n",
        "NTg_B, NTg_D = NT(Y, P, *g(Y, P, eta_Y, eta_P))\n",
        "display(Math('\\\\text{ Formula for } (N^T)_B: %s' % sprint(NTg_B)))\n",
        "display(Math('\\\\text{ Formula for } (N^T)_D: %s' % sprint(NTg_D)))\n",
        "\n",
        "NTgN_B, NTgN_D = NT(Y, P, *gN)\n",
        "\n",
        "display(Math('\\\\text{ Formula for } (N^TgN)_B: %s' % sprint(NTgN_B)))\n",
        "display(Math('\\\\text{ Formula for } (N^TgN)_D: %s' % sprint(NTgN_D)))\n"
      ],
      "execution_count": 5,
      "outputs": [
        {
          "output_type": "stream",
          "text": [
            "Check that image of N is horizontal, so inner product with a vertical vector is zero\n"
          ],
          "name": "stdout"
        },
        {
          "output_type": "display_data",
          "data": {
            "text/latex": "$$0$$",
            "text/plain": [
              "<IPython.core.display.Math object>"
            ]
          },
          "metadata": {
            "tags": []
          }
        },
        {
          "output_type": "display_data",
          "data": {
            "text/latex": "$$\\text{ Formula for } N^Te_B: Y_{0}^T \\eta_{Y}$$",
            "text/plain": [
              "<IPython.core.display.Math object>"
            ]
          },
          "metadata": {
            "tags": []
          }
        },
        {
          "output_type": "display_data",
          "data": {
            "text/latex": "$$\\text{ Formula for } N^Te_D: \\frac{\\alpha_{1} \\eta_{P}}{2} + \\frac{\\alpha_{1} \\eta_{P}^T}{2} + \\frac{\\beta P^{-1}}{2} Y^T \\eta_{Y} - \\frac{\\beta P^{-1}}{2} \\eta_{Y}^T Y - \\frac{\\beta Y^T}{2} \\eta_{Y} P^{-1} + \\frac{\\beta \\eta_{Y}^T}{2} Y P^{-1} $$",
            "text/plain": [
              "<IPython.core.display.Math object>"
            ]
          },
          "metadata": {
            "tags": []
          }
        },
        {
          "output_type": "display_data",
          "data": {
            "text/latex": "$$\\text{ Formula for } (gN)_Y: \\alpha_{0} Y_{0} B - \\alpha_{1} \\beta Y D P^{-1} + \\alpha_{1} \\beta Y P^{-1} D$$",
            "text/plain": [
              "<IPython.core.display.Math object>"
            ]
          },
          "metadata": {
            "tags": []
          }
        },
        {
          "output_type": "display_data",
          "data": {
            "text/latex": "$$\\text{ Formula for } (gN)_P: \\alpha_{1} \\beta P^{-1} D P^{-1}$$",
            "text/plain": [
              "<IPython.core.display.Math object>"
            ]
          },
          "metadata": {
            "tags": []
          }
        },
        {
          "output_type": "display_data",
          "data": {
            "text/latex": "$$\\text{ Formula for } (N^T)_B: \\alpha_{0} Y_{0}^T \\eta_{Y}$$",
            "text/plain": [
              "<IPython.core.display.Math object>"
            ]
          },
          "metadata": {
            "tags": []
          }
        },
        {
          "output_type": "display_data",
          "data": {
            "text/latex": "$$\\text{ Formula for } (N^T)_D: \\frac{\\alpha_{1} \\beta}{2} P^{-1} \\eta_{P} P^{-1} + \\frac{\\alpha_{1} \\beta}{2} P^{-1} Y^T \\eta_{Y} + \\frac{\\alpha_{1} \\beta}{2} P^{-1} \\eta_{P}^T P^{-1} - \\frac{\\alpha_{1} \\beta}{2} P^{-1} \\eta_{Y}^T Y - \\frac{\\alpha_{1} \\beta}{2} Y^T \\eta_{Y} P^{-1} + \\frac{\\alpha_{1} \\beta}{2} \\eta_{Y}^T Y P^{-1}$$",
            "text/plain": [
              "<IPython.core.display.Math object>"
            ]
          },
          "metadata": {
            "tags": []
          }
        },
        {
          "output_type": "display_data",
          "data": {
            "text/latex": "$$\\text{ Formula for } (N^TgN)_B: \\alpha_{0} B$$",
            "text/plain": [
              "<IPython.core.display.Math object>"
            ]
          },
          "metadata": {
            "tags": []
          }
        },
        {
          "output_type": "display_data",
          "data": {
            "text/latex": "$$\\text{ Formula for } (N^TgN)_D: \\alpha_{1}^{2} \\beta P^{-1} D P^{-1} + \\alpha_{1} \\beta^{2} D P^{-2} - 2 \\alpha_{1} \\beta^{2} P^{-1} D P^{-1} + \\alpha_{1} \\beta^{2} P^{-2} D$$",
            "text/plain": [
              "<IPython.core.display.Math object>"
            ]
          },
          "metadata": {
            "tags": []
          }
        }
      ]
    },
    {
      "cell_type": "markdown",
      "metadata": {
        "id": "m-vLtYBE0MPR",
        "colab_type": "text"
      },
      "source": [
        "* Calculation of the Christoffel metric term:"
      ]
    },
    {
      "cell_type": "code",
      "metadata": {
        "id": "vbZWMjqAu5Mv",
        "colab_type": "code",
        "colab": {
          "base_uri": "https://localhost:8080/",
          "height": 80
        },
        "outputId": "5efea31a-4869-44c2-a6fa-1b7f60ba32ae"
      },
      "source": [
        "def sym(x):\n",
        "        return mat_spfy(\n",
        "            Integer(1)/Integer(2)*(x + t(x)))\n",
        "xi_Y, xi_P, phi_Y, phi_P = matrices('xi_Y xi_P phi_Y phi_P')\n",
        "gYPeta = g(Y, P, eta_Y, eta_P)\n",
        "Dgxieta_Y = DDR(gYPeta[0], Y, xi_Y)\n",
        "Dgxieta_P = DDR(gYPeta[1], P, xi_P)\n",
        "\n",
        "gYPxi = g(Y, P, xi_Y, xi_P)\n",
        "Dgetaxi_Y = DDR(gYPxi[0], Y, eta_Y)\n",
        "Dgetaxi_P = DDR(gYPxi[1], P, eta_P)\n",
        "\n",
        "Dgxiphi_Y = DDR(gYPeta[0], Y, phi_Y)\n",
        "Dgxiphi_P = DDR(gYPeta[1], P, phi_P)\n",
        "\n",
        "tr3 = mat_spfy(\n",
        "    ambient_inner(Y, P, Dgxiphi_Y, Dgxiphi_P, eta_Y, eta_P))\n",
        "xcross_Y = xtrace(tr3, phi_Y)\n",
        "xcross_P = xtrace(tr3, phi_P)\n",
        "    \n",
        "K_Y = (Integer(1)/Integer(2))*(Dgxieta_Y + Dgetaxi_Y - xcross_Y)\n",
        "K_P = (Integer(1)/Integer(2))*(Dgxieta_P + Dgetaxi_P - xcross_P)\n",
        "\n",
        "display(Math('\\\\text{ Formula for } K_Y: %s' % sprint(K_Y)))\n",
        "display(Math('\\\\text{ Formula for } K_P: %s' % sprint(K_P)))\n",
        "\n"
      ],
      "execution_count": 6,
      "outputs": [
        {
          "output_type": "display_data",
          "data": {
            "text/latex": "$$\\text{ Formula for } K_Y: \\frac{1}{2} \\left(- \\alpha_{0}^{2} Y Y^T \\eta_{Y} \\eta_{Y}^T Y + \\alpha_{0}^{2} \\eta_{Y} \\eta_{Y}^T Y + 2 \\alpha_{0} \\alpha_{1} Y Y^T \\eta_{Y} \\eta_{Y}^T Y - \\alpha_{0} Y \\eta_{Y}^T \\xi_{Y} - \\alpha_{0} Y \\xi_{Y}^T \\eta_{Y} - \\alpha_{0} \\eta_{Y} Y^T \\xi_{Y} - \\alpha_{0} \\xi_{Y} Y^T \\eta_{Y} - \\alpha_{1}^{2} Y Y^T \\eta_{Y} \\eta_{Y}^T Y - \\alpha_{1}^{2} \\eta_{Y} \\eta_{Y}^T Y + \\alpha_{1} Y \\eta_{Y}^T \\xi_{Y} + \\alpha_{1} Y \\xi_{Y}^T \\eta_{Y} + \\alpha_{1} \\eta_{Y} Y^T \\xi_{Y} + \\alpha_{1} \\xi_{Y} Y^T \\eta_{Y}\\right)$$",
            "text/plain": [
              "<IPython.core.display.Math object>"
            ]
          },
          "metadata": {
            "tags": []
          }
        },
        {
          "output_type": "display_data",
          "data": {
            "text/latex": "$$\\text{ Formula for } K_P: \\frac{1}{2} \\left(\\beta^{2} P^{-1} \\eta_{P}^T P^{-2} \\eta_{P} P^{-2} + \\beta^{2} P^{-2} \\eta_{P} P^{-2} \\eta_{P}^T P^{-1} - 2 \\beta P^{-1} \\eta_{P} P^{-1} \\xi_{P} P^{-1} - 2 \\beta P^{-1} \\xi_{P} P^{-1} \\eta_{P} P^{-1}\\right)$$",
            "text/plain": [
              "<IPython.core.display.Math object>"
            ]
          },
          "metadata": {
            "tags": []
          }
        }
      ]
    },
    {
      "cell_type": "markdown",
      "metadata": {
        "id": "QIZ_tfIP4og8",
        "colab_type": "text"
      },
      "source": [
        "Now run the formula on the nullspace approach:"
      ]
    },
    {
      "cell_type": "code",
      "metadata": {
        "id": "PyUbrDLkrTcC",
        "colab_type": "code",
        "colab": {
          "base_uri": "https://localhost:8080/",
          "height": 126
        },
        "outputId": "51f95318-e40f-4ef2-e88e-9bd0c5ffafb3"
      },
      "source": [
        "a_P = asym_symb('a_P')\n",
        "a_YP, eta_Y, eta_P = matrices('a_YP eta_Y eta_P')\n",
        "aYPev = sym(a_YP)\n",
        "\n",
        "def EJ_inner(Y, P, a_P, a_YP, b_P, b_YP):\n",
        "    return trace(\n",
        "        mat_spfy(-a_P * b_P) + mat_spfy(\n",
        "            a_YP*t(b_YP)))\n",
        "def J(Y, P, omg_Y, omg_P):\n",
        "    J_P = mat_spfy(omg_P - t(omg_P))\n",
        "    J_YP = mat_spfy(\n",
        "        al1*t(Y)*omg_Y + bt*omg_P*inv(P) - bt*inv(P)*omg_P)\n",
        "\n",
        "    return J_P, J_YP\n",
        "\n",
        "def JT(Y, P, a_P, a_YP):\n",
        "    dY, dP = matrices('dY dP')\n",
        "    ipt = mat_spfy(\n",
        "        EJ_inner(Y, P, *J(Y, P, dY, dP), a_P, a_YP))\n",
        "    jty = mat_spfy(xtrace(ipt, dY))\n",
        "    jtp = mat_spfy(xtrace(ipt, dP))\n",
        "    return jty, jtp\n",
        "\n",
        "JTa_Y, JTa_P = JT(Y, P, a_P, a_YP)\n",
        "\n",
        "ginvJT = ginv(Y, P, JTa_Y, JTa_P)\n",
        "ginvJT_Y = mat_spfy(ginvJT[0])\n",
        "ginvJT_P = mat_spfy(ginvJT[1])\n",
        "display(Math('\\\\text{ Formula for } g^{-1}J^T_Y: %s' % sprint(ginvJT_Y)))\n",
        "display(Math('\\\\text{ Formula for } g^{-1}J^T_P: %s' % sprint(ginvJT_P)))\n",
        "\n",
        "b_P, b_YP = J(Y, P, *ginvJT)\n",
        "\n",
        "display(Math('\\\\text{ Formula for } (Jg^{-1}J^Ta)_P: %s' % sprint(b_P)))\n",
        "display(Math('\\\\text{ Formula for } (Jg^{-1}J^Ta)_{YP}: %s' % sprint(b_YP)))\n",
        "\n",
        "def DJ(Y, P, xi_Y, xi_P, eta_Y, eta_P):\n",
        "    expr_P, expr_YP = J(Y, P, eta_Y, eta_P)\n",
        "    der_P = DDR(expr_P, Y, xi_Y)+DDR(expr_P, P, xi_P)\n",
        "    der_YP = DDR(expr_YP, Y, xi_Y)+DDR(expr_YP, P, xi_P)\n",
        "    return mat_spfy(der_P), mat_spfy(der_YP)\n",
        "\n",
        "dj_expr = DJ(Y, P, xi_Y, xi_P, eta_Y, eta_P)\n",
        "display(Math('\\\\text{ Formula for } (DJ)\\eta: %s' % sprint(dj_expr)))\n"
      ],
      "execution_count": 7,
      "outputs": [
        {
          "output_type": "display_data",
          "data": {
            "text/latex": "$$\\text{ Formula for } g^{-1}J^T_Y: Y a_{YP}$$",
            "text/plain": [
              "<IPython.core.display.Math object>"
            ]
          },
          "metadata": {
            "tags": []
          }
        },
        {
          "output_type": "display_data",
          "data": {
            "text/latex": "$$\\text{ Formula for } g^{-1}J^T_P: P a_{YP} - a_{YP} P + \\frac{2 P}{\\beta} a_{P} P$$",
            "text/plain": [
              "<IPython.core.display.Math object>"
            ]
          },
          "metadata": {
            "tags": []
          }
        },
        {
          "output_type": "display_data",
          "data": {
            "text/latex": "$$\\text{ Formula for } (Jg^{-1}J^Ta)_P: P a_{YP} + P a_{YP}^T - a_{YP} P - a_{YP}^T P + \\frac{4 P}{\\beta} a_{P} P$$",
            "text/plain": [
              "<IPython.core.display.Math object>"
            ]
          },
          "metadata": {
            "tags": []
          }
        },
        {
          "output_type": "display_data",
          "data": {
            "text/latex": "$$\\text{ Formula for } (Jg^{-1}J^Ta)_{YP}: \\alpha_{1} a_{YP} + \\beta P a_{YP} P^{-1} - 2 \\beta a_{YP} + \\beta P^{-1} a_{YP} P + 2 P a_{P} - 2 a_{P} P$$",
            "text/plain": [
              "<IPython.core.display.Math object>"
            ]
          },
          "metadata": {
            "tags": []
          }
        },
        {
          "output_type": "display_data",
          "data": {
            "text/latex": "$$\\text{ Formula for } (DJ)\\eta: \\left ( 0, \\quad \\alpha_{1} \\xi_{Y}^T \\eta_{Y} - \\beta \\eta_{P} P^{-1} \\xi_{P} P^{-1} + \\beta P^{-1} \\xi_{P} P^{-1} \\eta_{P}\\right )$$",
            "text/plain": [
              "<IPython.core.display.Math object>"
            ]
          },
          "metadata": {
            "tags": []
          }
        }
      ]
    },
    {
      "cell_type": "markdown",
      "metadata": {
        "id": "46RNyAe9WWjt",
        "colab_type": "text"
      },
      "source": [
        "# Test for real positive-semidefinite\n",
        "We have a separate notebook for complex-semidefnite. Adjusting the ratio between alpha and beta at different periods in optimization"
      ]
    },
    {
      "cell_type": "code",
      "metadata": {
        "id": "_AQSkLP2XO8j",
        "colab_type": "code",
        "colab": {
          "base_uri": "https://localhost:8080/",
          "height": 136
        },
        "outputId": "fd0e2034-5b4d-4a6a-afb0-5a5023e382e3"
      },
      "source": [
        "import sys\n",
        "!git clone https://github.com/pymanopt/pymanopt.git\n",
        "\n",
        "sys.path.append(\"/content/pymanopt\")"
      ],
      "execution_count": 9,
      "outputs": [
        {
          "output_type": "stream",
          "text": [
            "Cloning into 'pymanopt'...\n",
            "remote: Enumerating objects: 77, done.\u001b[K\n",
            "remote: Counting objects: 100% (77/77), done.\u001b[K\n",
            "remote: Compressing objects: 100% (65/65), done.\u001b[K\n",
            "remote: Total 4124 (delta 43), reused 33 (delta 12), pack-reused 4047\u001b[K\n",
            "Receiving objects: 100% (4124/4124), 907.23 KiB | 1.23 MiB/s, done.\n",
            "Resolving deltas: 100% (2863/2863), done.\n"
          ],
          "name": "stdout"
        }
      ]
    },
    {
      "cell_type": "code",
      "metadata": {
        "id": "qG_Ovp8NW7M_",
        "colab_type": "code",
        "colab": {
          "base_uri": "https://localhost:8080/",
          "height": 1000
        },
        "outputId": "c52cdc03-ac33-41e4-9a36-8f5dd2f101a7"
      },
      "source": [
        "import numpy as np\n",
        "from numpy.random import (randint, randn)\n",
        "from numpy import zeros, trace, allclose\n",
        "import numpy.linalg as la\n",
        "\n",
        "from ManNullRange.manifolds.RealPositiveSemidefinite import (\n",
        "    RealPositiveSemidefinite, psd_ambient, psd_point)\n",
        "from ManNullRange.manifolds.tools import (sym, extended_lyapunov)\n",
        "from ManNullRange.tests.test_tools import check_zero, make_sym_pos, random_orthogonal\n",
        "\n",
        "\n",
        "def solve_dist_with_man(man, A, X0, maxiter):\n",
        "    from pymanopt import Problem\n",
        "    from pymanopt.solvers import TrustRegions\n",
        "    from pymanopt.function import Callable\n",
        "\n",
        "    @Callable\n",
        "    def cost(S):\n",
        "        if not(S.P.dtype == np.float):\n",
        "            raise(ValueError(\"Non real\"))\n",
        "        diff = (A - S.Y @ S.P @ S.Y.T)\n",
        "        val = trace(diff @ diff.T)\n",
        "        # print('val=%f' % val)\n",
        "        return val\n",
        "\n",
        "    @Callable\n",
        "    def egrad(S):\n",
        "        return psd_ambient(-4*A @ S.Y @ S.P,\n",
        "                           2*(S.P-S.Y.T @ A @ S.Y))\n",
        "    \n",
        "    @Callable\n",
        "    def ehess(S, xi):\n",
        "        return psd_ambient(\n",
        "            -4*A @ (xi.tY @ S.P + S.Y @ xi.tP),\n",
        "            2*(xi.tP - xi.tY.T @ A @ S.Y - S.Y.T @ A @ xi.tY))\n",
        "\n",
        "    prob = Problem(\n",
        "        man, cost, egrad=egrad, ehess=ehess)\n",
        "\n",
        "    solver = TrustRegions(maxtime=100000, maxiter=maxiter, use_rand=False)\n",
        "    opt = solver.solve(prob, x=X0, Delta_bar=250)\n",
        "    return opt\n",
        "\n",
        "n, d = (1000, 50)\n",
        "# simple function. Distance to a given matrix\n",
        "# || S - A||_F^2\n",
        "Y0, _ = np.linalg.qr(randn(n, d))\n",
        "P0 = np.diag(randint(1, 1000, d)*.001)\n",
        "A0 = sym(Y0 @ P0 @ Y0.T)\n",
        "A = sym(randn(n, n))*1e-2 + A0\n",
        "\n",
        "alpha = np.array([1, 1])\n",
        "print(\"alpha %s\" % str(alpha))\n",
        "\n",
        "beta = alpha[1] * .1\n",
        "man = RealPositiveSemidefinite(n, d, alpha=alpha, beta=beta)\n",
        "XInit = man.rand()\n",
        "opt_pre = solve_dist_with_man(man, A, X0=XInit, maxiter=20)\n",
        "\n",
        "beta = alpha[1] * 1\n",
        "man = RealPositiveSemidefinite(n, d, alpha=alpha, beta=beta)\n",
        "opt_mid = solve_dist_with_man(man, A, X0=opt_pre, maxiter=20)\n",
        "# opt_mid = opt_pre\n",
        "\n",
        "beta = alpha[1] * 30\n",
        "man = RealPositiveSemidefinite(n, d, alpha=alpha, beta=beta)\n",
        "opt = solve_dist_with_man(man, A, X0=opt_mid, maxiter=50)\n",
        "opt_mat = opt.Y @ opt.P @ opt.Y.T\n",
        "if False:\n",
        "    print(A0)\n",
        "    print(opt_mat)\n",
        "print(np.max(np.abs(A0-opt_mat)))\n"
      ],
      "execution_count": 13,
      "outputs": [
        {
          "output_type": "stream",
          "text": [
            "alpha [1 1]\n",
            "Optimizing...\n",
            "                                            f: +2.757896e+05   |grad|: 4.792588e+05\n",
            "acc       k:     1     num_inner:     3     f: +1.130920e+05   |grad|: 1.884589e+05   reached target residual-kappa (linear)\n",
            "acc       k:     2     num_inner:     3     f: +4.615305e+04   |grad|: 7.406179e+04   reached target residual-kappa (linear)\n",
            "acc       k:     3     num_inner:     3     f: +1.872130e+04   |grad|: 2.908329e+04   reached target residual-kappa (linear)\n",
            "acc       k:     4     num_inner:     3     f: +7.558696e+03   |grad|: 1.141192e+04   reached target residual-kappa (linear)\n",
            "acc       k:     5     num_inner:     3     f: +3.050542e+03   |grad|: 4.472914e+03   reached target residual-kappa (linear)\n",
            "acc       k:     6     num_inner:     2     f: +1.275048e+03   |grad|: 1.758553e+03   reached target residual-kappa (linear)\n",
            "acc       k:     7     num_inner:     2     f: +5.477706e+02   |grad|: 6.898368e+02   reached target residual-kappa (linear)\n",
            "acc       k:     8     num_inner:     3     f: +2.548733e+02   |grad|: 2.691080e+02   reached target residual-kappa (linear)\n",
            "acc       k:     9     num_inner:     3     f: +1.392309e+02   |grad|: 1.046332e+02   reached target residual-kappa (linear)\n",
            "acc       k:    10     num_inner:     3     f: +9.362854e+01   |grad|: 4.036931e+01   reached target residual-kappa (linear)\n",
            "REJ TR-   k:    11     num_inner:     4     f: +9.362854e+01   |grad|: 4.036931e+01   negative curvature\n",
            "acc       k:    12     num_inner:     4     f: +6.904696e+01   |grad|: 3.684617e+01   negative curvature\n",
            "REJ TR-   k:    13     num_inner:     7     f: +6.904696e+01   |grad|: 3.684617e+01   exceeded trust region\n",
            "acc TR+   k:    14     num_inner:     5     f: +5.581474e+01   |grad|: 1.471743e+01   exceeded trust region\n",
            "REJ TR-   k:    15     num_inner:     4     f: +5.581474e+01   |grad|: 1.471743e+01   exceeded trust region\n",
            "acc TR+   k:    16     num_inner:     3     f: +5.163964e+01   |grad|: 7.416354e+00   exceeded trust region\n",
            "acc       k:    17     num_inner:     3     f: +4.928768e+01   |grad|: 7.854227e+00   exceeded trust region\n",
            "acc       k:    18     num_inner:     5     f: +4.770724e+01   |grad|: 5.650434e+00   exceeded trust region\n",
            "acc TR+   k:    19     num_inner:     6     f: +4.608464e+01   |grad|: 2.622829e+00   exceeded trust region\n",
            "acc       k:    20     num_inner:     7     f: +4.565137e+01   |grad|: 3.092922e+00   exceeded trust region\n",
            "Terminated - max iterations reached after 9.09 seconds.\n",
            "\n",
            "Optimizing...\n",
            "                                            f: +4.565137e+01   |grad|: 1.522971e+00\n",
            "REJ TR-   k:     1     num_inner:     8     f: +4.565137e+01   |grad|: 1.522971e+00   exceeded trust region\n",
            "REJ TR-   k:     2     num_inner:     7     f: +4.565137e+01   |grad|: 1.522971e+00   exceeded trust region\n",
            "acc TR+   k:     3     num_inner:     5     f: +4.468607e+01   |grad|: 4.516117e-01   exceeded trust region\n",
            "REJ TR-   k:     4     num_inner:     6     f: +4.468607e+01   |grad|: 4.516117e-01   exceeded trust region\n",
            "acc TR+   k:     5     num_inner:     4     f: +4.452995e+01   |grad|: 3.552208e-01   exceeded trust region\n",
            "acc TR-   k:     6     num_inner:     5     f: +4.449689e+01   |grad|: 3.774389e-01   exceeded trust region\n",
            "acc TR+   k:     7     num_inner:     3     f: +4.440555e+01   |grad|: 1.154021e-01   exceeded trust region\n",
            "acc TR+   k:     8     num_inner:     5     f: +4.438129e+01   |grad|: 1.959107e-01   exceeded trust region\n",
            "acc       k:     9     num_inner:    10     f: +4.436631e+01   |grad|: 1.437207e-01   exceeded trust region\n",
            "acc       k:    10     num_inner:    29     f: +4.435042e+01   |grad|: 5.489013e-02   exceeded trust region\n",
            "acc       k:    11     num_inner:    30     f: +4.434560e+01   |grad|: 6.185248e-02   exceeded trust region\n",
            "acc TR+   k:    12     num_inner:    22     f: +4.433478e+01   |grad|: 6.441679e-02   exceeded trust region\n",
            "REJ TR-   k:    13     num_inner:     9     f: +4.433478e+01   |grad|: 6.441679e-02   exceeded trust region\n",
            "acc TR+   k:    14     num_inner:     7     f: +4.432047e+01   |grad|: 1.058748e-01   exceeded trust region\n",
            "acc TR-   k:    15     num_inner:     7     f: +4.431237e+01   |grad|: 3.156828e-01   exceeded trust region\n",
            "acc TR+   k:    16     num_inner:     2     f: +4.424891e+01   |grad|: 2.793312e-01   exceeded trust region\n",
            "acc       k:    17     num_inner:     4     f: +4.421298e+01   |grad|: 1.811157e-01   exceeded trust region\n",
            "acc       k:    18     num_inner:    13     f: +4.419326e+01   |grad|: 5.840431e-02   exceeded trust region\n",
            "acc       k:    19     num_inner:    13     f: +4.418733e+01   |grad|: 6.438840e-02   exceeded trust region\n",
            "acc       k:    20     num_inner:    22     f: +4.418330e+01   |grad|: 2.201720e-02   exceeded trust region\n",
            "Terminated - max iterations reached after 24.45 seconds.\n",
            "\n",
            "Optimizing...\n",
            "                                            f: +4.418330e+01   |grad|: 1.883762e-02\n",
            "REJ TR-   k:     1     num_inner:    37     f: +4.418330e+01   |grad|: 1.883762e-02   negative curvature\n",
            "REJ TR-   k:     2     num_inner:    36     f: +4.418330e+01   |grad|: 1.883762e-02   exceeded trust region\n",
            "REJ TR-   k:     3     num_inner:    35     f: +4.418330e+01   |grad|: 1.883762e-02   exceeded trust region\n",
            "acc TR+   k:     4     num_inner:    24     f: +4.418178e+01   |grad|: 5.960970e-03   exceeded trust region\n",
            "acc       k:     5     num_inner:    35     f: +4.418136e+01   |grad|: 7.184972e-03   exceeded trust region\n",
            "acc       k:     6     num_inner:   102     f: +4.418121e+01   |grad|: 5.228508e-04   reached target residual-theta (superlinear)\n",
            "acc       k:     7     num_inner:   114     f: +4.418121e+01   |grad|: 5.881184e-06   reached target residual-theta (superlinear)\n",
            "acc       k:     8     num_inner:   179     f: +4.418121e+01   |grad|: 1.328953e-09   reached target residual-theta (superlinear)\n",
            "Terminated - min grad norm reached after 8 iterations, 44.68 seconds.\n",
            "\n",
            "0.018046416619624875\n"
          ],
          "name": "stdout"
        }
      ]
    }
  ]
}