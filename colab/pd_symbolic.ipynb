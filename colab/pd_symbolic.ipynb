{
  "nbformat": 4,
  "nbformat_minor": 0,
  "metadata": {
    "colab": {
      "name": "pd_symbolic.ipynb",
      "provenance": [],
      "authorship_tag": "ABX9TyMsQ/uOBsg0vKl2hfVXFKUf",
      "include_colab_link": true
    },
    "kernelspec": {
      "name": "python3",
      "display_name": "Python 3"
    }
  },
  "cells": [
    {
      "cell_type": "markdown",
      "metadata": {
        "id": "view-in-github",
        "colab_type": "text"
      },
      "source": [
        "<a href=\"https://colab.research.google.com/github/dnguyend/ManNullRange/blob/master/colab/pd_symbolic.ipynb\" target=\"_parent\"><img src=\"https://colab.research.google.com/assets/colab-badge.svg\" alt=\"Open In Colab\"/></a>"
      ]
    },
    {
      "cell_type": "markdown",
      "metadata": {
        "id": "Pn2xKAK2143i",
        "colab_type": "text"
      },
      "source": [
        "### Demonstrating symbolic derivation of gradient and Hessian for the manifold of Positive-definite matrices\n",
        "\n",
        "$\\newcommand{\\JJ}{\\mathrm{J}}$\n",
        "$\\newcommand{\\rN}{\\mathrm{N}}$\n",
        "$\\newcommand{\\rD}{\\mathrm{D}}$\n",
        "$\\newcommand{\\rK}{\\mathrm{K}}$\n",
        "$\\newcommand{\\sfg}{\\mathsf{g}}$\n",
        "$\\newcommand{\\cE}{\\mathcal{E}}$\n",
        "$\\newcommand{\\cM}{\\mathcal{M}}$\n",
        "$\\newcommand{\\cH}{\\mathcal{H}}$\n",
        "$\\newcommand{\\ft}{\\mathfrak{t}}$\n",
        "$\\newcommand{\\Null}{\\mathsf{Null}}$\n",
        "$\\newcommand{\\xtrace}{\\mathsf{xtrace}}$\n",
        "$\\newcommand{\\rhess}{\\mathsf{rhess}}$\n",
        "# Formulas used here:\n",
        "* $\\JJ(P) = \\eta - \\eta^{\\ft}$. $\\Null(\\JJ)$ is the tangent space.\n",
        "* $\\sfg(P) = P^{-1}\\eta P^{-1}$, a metric\n",
        "  metric given as self-adjoint operator on ambient $\\cE$\n",
        "* $\\Pi_{\\sfg} = I - \\sfg^{-1}\\JJ^{\\ft}(\\JJ\\sfg^{-1}\\JJ^{\\ft})^{-1}\\JJ$ projection to $T_Y\\cM$.\n",
        "* Gradient is $\\Pi_{\\sfg}\\sfg^{-1}f_Y$ \n",
        "* $\\xtrace$: index raising operator for trace (Frobenius) inner product. Very simple for matrix expressions:\n",
        "   * $\\xtrace(AbC, b) = A^{\\ft}B^{\\ft}$ \n",
        "   * $\\xtrace(Ab^tC, b) = BA$ \n",
        "* $\\JJ^{\\ft}$ is evaluated by $\\xtrace$\n",
        "* $\\rK(\\xi, \\eta)$  Christoffel metric term  $\\frac{1}{2}((\\rD_{\\xi}\\sfg)\\eta + (\\rD_{\\eta})\\sfg\\xi-\\xtrace(\\langle(\\rD_\\phi\\sfg)\\xi, \\eta\\rangle_{\\cE}, \\phi))$ \\\\\n",
        "* $\\Gamma_{c}(\\xi, \\eta)$  Christoffel function $\\Pi_{\\sfg}\\sfg^{-1}\\rK(\\xi, \\eta)-(\\rD_{\\xi}\\Pi_{\\cH, \\sfg})\\eta$\n",
        "* $\\rhess^{02}(\\xi, \\eta) = f_{YY}(\\xi, \\eta) - \\langle \\Gamma_{c}(\\xi, \\eta)f_Y\\rangle$\n",
        "* $\\rhess^{11}\\xi = \\xtrace(\\rhess^{02}(\\xi, \\eta), \\eta)$\n"
      ]
    },
    {
      "cell_type": "code",
      "metadata": {
        "id": "K4oZpNY-tm3E",
        "colab_type": "code",
        "colab": {
          "base_uri": "https://localhost:8080/",
          "height": 136
        },
        "outputId": "88cedd16-ade8-4d8f-f9ec-6d8653d167ce"
      },
      "source": [
        "!git clone https://github.com/dnguyend/ManNullRange.git"
      ],
      "execution_count": null,
      "outputs": [
        {
          "output_type": "stream",
          "text": [
            "Cloning into 'ManNullRange'...\n",
            "remote: Enumerating objects: 144, done.\u001b[K\n",
            "remote: Counting objects: 100% (144/144), done.\u001b[K\n",
            "remote: Compressing objects: 100% (89/89), done.\u001b[K\n",
            "remote: Total 144 (delta 95), reused 89 (delta 54), pack-reused 0\u001b[K\n",
            "Receiving objects: 100% (144/144), 165.37 KiB | 5.01 MiB/s, done.\n",
            "Resolving deltas: 100% (95/95), done.\n"
          ],
          "name": "stdout"
        }
      ]
    },
    {
      "cell_type": "code",
      "metadata": {
        "id": "1-a_g8dBrRym",
        "colab_type": "code",
        "colab": {
          "base_uri": "https://localhost:8080/",
          "height": 34
        },
        "outputId": "bb9f1f9f-d33b-4ba9-abd1-52fd6684306e"
      },
      "source": [
        "!ls"
      ],
      "execution_count": null,
      "outputs": [
        {
          "output_type": "stream",
          "text": [
            "ManNullRange  sample_data\n"
          ],
          "name": "stdout"
        }
      ]
    },
    {
      "cell_type": "markdown",
      "metadata": {
        "id": "-V9xwlSXPCGO",
        "colab_type": "text"
      },
      "source": [
        "We import the main functions in the package to take directional derivatives, and perform index raising (xtrace), and pretty print the result in latex"
      ]
    },
    {
      "cell_type": "code",
      "metadata": {
        "id": "DzeJDq8yomGQ",
        "colab_type": "code",
        "colab": {}
      },
      "source": [
        "from collections import OrderedDict\n",
        "from IPython.display import display, Math\n",
        "from sympy import symbols, Integer\n",
        "from ManNullRange.symbolic import SymMat as sm\n",
        "from ManNullRange.symbolic.SymMat import (\n",
        "    matrices, t, mat_spfy, xtrace, trace, DDR,\n",
        "    latex_map, mat_latex, simplify_pd_tangent, inv)\n",
        "\n",
        "\n",
        "def pprint(expr):\n",
        "    display(Math(latex_map(mat_latex(expr), OrderedDict(\n",
        "        [('fYY', r'f_{YY}'), ('fY', 'f_Y'), ('al', r'\\alpha')]))))"
      ],
      "execution_count": null,
      "outputs": []
    },
    {
      "cell_type": "markdown",
      "metadata": {
        "id": "KlMsG4OH0XTJ",
        "colab_type": "text"
      },
      "source": [
        "The following define the main symbols and the operator J, g, g_inv. Note we do not have to derive J_adj on paper, it is derived through the index raising operator"
      ]
    },
    {
      "cell_type": "code",
      "metadata": {
        "id": "wGPuGLjaoxp-",
        "colab_type": "code",
        "colab": {
          "base_uri": "https://localhost:8080/",
          "height": 55
        },
        "outputId": "0dfd3343-e04b-430d-c926-7bb8d0c1a59f"
      },
      "source": [
        "if True:\n",
        "    \"\"\" For positive definite matrices\n",
        "    Y is a matrix point, a positive definite matrix\n",
        "    eta is an ambient point, same size with Y not necessarily\n",
        "    symmetric or invertible\n",
        "    b is a point in E_J. b is antisymmetric\n",
        "    \"\"\"\n",
        "    # eta is an ambient\n",
        "    Y = sm.sym_symb('Y')\n",
        "    eta = matrices('eta')\n",
        "    b = sm.asym_symb('b')\n",
        "    \n",
        "    def J(Y, eta):\n",
        "        return eta - t(eta)\n",
        "    \n",
        "    def J_adj(Y, a):\n",
        "        dY = symbols('dY', commutative=False)\n",
        "        return xtrace(trace(mat_spfy(J(Y, dY) * t(a))), dY)\n",
        "\n",
        "    def g(Y, eta):\n",
        "        return inv(Y)*eta*inv(Y)\n",
        "\n",
        "    def g_inv(Y, eta):\n",
        "        return Y*eta*Y\n",
        "    \n",
        "    J_g_inv_J_adj = J(Y, g_inv(Y, J_adj(Y, b)))\n",
        "    print(\"this is J_g_inv_J_adj\")\n",
        "    pprint(J_g_inv_J_adj)"
      ],
      "execution_count": null,
      "outputs": [
        {
          "output_type": "stream",
          "text": [
            "this is J_g_inv_J_adj\n"
          ],
          "name": "stdout"
        },
        {
          "output_type": "display_data",
          "data": {
            "text/latex": "$$4 Y b Y$$",
            "text/plain": [
              "<IPython.core.display.Math object>"
            ]
          },
          "metadata": {
            "tags": []
          }
        }
      ]
    },
    {
      "cell_type": "markdown",
      "metadata": {
        "id": "zqH4IArX1QzK",
        "colab_type": "text"
      },
      "source": [
        "We define a function to invert J_g_inv_J_adj, then from here projection is just composition of operators:"
      ]
    },
    {
      "cell_type": "code",
      "metadata": {
        "id": "psxDxme91Jqv",
        "colab_type": "code",
        "colab": {
          "base_uri": "https://localhost:8080/",
          "height": 100
        },
        "outputId": "9b4121aa-f7e2-466f-b47c-c98bbeaa065a"
      },
      "source": [
        "    def solve_JginvJadj(Y, a):\n",
        "        return Integer(1)/Integer(4)*inv(Y)*a*inv(Y)\n",
        "\n",
        "    def proj(Y, omg):\n",
        "        jo = mat_spfy(J(Y, omg))\n",
        "        cJinvjo = solve_JginvJadj(Y, jo)\n",
        "        return mat_spfy(omg - mat_spfy(\n",
        "            g_inv(Y, mat_spfy(J_adj(Y, cJinvjo)))))\n",
        "\n",
        "    def r_gradient(Y, omg):\n",
        "        return mat_spfy(\n",
        "            proj(Y, mat_spfy(g_inv(Y, omg))))\n",
        "    print(\"This is the projection\")\n",
        "    pprint(proj(Y, eta))\n",
        "    print(\"This is the gradient\")\n",
        "    pprint(r_gradient(Y, eta))\n"
      ],
      "execution_count": null,
      "outputs": [
        {
          "output_type": "stream",
          "text": [
            "This is the projection\n"
          ],
          "name": "stdout"
        },
        {
          "output_type": "display_data",
          "data": {
            "text/latex": "$$\\frac{\\eta}{2} + \\frac{\\eta^T}{2}$$",
            "text/plain": [
              "<IPython.core.display.Math object>"
            ]
          },
          "metadata": {
            "tags": []
          }
        },
        {
          "output_type": "stream",
          "text": [
            "This is the gradient\n"
          ],
          "name": "stdout"
        },
        {
          "output_type": "display_data",
          "data": {
            "text/latex": "$$\\frac{Y \\eta}{2} Y + \\frac{Y \\eta^T}{2} Y$$",
            "text/plain": [
              "<IPython.core.display.Math object>"
            ]
          },
          "metadata": {
            "tags": []
          }
        }
      ]
    },
    {
      "cell_type": "code",
      "metadata": {
        "id": "sCKi4usn1m25",
        "colab_type": "code",
        "colab": {
          "base_uri": "https://localhost:8080/",
          "height": 101
        },
        "outputId": "6479d6ac-c02e-488e-bb4a-b920c6eeeeb1"
      },
      "source": [
        "    xi, phi = matrices('xi phi')\n",
        "    xcross = xtrace(mat_spfy(trace(DDR(g(Y, eta), Y, phi) * t(xi))), phi)\n",
        "    K = (Integer(1)/Integer(2))*(\n",
        "        DDR(g(Y, eta), Y, xi) + DDR(g(Y, xi), Y, eta) - xcross)\n",
        "\n",
        "    def d_proj(Y, xi, omg):\n",
        "        e = matrices('e')\n",
        "        r = mat_spfy(proj(Y, e))\n",
        "        expr = DDR(r, Y, xi)\n",
        "        return expr.xreplace({e: omg})\n",
        "\n",
        "    dp_xi_eta = d_proj(Y, xi, eta)\n",
        "    prK = simplify_pd_tangent(proj(Y, mat_spfy(g_inv(Y, K))), Y, (xi, eta))\n",
        "    Gamma = mat_spfy(\n",
        "        simplify_pd_tangent(-dp_xi_eta+prK, Y, (xi, eta)))\n",
        "    print(\"This is the Christoffel function:\")\n",
        "    pprint(Gamma)\n",
        "    fY, fYY = matrices('fY fYY')\n",
        "    rhess02 = trace(mat_spfy(t(eta)*fYY*xi-Gamma * t(fY)))\n",
        "    rhess11_bf_gr = xtrace(rhess02, eta)\n",
        "    print(\"This is the Riemannian Hessian Vector Product:\")\n",
        "    pprint(r_gradient(Y, rhess11_bf_gr))      "
      ],
      "execution_count": null,
      "outputs": [
        {
          "output_type": "stream",
          "text": [
            "This is the Christoffel function:\n"
          ],
          "name": "stdout"
        },
        {
          "output_type": "display_data",
          "data": {
            "text/latex": "$$- \\frac{\\eta Y^{-1}}{2} \\xi - \\frac{\\xi Y^{-1}}{2} \\eta$$",
            "text/plain": [
              "<IPython.core.display.Math object>"
            ]
          },
          "metadata": {
            "tags": []
          }
        },
        {
          "output_type": "stream",
          "text": [
            "This is the Riemannian Hessian Vector Product:\n"
          ],
          "name": "stdout"
        },
        {
          "output_type": "display_data",
          "data": {
            "text/latex": "$$\\frac{Y f_Y}{4} \\xi^T + \\frac{Y f_{YY}}{2} \\xi Y + \\frac{Y f_Y^T}{4} \\xi + \\frac{Y \\xi^T}{2} f_{YY}^T Y + \\frac{\\xi f_Y^T}{4} Y + \\frac{\\xi^T f_Y}{4} Y$$",
            "text/plain": [
              "<IPython.core.display.Math object>"
            ]
          },
          "metadata": {
            "tags": []
          }
        }
      ]
    }
  ]
}