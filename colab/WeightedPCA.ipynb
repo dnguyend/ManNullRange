{
  "nbformat": 4,
  "nbformat_minor": 0,
  "metadata": {
    "colab": {
      "name": "WeightedPCA.ipynb",
      "provenance": [],
      "authorship_tag": "ABX9TyOL1aeCUef/mn/TsrJubjOi",
      "include_colab_link": true
    },
    "kernelspec": {
      "name": "python3",
      "display_name": "Python 3"
    }
  },
  "cells": [
    {
      "cell_type": "markdown",
      "metadata": {
        "id": "view-in-github",
        "colab_type": "text"
      },
      "source": [
        "<a href=\"https://colab.research.google.com/github/dnguyend/ManNullRange/blob/master/colab/WeightedPCA.ipynb\" target=\"_parent\"><img src=\"https://colab.research.google.com/assets/colab-badge.svg\" alt=\"Open In Colab\"/></a>"
      ]
    },
    {
      "cell_type": "code",
      "metadata": {
        "colab": {
          "base_uri": "https://localhost:8080/"
        },
        "id": "KDSFblPSJeye",
        "outputId": "137c3d0d-1c94-45ba-f1e3-bf9fb2fa4141"
      },
      "source": [
        "!git clone  https://github.com/pymanopt/pymanopt.git\r\n",
        "import sys\r\n",
        "sys.path.append(\"/content/pymanopt\")\r\n",
        "\r\n",
        "\r\n",
        "\r\n"
      ],
      "execution_count": 1,
      "outputs": [
        {
          "output_type": "stream",
          "text": [
            "Cloning into 'pymanopt'...\n",
            "remote: Enumerating objects: 3, done.\u001b[K\n",
            "remote: Counting objects: 100% (3/3), done.\u001b[K\n",
            "remote: Compressing objects: 100% (3/3), done.\u001b[K\n",
            "remote: Total 4127 (delta 0), reused 0 (delta 0), pack-reused 4124\u001b[K\n",
            "Receiving objects: 100% (4127/4127), 899.14 KiB | 13.83 MiB/s, done.\n",
            "Resolving deltas: 100% (2876/2876), done.\n"
          ],
          "name": "stdout"
        }
      ]
    },
    {
      "cell_type": "code",
      "metadata": {
        "id": "Yc0DgDiKJmIS"
      },
      "source": [
        "from pymanopt import Problem\r\n",
        "from pymanopt.solvers import TrustRegions\r\n",
        "from pymanopt.function import Callable"
      ],
      "execution_count": 2,
      "outputs": []
    },
    {
      "cell_type": "code",
      "metadata": {
        "colab": {
          "base_uri": "https://localhost:8080/"
        },
        "id": "AxCpr9fyKdx2",
        "outputId": "563d2d85-e44c-4e43-ad67-3d9f5007ecfa"
      },
      "source": [
        "!git clone  https://github.com/dnguyend/ManNullRange.git"
      ],
      "execution_count": 3,
      "outputs": [
        {
          "output_type": "stream",
          "text": [
            "Cloning into 'ManNullRange'...\n",
            "remote: Enumerating objects: 229, done.\u001b[K\n",
            "remote: Counting objects: 100% (229/229), done.\u001b[K\n",
            "remote: Compressing objects: 100% (170/170), done.\u001b[K\n",
            "remote: Total 229 (delta 150), reused 100 (delta 58), pack-reused 0\u001b[K\n",
            "Receiving objects: 100% (229/229), 680.17 KiB | 12.37 MiB/s, done.\n",
            "Resolving deltas: 100% (150/150), done.\n"
          ],
          "name": "stdout"
        }
      ]
    },
    {
      "cell_type": "markdown",
      "metadata": {
        "id": "gMRwhUEiVY3F"
      },
      "source": [
        "$\\newcommand{\\sfT}{\\mathsf{T}}$\r\n",
        "$\\newcommand{\\Tr}{\\mathrm{Tr}}$\r\n",
        "## WEIGHTED PCA\r\n",
        "Let $A$ be an $n\\times n$ matrix. The problem is to minimize $\\Tr(A-YPY^{\\sfT})W(A-YPY^{\\sfT})$\r\n",
        "* If $W$ is the identity matrix, this is the PCA problem.\r\n",
        "* We treat the case $W$ is a diagonal but not a multiple of the identity matrix\r\n",
        "* Optimize with different choices of $\\beta$"
      ]
    },
    {
      "cell_type": "code",
      "metadata": {
        "colab": {
          "base_uri": "https://localhost:8080/"
        },
        "id": "ktZy6gBFL1x7",
        "outputId": "f8f3b8fe-a558-4cb9-9338-0b2aa1d7a966"
      },
      "source": [
        "import numpy as np\r\n",
        "from numpy.random import (randint, randn)\r\n",
        "from numpy import zeros, trace, allclose\r\n",
        "import numpy.linalg as la\r\n",
        "\r\n",
        "from ManNullRange.manifolds.RealPositiveSemidefinite import (\r\n",
        "    RealPositiveSemidefinite, psd_ambient, psd_point)\r\n",
        "from ManNullRange.manifolds.tools import (sym, extended_lyapunov, asym)\r\n",
        "from ManNullRange.tests.test_tools import check_zero, make_sym_pos, random_orthogonal\r\n",
        "\r\n",
        "def solve_weigthed_dist(man, A, Wt, X0, maxiter):\r\n",
        "    from pymanopt import Problem\r\n",
        "    from pymanopt.solvers import TrustRegions\r\n",
        "    from pymanopt.function import Callable\r\n",
        "    @Callable\r\n",
        "    def cost(S):\r\n",
        "        Y, P = S.Y, S.P    \r\n",
        "        if not(S.P.dtype == np.float):\r\n",
        "            raise(ValueError(\"Non real\"))\r\n",
        "        diff = (A - Y @ P @ Y.T)\r\n",
        "        val = trace((diff*Wt[None, :]) @ diff.T)\r\n",
        "        return val\r\n",
        "\r\n",
        "    @Callable\r\n",
        "    def egrad(S):\r\n",
        "        Y, P = S.Y, S.P\r\n",
        "        \"\"\"\r\n",
        "        Xnew = X0._add_point(dlt*xi)\r\n",
        "        diff = A - Y @ P @ Y.T\r\n",
        "        diffNew = A - Y @ Xnew.P @ Y.T\r\n",
        "        print((np.trace(diffNew.T@(Wt[:, None]*diffNew)) -\r\n",
        "               np.trace(diff.T@(Wt[:, None]*diff)))/dlt)\r\n",
        "\r\n",
        "        print(np.trace(xi.tY.T@(-4*sym(A*Wt[None, :])@Y@P +\r\n",
        "                                2*(Wt[:, None]*Y)@P@P)))\r\n",
        "\r\n",
        "        print(np.trace(xi.tP.T@(-2*sym((Y.T@(Wt[:, None]*diff)@Y)))))\r\n",
        "        \"\"\"\r\n",
        "        return psd_ambient(-4*sym(A*Wt[None, :])@Y@P +\r\n",
        "                           2*(Wt[:, None]*Y)@P@P,\r\n",
        "                           -2*sym((Y.T*Wt[None, :])@(A@Y - Y @ P)))\r\n",
        "    \r\n",
        "    @Callable\r\n",
        "    def ehess(S, xi):\r\n",
        "        Y, P = S.Y, S.P        \r\n",
        "        return psd_ambient(\r\n",
        "            -4*sym(A*Wt[None, :])@(xi.tY@P + Y@xi.tP) +\r\n",
        "            2*(Wt[:, None]*xi.tY)@P@P + 2*(Wt[:, None]*Y)@(xi.tP@P + P@xi.tP),\r\n",
        "            -2*sym((xi.tY.T*Wt[None, :])@(A@Y - Y @ P))\r\n",
        "            - 2 * sym((Y.T*Wt[None, :])@(A@xi.tY - xi.tY @ P - Y@ xi.tP)))\r\n",
        "\r\n",
        "    if False:\r\n",
        "        dlt = 1e-7\r\n",
        "        xi = man.randvec(X0)\r\n",
        "        Xnew = X0._add_point(dlt*xi)\r\n",
        "        print((cost(Xnew) - cost(X0))/dlt)\r\n",
        "        print(man.base_inner_ambient(egrad(X0), xi))\r\n",
        "\r\n",
        "        print(check_zero(man._vec((egrad(Xnew) - egrad(X0)).scalar_mul(1/dlt)\r\n",
        "                                  - ehess(X0, xi))))\r\n",
        "\r\n",
        "    prob = Problem(\r\n",
        "        man, cost, egrad=egrad, ehess=ehess)\r\n",
        "\r\n",
        "    solver = TrustRegions(maxtime=100000, maxiter=maxiter, use_rand=False)\r\n",
        "    opt = solver.solve(prob, x=X0, Delta_bar=250)\r\n",
        "    return opt\r\n",
        "\r\n",
        "\r\n",
        "def optim_test_weighted(n, d):\r\n",
        "    np.random.seed(0)\r\n",
        "    # n, d = (1000, 50)\r\n",
        "    # n, d = (50, 10)\r\n",
        "    # simple function. Distance to a given matrix\r\n",
        "    # || S - A||_F^2\r\n",
        "    Y0, _ = np.linalg.qr(randn(n, d))\r\n",
        "    P0 = np.diag(randint(1, 1000, d)*.001)\r\n",
        "    A0 = sym(Y0 @ P0 @ Y0.T)\r\n",
        "    A = sym(randn(n, n))*4e-2 + A0\r\n",
        "    Wt = randint(1, 100, n)*.1\r\n",
        "    # Wt[:] = 1\r\n",
        "\r\n",
        "    alpha = np.array([1, 1])\r\n",
        "    print(\"alpha %s\" % str(alpha))\r\n",
        "\r\n",
        "    beta = alpha[1] * .1\r\n",
        "    man = RealPositiveSemidefinite(n, d, alpha=alpha, beta=beta)\r\n",
        "    XInit = man.rand()\r\n",
        "    opt_pre = solve_weigthed_dist(man, A, Wt, X0=XInit, maxiter=20)\r\n",
        "\r\n",
        "    beta = alpha[1] * 1\r\n",
        "    man = RealPositiveSemidefinite(n, d, alpha=alpha, beta=beta)\r\n",
        "    opt_mid = solve_weigthed_dist(man, A, Wt, X0=opt_pre, maxiter=20)\r\n",
        "    # opt_mid = opt_pre\r\n",
        "\r\n",
        "    beta = alpha[1] * 30\r\n",
        "    man = RealPositiveSemidefinite(n, d, alpha=alpha, beta=beta)\r\n",
        "    opt = solve_weigthed_dist(man, A, Wt, X0=opt_mid, maxiter=50)\r\n",
        "\r\n",
        "    eig1, _ = la.eigh(opt.P)\r\n",
        "    eig2, _ = la.eigh(opt.Y.T@A@opt.Y)\r\n",
        "    print(la.norm(eig1 - eig2)/la.norm(eig1))\r\n",
        "\r\n",
        "    opt_mat = opt.Y @ opt.P @ opt.Y.T\r\n",
        "    # diff = A0 - opt_mat\r\n",
        "    # print(1/n*np.sqrt(np.trace(diff.T@diff)))\r\n",
        "    print(1/n*np.sqrt(np.trace(A@A) + np.trace(opt.P@opt.P) -\r\n",
        "                      2*np.trace(opt.Y.T@A@opt.Y*opt.P)))\r\n",
        "                       \r\n",
        "\r\n",
        "    if False:\r\n",
        "        print(A0)\r\n",
        "        print(opt_mat)\r\n",
        "    print(np.max(np.abs(A0-opt_mat)))\r\n",
        "\r\n",
        "optim_test_weighted(1000, 50)"
      ],
      "execution_count": 4,
      "outputs": [
        {
          "output_type": "stream",
          "text": [
            "alpha [1 1]\n",
            "Optimizing...\n",
            "                                            f: +1.206349e+06   |grad|: 2.008159e+06\n",
            "acc       k:     1     num_inner:     3     f: +4.888830e+05   |grad|: 7.832394e+05   reached target residual-kappa (linear)\n",
            "acc       k:     2     num_inner:     3     f: +1.986492e+05   |grad|: 3.051699e+05   reached target residual-kappa (linear)\n",
            "acc       k:     3     num_inner:     3     f: +8.147057e+04   |grad|: 1.185767e+05   reached target residual-kappa (linear)\n",
            "acc       k:     4     num_inner:     3     f: +3.461704e+04   |grad|: 4.595197e+04   reached target residual-kappa (linear)\n",
            "acc       k:     5     num_inner:     3     f: +1.600353e+04   |grad|: 1.777529e+04   reached target residual-kappa (linear)\n",
            "acc       k:     6     num_inner:     3     f: +8.628074e+03   |grad|: 6.852137e+03   reached target residual-kappa (linear)\n",
            "acc       k:     7     num_inner:     3     f: +5.717272e+03   |grad|: 2.621415e+03   reached target residual-kappa (linear)\n",
            "acc       k:     8     num_inner:     3     f: +4.572242e+03   |grad|: 9.906318e+02   reached target residual-kappa (linear)\n",
            "REJ TR-   k:     9     num_inner:     5     f: +4.572242e+03   |grad|: 9.906318e+02   negative curvature\n",
            "acc       k:    10     num_inner:     5     f: +4.199379e+03   |grad|: 1.469000e+03   negative curvature\n",
            "REJ TR-   k:    11     num_inner:     8     f: +4.199379e+03   |grad|: 1.469000e+03   negative curvature\n",
            "acc TR+   k:    12     num_inner:     6     f: +3.727593e+03   |grad|: 5.206066e+02   exceeded trust region\n",
            "acc TR-   k:    13     num_inner:     5     f: +3.689187e+03   |grad|: 6.807000e+02   exceeded trust region\n",
            "acc TR+   k:    14     num_inner:     4     f: +3.481758e+03   |grad|: 2.270404e+02   exceeded trust region\n",
            "acc TR+   k:    15     num_inner:     4     f: +3.412861e+03   |grad|: 1.361037e+02   exceeded trust region\n",
            "REJ TR-   k:    16     num_inner:     5     f: +3.412861e+03   |grad|: 1.361037e+02   exceeded trust region\n",
            "acc TR+   k:    17     num_inner:     3     f: +3.383625e+03   |grad|: 1.001724e+02   exceeded trust region\n",
            "acc TR-   k:    18     num_inner:     3     f: +3.376672e+03   |grad|: 2.297181e+02   exceeded trust region\n",
            "acc TR+   k:    19     num_inner:     3     f: +3.349787e+03   |grad|: 7.760981e+01   exceeded trust region\n",
            "acc TR+   k:    20     num_inner:     4     f: +3.339260e+03   |grad|: 3.570469e+01   exceeded trust region\n",
            "Terminated - max iterations reached after 12.08 seconds.\n",
            "\n",
            "Optimizing...\n",
            "                                            f: +3.339260e+03   |grad|: 2.340838e+01\n",
            "REJ TR-   k:     1     num_inner:     7     f: +3.339260e+03   |grad|: 2.340838e+01   exceeded trust region\n",
            "REJ TR-   k:     2     num_inner:     7     f: +3.339260e+03   |grad|: 2.340838e+01   exceeded trust region\n",
            "acc TR+   k:     3     num_inner:     4     f: +3.331398e+03   |grad|: 1.082170e+01   exceeded trust region\n",
            "acc TR-   k:     4     num_inner:     9     f: +3.330415e+03   |grad|: 1.429776e+01   exceeded trust region\n",
            "acc TR+   k:     5     num_inner:     7     f: +3.327082e+03   |grad|: 3.829628e+00   exceeded trust region\n",
            "acc       k:     6     num_inner:    16     f: +3.326856e+03   |grad|: 4.544449e+00   exceeded trust region\n",
            "acc       k:     7     num_inner:    37     f: +3.326617e+03   |grad|: 4.099009e+00   exceeded trust region\n",
            "REJ TR-   k:     8     num_inner:    13     f: +3.326617e+03   |grad|: 4.099009e+00   exceeded trust region\n",
            "acc       k:     9     num_inner:    12     f: +3.326421e+03   |grad|: 1.481670e+00   exceeded trust region\n",
            "acc       k:    10     num_inner:    21     f: +3.326379e+03   |grad|: 1.101898e+00   exceeded trust region\n",
            "acc       k:    11     num_inner:    23     f: +3.326365e+03   |grad|: 1.093753e+00   exceeded trust region\n",
            "acc       k:    12     num_inner:    25     f: +3.326350e+03   |grad|: 9.356104e-01   exceeded trust region\n",
            "acc       k:    13     num_inner:    30     f: +3.326339e+03   |grad|: 7.660955e-01   exceeded trust region\n",
            "acc       k:    14     num_inner:    25     f: +3.326325e+03   |grad|: 7.879888e-02   reached target residual-kappa (linear)\n",
            "acc TR+   k:    15     num_inner:    80     f: +3.326323e+03   |grad|: 1.056839e-01   exceeded trust region\n",
            "acc TR+   k:    16     num_inner:    84     f: +3.326320e+03   |grad|: 1.955747e-01   exceeded trust region\n",
            "acc       k:    17     num_inner:    72     f: +3.326314e+03   |grad|: 1.163703e+00   exceeded trust region\n",
            "acc TR-   k:    18     num_inner:    29     f: +3.326303e+03   |grad|: 2.378073e+00   exceeded trust region\n",
            "acc TR+   k:    19     num_inner:    11     f: +3.326167e+03   |grad|: 9.524668e-01   exceeded trust region\n",
            "acc TR+   k:    20     num_inner:    12     f: +3.326022e+03   |grad|: 1.755853e+00   exceeded trust region\n",
            "Terminated - max iterations reached after 56.02 seconds.\n",
            "\n",
            "Optimizing...\n",
            "                                            f: +3.326022e+03   |grad|: 1.683197e+00\n",
            "REJ TR-   k:     1     num_inner:    40     f: +3.326022e+03   |grad|: 1.683197e+00   exceeded trust region\n",
            "acc TR+   k:     2     num_inner:    37     f: +3.325654e+03   |grad|: 3.904504e+00   exceeded trust region\n",
            "REJ TR-   k:     3     num_inner:    29     f: +3.325654e+03   |grad|: 3.904504e+00   exceeded trust region\n",
            "acc       k:     4     num_inner:    26     f: +3.325098e+03   |grad|: 4.815257e+00   exceeded trust region\n",
            "acc TR+   k:     5     num_inner:    24     f: +3.323552e+03   |grad|: 3.670145e+00   exceeded trust region\n",
            "acc       k:     6     num_inner:    20     f: +3.321477e+03   |grad|: 7.107665e+00   exceeded trust region\n",
            "REJ TR-   k:     7     num_inner:    11     f: +3.321477e+03   |grad|: 7.107665e+00   exceeded trust region\n",
            "acc       k:     8     num_inner:     6     f: +3.318660e+03   |grad|: 5.971596e+00   exceeded trust region\n",
            "acc TR+   k:     9     num_inner:    10     f: +3.316464e+03   |grad|: 3.943625e+00   exceeded trust region\n",
            "acc TR-   k:    10     num_inner:    15     f: +3.316025e+03   |grad|: 7.171587e+00   exceeded trust region\n",
            "acc TR+   k:    11     num_inner:    13     f: +3.314698e+03   |grad|: 1.362498e+00   exceeded trust region\n",
            "acc       k:    12     num_inner:    24     f: +3.314552e+03   |grad|: 2.672969e-01   reached target residual-kappa (linear)\n",
            "acc       k:    13     num_inner:    42     f: +3.314547e+03   |grad|: 6.181969e-02   reached target residual-kappa (linear)\n",
            "acc       k:    14     num_inner:    44     f: +3.314547e+03   |grad|: 3.807033e-03   reached target residual-theta (superlinear)\n",
            "acc       k:    15     num_inner:   100     f: +3.314547e+03   |grad|: 2.009472e-05   reached target residual-theta (superlinear)\n",
            "acc       k:    16     num_inner:   159     f: +3.314547e+03   |grad|: 1.057170e-09   model increased\n",
            "Terminated - min grad norm reached after 16 iterations, 62.91 seconds.\n",
            "\n",
            "0.02593529141734762\n",
            "0.026354595154796136\n",
            "0.16376259080994432\n"
          ],
          "name": "stdout"
        }
      ]
    },
    {
      "cell_type": "markdown",
      "metadata": {
        "id": "4xlyQuwBXtvv"
      },
      "source": [
        "# plotting the progress of the optimization\r\n",
        "* Copy the output of the run above\r\n",
        "* then save the file to your local drive\r\n",
        "* then upload as below. Save data to 'opt_data.txt' in your /content folder"
      ]
    },
    {
      "cell_type": "code",
      "metadata": {
        "colab": {
          "resources": {
            "http://localhost:8080/nbextensions/google.colab/files.js": {
              "data": "Ly8gQ29weXJpZ2h0IDIwMTcgR29vZ2xlIExMQwovLwovLyBMaWNlbnNlZCB1bmRlciB0aGUgQXBhY2hlIExpY2Vuc2UsIFZlcnNpb24gMi4wICh0aGUgIkxpY2Vuc2UiKTsKLy8geW91IG1heSBub3QgdXNlIHRoaXMgZmlsZSBleGNlcHQgaW4gY29tcGxpYW5jZSB3aXRoIHRoZSBMaWNlbnNlLgovLyBZb3UgbWF5IG9idGFpbiBhIGNvcHkgb2YgdGhlIExpY2Vuc2UgYXQKLy8KLy8gICAgICBodHRwOi8vd3d3LmFwYWNoZS5vcmcvbGljZW5zZXMvTElDRU5TRS0yLjAKLy8KLy8gVW5sZXNzIHJlcXVpcmVkIGJ5IGFwcGxpY2FibGUgbGF3IG9yIGFncmVlZCB0byBpbiB3cml0aW5nLCBzb2Z0d2FyZQovLyBkaXN0cmlidXRlZCB1bmRlciB0aGUgTGljZW5zZSBpcyBkaXN0cmlidXRlZCBvbiBhbiAiQVMgSVMiIEJBU0lTLAovLyBXSVRIT1VUIFdBUlJBTlRJRVMgT1IgQ09ORElUSU9OUyBPRiBBTlkgS0lORCwgZWl0aGVyIGV4cHJlc3Mgb3IgaW1wbGllZC4KLy8gU2VlIHRoZSBMaWNlbnNlIGZvciB0aGUgc3BlY2lmaWMgbGFuZ3VhZ2UgZ292ZXJuaW5nIHBlcm1pc3Npb25zIGFuZAovLyBsaW1pdGF0aW9ucyB1bmRlciB0aGUgTGljZW5zZS4KCi8qKgogKiBAZmlsZW92ZXJ2aWV3IEhlbHBlcnMgZm9yIGdvb2dsZS5jb2xhYiBQeXRob24gbW9kdWxlLgogKi8KKGZ1bmN0aW9uKHNjb3BlKSB7CmZ1bmN0aW9uIHNwYW4odGV4dCwgc3R5bGVBdHRyaWJ1dGVzID0ge30pIHsKICBjb25zdCBlbGVtZW50ID0gZG9jdW1lbnQuY3JlYXRlRWxlbWVudCgnc3BhbicpOwogIGVsZW1lbnQudGV4dENvbnRlbnQgPSB0ZXh0OwogIGZvciAoY29uc3Qga2V5IG9mIE9iamVjdC5rZXlzKHN0eWxlQXR0cmlidXRlcykpIHsKICAgIGVsZW1lbnQuc3R5bGVba2V5XSA9IHN0eWxlQXR0cmlidXRlc1trZXldOwogIH0KICByZXR1cm4gZWxlbWVudDsKfQoKLy8gTWF4IG51bWJlciBvZiBieXRlcyB3aGljaCB3aWxsIGJlIHVwbG9hZGVkIGF0IGEgdGltZS4KY29uc3QgTUFYX1BBWUxPQURfU0laRSA9IDEwMCAqIDEwMjQ7CgpmdW5jdGlvbiBfdXBsb2FkRmlsZXMoaW5wdXRJZCwgb3V0cHV0SWQpIHsKICBjb25zdCBzdGVwcyA9IHVwbG9hZEZpbGVzU3RlcChpbnB1dElkLCBvdXRwdXRJZCk7CiAgY29uc3Qgb3V0cHV0RWxlbWVudCA9IGRvY3VtZW50LmdldEVsZW1lbnRCeUlkKG91dHB1dElkKTsKICAvLyBDYWNoZSBzdGVwcyBvbiB0aGUgb3V0cHV0RWxlbWVudCB0byBtYWtlIGl0IGF2YWlsYWJsZSBmb3IgdGhlIG5leHQgY2FsbAogIC8vIHRvIHVwbG9hZEZpbGVzQ29udGludWUgZnJvbSBQeXRob24uCiAgb3V0cHV0RWxlbWVudC5zdGVwcyA9IHN0ZXBzOwoKICByZXR1cm4gX3VwbG9hZEZpbGVzQ29udGludWUob3V0cHV0SWQpOwp9CgovLyBUaGlzIGlzIHJvdWdobHkgYW4gYXN5bmMgZ2VuZXJhdG9yIChub3Qgc3VwcG9ydGVkIGluIHRoZSBicm93c2VyIHlldCksCi8vIHdoZXJlIHRoZXJlIGFyZSBtdWx0aXBsZSBhc3luY2hyb25vdXMgc3RlcHMgYW5kIHRoZSBQeXRob24gc2lkZSBpcyBnb2luZwovLyB0byBwb2xsIGZvciBjb21wbGV0aW9uIG9mIGVhY2ggc3RlcC4KLy8gVGhpcyB1c2VzIGEgUHJvbWlzZSB0byBibG9jayB0aGUgcHl0aG9uIHNpZGUgb24gY29tcGxldGlvbiBvZiBlYWNoIHN0ZXAsCi8vIHRoZW4gcGFzc2VzIHRoZSByZXN1bHQgb2YgdGhlIHByZXZpb3VzIHN0ZXAgYXMgdGhlIGlucHV0IHRvIHRoZSBuZXh0IHN0ZXAuCmZ1bmN0aW9uIF91cGxvYWRGaWxlc0NvbnRpbnVlKG91dHB1dElkKSB7CiAgY29uc3Qgb3V0cHV0RWxlbWVudCA9IGRvY3VtZW50LmdldEVsZW1lbnRCeUlkKG91dHB1dElkKTsKICBjb25zdCBzdGVwcyA9IG91dHB1dEVsZW1lbnQuc3RlcHM7CgogIGNvbnN0IG5leHQgPSBzdGVwcy5uZXh0KG91dHB1dEVsZW1lbnQubGFzdFByb21pc2VWYWx1ZSk7CiAgcmV0dXJuIFByb21pc2UucmVzb2x2ZShuZXh0LnZhbHVlLnByb21pc2UpLnRoZW4oKHZhbHVlKSA9PiB7CiAgICAvLyBDYWNoZSB0aGUgbGFzdCBwcm9taXNlIHZhbHVlIHRvIG1ha2UgaXQgYXZhaWxhYmxlIHRvIHRoZSBuZXh0CiAgICAvLyBzdGVwIG9mIHRoZSBnZW5lcmF0b3IuCiAgICBvdXRwdXRFbGVtZW50Lmxhc3RQcm9taXNlVmFsdWUgPSB2YWx1ZTsKICAgIHJldHVybiBuZXh0LnZhbHVlLnJlc3BvbnNlOwogIH0pOwp9CgovKioKICogR2VuZXJhdG9yIGZ1bmN0aW9uIHdoaWNoIGlzIGNhbGxlZCBiZXR3ZWVuIGVhY2ggYXN5bmMgc3RlcCBvZiB0aGUgdXBsb2FkCiAqIHByb2Nlc3MuCiAqIEBwYXJhbSB7c3RyaW5nfSBpbnB1dElkIEVsZW1lbnQgSUQgb2YgdGhlIGlucHV0IGZpbGUgcGlja2VyIGVsZW1lbnQuCiAqIEBwYXJhbSB7c3RyaW5nfSBvdXRwdXRJZCBFbGVtZW50IElEIG9mIHRoZSBvdXRwdXQgZGlzcGxheS4KICogQHJldHVybiB7IUl0ZXJhYmxlPCFPYmplY3Q+fSBJdGVyYWJsZSBvZiBuZXh0IHN0ZXBzLgogKi8KZnVuY3Rpb24qIHVwbG9hZEZpbGVzU3RlcChpbnB1dElkLCBvdXRwdXRJZCkgewogIGNvbnN0IGlucHV0RWxlbWVudCA9IGRvY3VtZW50LmdldEVsZW1lbnRCeUlkKGlucHV0SWQpOwogIGlucHV0RWxlbWVudC5kaXNhYmxlZCA9IGZhbHNlOwoKICBjb25zdCBvdXRwdXRFbGVtZW50ID0gZG9jdW1lbnQuZ2V0RWxlbWVudEJ5SWQob3V0cHV0SWQpOwogIG91dHB1dEVsZW1lbnQuaW5uZXJIVE1MID0gJyc7CgogIGNvbnN0IHBpY2tlZFByb21pc2UgPSBuZXcgUHJvbWlzZSgocmVzb2x2ZSkgPT4gewogICAgaW5wdXRFbGVtZW50LmFkZEV2ZW50TGlzdGVuZXIoJ2NoYW5nZScsIChlKSA9PiB7CiAgICAgIHJlc29sdmUoZS50YXJnZXQuZmlsZXMpOwogICAgfSk7CiAgfSk7CgogIGNvbnN0IGNhbmNlbCA9IGRvY3VtZW50LmNyZWF0ZUVsZW1lbnQoJ2J1dHRvbicpOwogIGlucHV0RWxlbWVudC5wYXJlbnRFbGVtZW50LmFwcGVuZENoaWxkKGNhbmNlbCk7CiAgY2FuY2VsLnRleHRDb250ZW50ID0gJ0NhbmNlbCB1cGxvYWQnOwogIGNvbnN0IGNhbmNlbFByb21pc2UgPSBuZXcgUHJvbWlzZSgocmVzb2x2ZSkgPT4gewogICAgY2FuY2VsLm9uY2xpY2sgPSAoKSA9PiB7CiAgICAgIHJlc29sdmUobnVsbCk7CiAgICB9OwogIH0pOwoKICAvLyBXYWl0IGZvciB0aGUgdXNlciB0byBwaWNrIHRoZSBmaWxlcy4KICBjb25zdCBmaWxlcyA9IHlpZWxkIHsKICAgIHByb21pc2U6IFByb21pc2UucmFjZShbcGlja2VkUHJvbWlzZSwgY2FuY2VsUHJvbWlzZV0pLAogICAgcmVzcG9uc2U6IHsKICAgICAgYWN0aW9uOiAnc3RhcnRpbmcnLAogICAgfQogIH07CgogIGNhbmNlbC5yZW1vdmUoKTsKCiAgLy8gRGlzYWJsZSB0aGUgaW5wdXQgZWxlbWVudCBzaW5jZSBmdXJ0aGVyIHBpY2tzIGFyZSBub3QgYWxsb3dlZC4KICBpbnB1dEVsZW1lbnQuZGlzYWJsZWQgPSB0cnVlOwoKICBpZiAoIWZpbGVzKSB7CiAgICByZXR1cm4gewogICAgICByZXNwb25zZTogewogICAgICAgIGFjdGlvbjogJ2NvbXBsZXRlJywKICAgICAgfQogICAgfTsKICB9CgogIGZvciAoY29uc3QgZmlsZSBvZiBmaWxlcykgewogICAgY29uc3QgbGkgPSBkb2N1bWVudC5jcmVhdGVFbGVtZW50KCdsaScpOwogICAgbGkuYXBwZW5kKHNwYW4oZmlsZS5uYW1lLCB7Zm9udFdlaWdodDogJ2JvbGQnfSkpOwogICAgbGkuYXBwZW5kKHNwYW4oCiAgICAgICAgYCgke2ZpbGUudHlwZSB8fCAnbi9hJ30pIC0gJHtmaWxlLnNpemV9IGJ5dGVzLCBgICsKICAgICAgICBgbGFzdCBtb2RpZmllZDogJHsKICAgICAgICAgICAgZmlsZS5sYXN0TW9kaWZpZWREYXRlID8gZmlsZS5sYXN0TW9kaWZpZWREYXRlLnRvTG9jYWxlRGF0ZVN0cmluZygpIDoKICAgICAgICAgICAgICAgICAgICAgICAgICAgICAgICAgICAgJ24vYSd9IC0gYCkpOwogICAgY29uc3QgcGVyY2VudCA9IHNwYW4oJzAlIGRvbmUnKTsKICAgIGxpLmFwcGVuZENoaWxkKHBlcmNlbnQpOwoKICAgIG91dHB1dEVsZW1lbnQuYXBwZW5kQ2hpbGQobGkpOwoKICAgIGNvbnN0IGZpbGVEYXRhUHJvbWlzZSA9IG5ldyBQcm9taXNlKChyZXNvbHZlKSA9PiB7CiAgICAgIGNvbnN0IHJlYWRlciA9IG5ldyBGaWxlUmVhZGVyKCk7CiAgICAgIHJlYWRlci5vbmxvYWQgPSAoZSkgPT4gewogICAgICAgIHJlc29sdmUoZS50YXJnZXQucmVzdWx0KTsKICAgICAgfTsKICAgICAgcmVhZGVyLnJlYWRBc0FycmF5QnVmZmVyKGZpbGUpOwogICAgfSk7CiAgICAvLyBXYWl0IGZvciB0aGUgZGF0YSB0byBiZSByZWFkeS4KICAgIGxldCBmaWxlRGF0YSA9IHlpZWxkIHsKICAgICAgcHJvbWlzZTogZmlsZURhdGFQcm9taXNlLAogICAgICByZXNwb25zZTogewogICAgICAgIGFjdGlvbjogJ2NvbnRpbnVlJywKICAgICAgfQogICAgfTsKCiAgICAvLyBVc2UgYSBjaHVua2VkIHNlbmRpbmcgdG8gYXZvaWQgbWVzc2FnZSBzaXplIGxpbWl0cy4gU2VlIGIvNjIxMTU2NjAuCiAgICBsZXQgcG9zaXRpb24gPSAwOwogICAgd2hpbGUgKHBvc2l0aW9uIDwgZmlsZURhdGEuYnl0ZUxlbmd0aCkgewogICAgICBjb25zdCBsZW5ndGggPSBNYXRoLm1pbihmaWxlRGF0YS5ieXRlTGVuZ3RoIC0gcG9zaXRpb24sIE1BWF9QQVlMT0FEX1NJWkUpOwogICAgICBjb25zdCBjaHVuayA9IG5ldyBVaW50OEFycmF5KGZpbGVEYXRhLCBwb3NpdGlvbiwgbGVuZ3RoKTsKICAgICAgcG9zaXRpb24gKz0gbGVuZ3RoOwoKICAgICAgY29uc3QgYmFzZTY0ID0gYnRvYShTdHJpbmcuZnJvbUNoYXJDb2RlLmFwcGx5KG51bGwsIGNodW5rKSk7CiAgICAgIHlpZWxkIHsKICAgICAgICByZXNwb25zZTogewogICAgICAgICAgYWN0aW9uOiAnYXBwZW5kJywKICAgICAgICAgIGZpbGU6IGZpbGUubmFtZSwKICAgICAgICAgIGRhdGE6IGJhc2U2NCwKICAgICAgICB9LAogICAgICB9OwogICAgICBwZXJjZW50LnRleHRDb250ZW50ID0KICAgICAgICAgIGAke01hdGgucm91bmQoKHBvc2l0aW9uIC8gZmlsZURhdGEuYnl0ZUxlbmd0aCkgKiAxMDApfSUgZG9uZWA7CiAgICB9CiAgfQoKICAvLyBBbGwgZG9uZS4KICB5aWVsZCB7CiAgICByZXNwb25zZTogewogICAgICBhY3Rpb246ICdjb21wbGV0ZScsCiAgICB9CiAgfTsKfQoKc2NvcGUuZ29vZ2xlID0gc2NvcGUuZ29vZ2xlIHx8IHt9OwpzY29wZS5nb29nbGUuY29sYWIgPSBzY29wZS5nb29nbGUuY29sYWIgfHwge307CnNjb3BlLmdvb2dsZS5jb2xhYi5fZmlsZXMgPSB7CiAgX3VwbG9hZEZpbGVzLAogIF91cGxvYWRGaWxlc0NvbnRpbnVlLAp9Owp9KShzZWxmKTsK",
              "ok": true,
              "headers": [
                [
                  "content-type",
                  "application/javascript"
                ]
              ],
              "status": 200,
              "status_text": ""
            }
          },
          "base_uri": "https://localhost:8080/",
          "height": 109
        },
        "id": "z6VTTdcMTioS",
        "outputId": "8ded6cdc-9eb5-4b38-e775-ed938f12a259"
      },
      "source": [
        "\r\n",
        "\r\n",
        "from google.colab import files\r\n",
        "files.upload()"
      ],
      "execution_count": 5,
      "outputs": [
        {
          "output_type": "display_data",
          "data": {
            "text/html": [
              "\n",
              "     <input type=\"file\" id=\"files-8c864aeb-ebb0-4396-80b3-764bd5f30ae0\" name=\"files[]\" multiple disabled\n",
              "        style=\"border:none\" />\n",
              "     <output id=\"result-8c864aeb-ebb0-4396-80b3-764bd5f30ae0\">\n",
              "      Upload widget is only available when the cell has been executed in the\n",
              "      current browser session. Please rerun this cell to enable.\n",
              "      </output>\n",
              "      <script src=\"/nbextensions/google.colab/files.js\"></script> "
            ],
            "text/plain": [
              "<IPython.core.display.HTML object>"
            ]
          },
          "metadata": {
            "tags": []
          }
        },
        {
          "output_type": "stream",
          "text": [
            "Saving opt_data.txt to opt_data.txt\n"
          ],
          "name": "stdout"
        },
        {
          "output_type": "execute_result",
          "data": {
            "text/plain": [
              "{'opt_data.txt': b'import numpy as np\\r\\nfrom numpy.random import (randint, randn)\\r\\nfrom numpy import zeros, trace, allclose\\r\\nimport numpy.linalg as la\\r\\n\\r\\nfrom ManNullRange.manifolds.RealPositiveSemidefinite import (\\r\\n    RealPositiveSemidefinite, psd_ambient, psd_point)\\r\\nfrom ManNullRange.manifolds.tools import (sym, extended_lyapunov, asym)\\r\\nfrom ManNullRange.tests.test_tools import check_zero, make_sym_pos, random_orthogonal\\r\\n\\r\\ndef solve_weigthed_dist(man, A, Wt, X0, maxiter):\\r\\n    from pymanopt import Problem\\r\\n    from pymanopt.solvers import TrustRegions\\r\\n    from pymanopt.function import Callable\\r\\n    @Callable\\r\\n    def cost(S):\\r\\n        Y, P = S.Y, S.P    \\r\\n        if not(S.P.dtype == np.float):\\r\\n            raise(ValueError(\"Non real\"))\\r\\n        diff = (A - Y @ P @ Y.T)\\r\\n        val = trace((diff*Wt[None, :]) @ diff.T)\\r\\n        return val\\r\\n\\r\\n    @Callable\\r\\n    def egrad(S):\\r\\n        Y, P = S.Y, S.P\\r\\n        \"\"\"\\r\\n        Xnew = X0._add_point(dlt*xi)\\r\\n        diff = A - Y @ P @ Y.T\\r\\n        diffNew = A - Y @ Xnew.P @ Y.T\\r\\n        print((np.trace(diffNew.T@(Wt[:, None]*diffNew)) -\\r\\n               np.trace(diff.T@(Wt[:, None]*diff)))/dlt)\\r\\n\\r\\n        print(np.trace(xi.tY.T@(-4*sym(A*Wt[None, :])@Y@P +\\r\\n                                2*(Wt[:, None]*Y)@P@P)))\\r\\n\\r\\n        print(np.trace(xi.tP.T@(-2*sym((Y.T@(Wt[:, None]*diff)@Y)))))\\r\\n        \"\"\"\\r\\n        return psd_ambient(-4*sym(A*Wt[None, :])@Y@P +\\r\\n                           2*(Wt[:, None]*Y)@P@P,\\r\\n                           -2*sym((Y.T*Wt[None, :])@(A@Y - Y @ P)))\\r\\n    \\r\\n    @Callable\\r\\n    def ehess(S, xi):\\r\\n        Y, P = S.Y, S.P        \\r\\n        return psd_ambient(\\r\\n            -4*sym(A*Wt[None, :])@(xi.tY@P + Y@xi.tP) +\\r\\n            2*(Wt[:, None]*xi.tY)@P@P + 2*(Wt[:, None]*Y)@(xi.tP@P + P@xi.tP),\\r\\n            -2*sym((xi.tY.T*Wt[None, :])@(A@Y - Y @ P))\\r\\n            - 2 * sym((Y.T*Wt[None, :])@(A@xi.tY - xi.tY @ P - Y@ xi.tP)))\\r\\n\\r\\n    if False:\\r\\n        dlt = 1e-7\\r\\n        xi = man.randvec(X0)\\r\\n        Xnew = X0._add_point(dlt*xi)\\r\\n        print((cost(Xnew) - cost(X0))/dlt)\\r\\n        print(man.base_inner_ambient(egrad(X0), xi))\\r\\n\\r\\n        print(check_zero(man._vec((egrad(Xnew) - egrad(X0)).scalar_mul(1/dlt)\\r\\n                                  - ehess(X0, xi))))\\r\\n\\r\\n    prob = Problem(\\r\\n        man, cost, egrad=egrad, ehess=ehess)\\r\\n\\r\\n    solver = TrustRegions(maxtime=100000, maxiter=maxiter, use_rand=False)\\r\\n    opt = solver.solve(prob, x=X0, Delta_bar=250)\\r\\n    return opt\\r\\n\\r\\n\\r\\ndef optim_test_weighted(n, d):\\r\\n    np.random.seed(0)\\r\\n    # n, d = (1000, 50)\\r\\n    # n, d = (50, 10)\\r\\n    # simple function. Distance to a given matrix\\r\\n    # || S - A||_F^2\\r\\n    Y0, _ = np.linalg.qr(randn(n, d))\\r\\n    P0 = np.diag(randint(1, 1000, d)*.001)\\r\\n    A0 = sym(Y0 @ P0 @ Y0.T)\\r\\n    A = sym(randn(n, n))*4e-2 + A0\\r\\n    Wt = randint(1, 100, n)*.1\\r\\n    # Wt[:] = 1\\r\\n\\r\\n    alpha = np.array([1, 1])\\r\\n    print(\"alpha %s\" % str(alpha))\\r\\n\\r\\n    beta = alpha[1] * .1\\r\\n    man = RealPositiveSemidefinite(n, d, alpha=alpha, beta=beta)\\r\\n    XInit = man.rand()\\r\\n    opt_pre = solve_weigthed_dist(man, A, Wt, X0=XInit, maxiter=20)\\r\\n\\r\\n    beta = alpha[1] * 1\\r\\n    man = RealPositiveSemidefinite(n, d, alpha=alpha, beta=beta)\\r\\n    opt_mid = solve_weigthed_dist(man, A, Wt, X0=opt_pre, maxiter=20)\\r\\n    # opt_mid = opt_pre\\r\\n\\r\\n    beta = alpha[1] * 30\\r\\n    man = RealPositiveSemidefinite(n, d, alpha=alpha, beta=beta)\\r\\n    opt = solve_weigthed_dist(man, A, Wt, X0=opt_mid, maxiter=50)\\r\\n\\r\\n    eig1, _ = la.eigh(opt.P)\\r\\n    eig2, _ = la.eigh(opt.Y.T@A@opt.Y)\\r\\n    print(la.norm(eig1 - eig2)/la.norm(eig1))\\r\\n\\r\\n    opt_mat = opt.Y @ opt.P @ opt.Y.T\\r\\n    # diff = A0 - opt_mat\\r\\n    # print(1/n*np.sqrt(np.trace(diff.T@diff)))\\r\\n    print(1/n*np.sqrt(np.trace(A@A) + np.trace(opt.P@opt.P) -\\r\\n                      2*np.trace(opt.Y.T@A@opt.Y*opt.P)))\\r\\n                       \\r\\n\\r\\n    if False:\\r\\n        print(A0)\\r\\n        print(opt_mat)\\r\\n    print(np.max(np.abs(A0-opt_mat)))\\r\\n\\r\\noptim_test_weighted(1000, 50)'}"
            ]
          },
          "metadata": {
            "tags": []
          },
          "execution_count": 5
        }
      ]
    },
    {
      "cell_type": "markdown",
      "metadata": {
        "id": "MJMBm_GSX8wo"
      },
      "source": [
        "* Run the following code to generate the progress graph"
      ]
    },
    {
      "cell_type": "code",
      "metadata": {
        "colab": {
          "base_uri": "https://localhost:8080/",
          "height": 308
        },
        "id": "DCSml5j5L8fR",
        "outputId": "b4f1537d-15ae-4bb0-cc05-758f1d164771"
      },
      "source": [
        "\r\n",
        "def process_data():\r\n",
        "    with open('opt_data.txt') as fi:\r\n",
        "        all_lines = fi.readlines()\r\n",
        "\r\n",
        "    def get_next_tk(ll, start):\r\n",
        "        return start + ll[start:].index(' ')\r\n",
        "        \r\n",
        "    def parse_one_line(ll):\r\n",
        "        lll = ll.split()\r\n",
        "        if 'k:' in lll:\r\n",
        "            ktk = lll.index('k:')\r\n",
        "            kval = int(lll[ktk+1])\r\n",
        "        else:\r\n",
        "            kval = None\r\n",
        "        \r\n",
        "        if 'f:' in lll:\r\n",
        "            ftk = lll.index('f:')\r\n",
        "            fval = float(lll[ftk+1])\r\n",
        "        else:\r\n",
        "            fval = None\r\n",
        "            \r\n",
        "        if '|grad|:' in lll:\r\n",
        "            gtk = lll.index('|grad|:')\r\n",
        "            gval = float(lll[gtk+1])\r\n",
        "        else:\r\n",
        "            gval = None\r\n",
        "            \r\n",
        "        return kval, fval, gval\r\n",
        "            \r\n",
        "    blk = 0\r\n",
        "    lst_k = 1e6\r\n",
        "    res = []\r\n",
        "    for ll in all_lines:\r\n",
        "        k, f, gr = parse_one_line(ll)\r\n",
        "        if f is None or k is None:\r\n",
        "            continue\r\n",
        "        if (k < lst_k):\r\n",
        "            blk += 1\r\n",
        "        lst_k = k\r\n",
        "        res.append((blk, k, f, gr))\r\n",
        "            \r\n",
        "    res_arr = np.array(res)\r\n",
        "    dist_arr = np.log(res_arr[:-1, 2]-res_arr[-1, 2])/np.log(10)\r\n",
        "\r\n",
        "    import matplotlib.pyplot as plt\r\n",
        "    fig, (ax1, ax2) = plt.subplots(1, 2)\r\n",
        "    fig.suptitle('Weighted PCA using Positive-semidefinite manifold optimization')\r\n",
        "    color = 'tab:red'\r\n",
        "    rrg = np.arange(dist_arr.shape[0])    \r\n",
        "    ax1.plot(rrg, dist_arr, color=color)\r\n",
        "    ax1.set(xlabel='iteration', ylabel='log_10 distance to optimal value')\r\n",
        "    \r\n",
        "    ax1.tick_params(axis='y', labelcolor=color)\r\n",
        "\r\n",
        "    color = 'tab:blue'        \r\n",
        "    rrg = np.arange(res_arr.shape[0])    \r\n",
        "    ax2.plot(rrg, res_arr[:, 2]/1e5, color=color)\r\n",
        "    ax2.set(xlabel='iteration', ylabel='quadratic cost value (10e5)')\r\n",
        "    ax2.tick_params(axis='y', labelcolor=color)\r\n",
        "    # fig.tight_layout()\r\n",
        "\r\n",
        "process_data()"
      ],
      "execution_count": 17,
      "outputs": [
        {
          "output_type": "display_data",
          "data": {
            "image/png": "[encoded data removed]",
            "text/plain": [
              "<Figure size 432x288 with 2 Axes>"
            ]
          },
          "metadata": {
            "tags": [],
            "needs_background": "light"
          }
        }
      ]
    }
  ]
}