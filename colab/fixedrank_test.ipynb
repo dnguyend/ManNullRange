{
  "nbformat": 4,
  "nbformat_minor": 0,
  "metadata": {
    "colab": {
      "name": "fixedrank_tests.ipynb",
      "provenance": [],
      "authorship_tag": "ABX9TyMLNi5OzZM7In2H1cW7O7Dy",
      "include_colab_link": true
    },
    "kernelspec": {
      "name": "python3",
      "display_name": "Python 3"
    }
  },
  "cells": [
    {
      "cell_type": "markdown",
      "metadata": {
        "id": "view-in-github",
        "colab_type": "text"
      },
      "source": [
        "<a href=\"https://colab.research.google.com/github/dnguyend/ManNullRange/blob/master/colab/fixedrank_test.ipynb\" target=\"_parent\"><img src=\"https://colab.research.google.com/assets/colab-badge.svg\" alt=\"Open In Colab\"/></a>"
      ]
    },
    {
      "cell_type": "markdown",
      "metadata": {
        "id": "YPbKBkG5Uu1L",
        "colab_type": "text"
      },
      "source": [
        "$\\newcommand{\\KK}{\\mathbb{K}}$\n",
        "$\\newcommand{\\rN}{\\mathrm{N}}$\n",
        "$\\newcommand{\\rD}{\\mathrm{D}}$\n",
        "$\\newcommand{\\rK}{\\mathrm{K}}$\n",
        "$\\newcommand{\\cE}{\\mathcal{E}}$\n",
        "$\\newcommand{\\cB}{\\mathcal{B}}$\n",
        "$\\newcommand{\\cH}{\\mathcal{H}}$\n",
        "$\\newcommand{\\ft}{\\mathfrak{t}}$\n",
        "$\\newcommand{\\cEJ}{\\cE_{\\JJ}}$\n",
        "$\\newcommand{\\sfg}{\\mathtt{g}}$\n",
        "$\\newcommand{\\rhess}{\\mathtt{rhess}}$\n",
        "$\\newcommand{\\CTRL}{\\textsc{CTRL}}$\n",
        "$\\newcommand{\\Herm}[3]{\\mathrm{Sym}_{#1, #2, #3}}$\n",
        "$\\newcommand{\\AHerm}[3]{\\mathrm{Skew}_{#1, #2, #3}}$\n",
        "$\\newcommand{\\St}[3]{\\mathrm{St}_{#1, #2, #3}}$\n",
        "$\\newcommand{\\Sp}[3]{\\mathtt{S}^{+}_{#1, #2, #3}}$\n",
        "$\\newcommand{\\Sd}[2]{\\mathtt{S}^{+}_{#1, #2}}$\n",
        "$\\DeclareMathOperator{\\UU}{U}$\n",
        "$\\DeclareMathOperator{\\sym}{sym}$\n",
        "$\\DeclareMathOperator{\\asym}{skew}$\n",
        "$\\DeclareMathOperator{\\JJ}{J}$\n",
        "$\\DeclareMathOperator{\\Null}{Null}$\n",
        "$\\DeclareMathOperator{\\xtrace}{xtrace}$\n",
        "# Formulas used here:\n",
        "* $\\rN[U, P, V](B, D, C) = (\\rN_U, \\rN_P, \\rN_V)$\n",
        "* $\\rN_U = U(-\\gamma_1\\asym(D) +\n",
        "               (\\alpha_1+\\gamma_1)^{-1}(P^{-1}\\sym(D) - \\sym(D)P^{-1}) + U_{\\perp}B$\n",
        "* $\\rN_P = \\beta^{-1}\\sym D$\n",
        "* $\\rN_V = V(\\alpha_1\\asym(D) + (\\alpha_1 + \\gamma_1)^{-1}(P^{-1}\\sym(D) - \\sym(D)P^{-1}) + V_{\\perp}C$\n",
        "\n",
        "* $\\sfg[U, P, V]\\eta = (\\alpha_1 UU^{\\ft}+ \\alpha_0U_{\\perp}U_{\\perp}^{\\ft})\\eta_U +\\beta P^{-1}\\eta_P P^{-1} +\n",
        "(\\gamma_1 VV^{\\ft}+ \\gamma_0V_{\\perp}V_{\\perp}^{\\ft})\\eta_V\n",
        "$, a metric\n",
        "  metric given as self-adjoint operator on ambient $\\cE$\n",
        "* $\\Pi_{\\sfg} = \\rN(\\rN^{\\ft}\\sfg\\rN)^{-1}\\rN^{\\ft}\\sfg$ projection to $\\cH$, the horizontal space, identified with $T\\cB = T\\Sp{\\KK}{p}{n}$\n",
        "* Gradient is $\\Pi_{\\sfg}\\sfg^{-1}f_Y$ \n",
        "* $\\xtrace$: index raising operator for trace (Frobenius) inner product. Very simple for matrix expressions:\n",
        "   * $\\xtrace(AbC, b) = A^{\\ft}B^{\\ft}$ \n",
        "   * $\\xtrace(Ab^tC, b) = BA$ \n",
        "* $\\rN^{\\ft}$ is evaluated by $\\xtrace$\n",
        "* $\\rK(\\xi, \\eta)$  Christoffel metric term  $\\frac{1}{2}((\\rD_{\\xi}\\sfg)\\eta + (\\rD_{\\eta})\\sfg\\xi-\\xtrace(\\langle(\\rD_\\phi\\sfg)\\xi, \\eta\\rangle_{\\cE}, \\phi))$. \\\\\n",
        "* $\\Gamma_{c}(\\xi, \\eta)$  Christoffel function $\\Pi_{\\sfg}\\sfg^{-1}\\rK(\\xi, \\eta)-(\\rD_{\\xi}\\Pi_{\\cH, \\sfg})\\eta$. Evaluate $(\\rD_{\\xi}\\Pi_{\\cH, \\sfg})\\eta$ by product rule.\n",
        "* $\\nabla_{\\xi}\\eta = \\rD_{\\xi}\\eta + \\Gamma_{c}(\\xi, \\eta)$\n",
        "* $\\rhess^{11}\\xi = \\nabla_{\\xi}(\\Pi_{\\sfg}\\sfg^{-1}f_Y)$\n"
      ]
    },
    {
      "cell_type": "code",
      "metadata": {
        "id": "rlIGBlvN-RrB",
        "colab_type": "code",
        "colab": {
          "base_uri": "https://localhost:8080/",
          "height": 255
        },
        "outputId": "8d700227-4ca9-4206-fbf1-42296d764883"
      },
      "source": [
        "!git clone https://github.com/dnguyend/ManNullRange\n",
        "import sys\n",
        "!git clone  https://github.com/pymanopt/pymanopt.git\n",
        "sys.path.append(\"/content/pymanopt\")"
      ],
      "execution_count": null,
      "outputs": [
        {
          "output_type": "stream",
          "text": [
            "Cloning into 'ManNullRange'...\n",
            "remote: Enumerating objects: 137, done.\u001b[K\n",
            "remote: Counting objects: 100% (137/137), done.\u001b[K\n",
            "remote: Compressing objects: 100% (82/82), done.\u001b[K\n",
            "remote: Total 137 (delta 90), reused 89 (delta 54), pack-reused 0\u001b[K\n",
            "Receiving objects: 100% (137/137), 153.03 KiB | 4.37 MiB/s, done.\n",
            "Resolving deltas: 100% (90/90), done.\n",
            "Cloning into 'pymanopt'...\n",
            "remote: Enumerating objects: 77, done.\u001b[K\n",
            "remote: Counting objects: 100% (77/77), done.\u001b[K\n",
            "remote: Compressing objects: 100% (62/62), done.\u001b[K\n",
            "remote: Total 4124 (delta 43), reused 40 (delta 15), pack-reused 4047\u001b[K\n",
            "Receiving objects: 100% (4124/4124), 907.13 KiB | 15.91 MiB/s, done.\n",
            "Resolving deltas: 100% (2863/2863), done.\n"
          ],
          "name": "stdout"
        }
      ]
    },
    {
      "cell_type": "code",
      "metadata": {
        "id": "MC9KjYzR-0zv",
        "colab_type": "code",
        "colab": {}
      },
      "source": [
        "from collections import OrderedDict\n",
        "from IPython.display import display, Math\n",
        "from sympy import symbols, Integer\n",
        "from ManNullRange.symbolic import SymMat as sm\n",
        "from ManNullRange.symbolic.SymMat import (\n",
        "    matrices, t, scalars, mat_spfy, xtrace, trace, stiefels, DDR,\n",
        "    latex_map, mat_latex, simplify_stiefel_tangent, inv, sym, asym,\n",
        "    sym_symb, asym_symb)\n",
        "\n",
        "\n",
        "def pprint(expr):\n",
        "     display(Math(latex_map(mat_latex(expr), OrderedDict(\n",
        "         [('fYY', r'f_{YY}'), ('fY', 'f_Y'), ('al', r'\\alpha'),\n",
        "          ('bt', r'\\beta'), ('gm', r'\\gamma')]))))\n",
        " \n",
        "    \n"
      ],
      "execution_count": null,
      "outputs": []
    },
    {
      "cell_type": "markdown",
      "metadata": {
        "id": "_ThkABq4yTpd",
        "colab_type": "text"
      },
      "source": [
        "We define and the variables and the metrics. $U$ and $U0$ are complement Stiefel symbols, so are V and V0. This is used in the simplification modules"
      ]
    },
    {
      "cell_type": "code",
      "metadata": {
        "id": "PsMVJzmMynbY",
        "colab_type": "code",
        "colab": {
          "base_uri": "https://localhost:8080/",
          "height": 34
        },
        "outputId": "7d8f589e-a056-4b25-b887-ef794e42fede"
      },
      "source": [
        "if True:\n",
        "    U, U0 = stiefels('U U0')\n",
        "    V, V0 = stiefels('V V0')\n",
        "    sm.g_cstiefels[U] = U0\n",
        "    sm.g_cstiefels[V0] = V\n",
        " \n",
        "    B, C, D, eta_U, eta_P, eta_V = matrices('B C D eta_U eta_P eta_V')\n",
        "    P = sym_symb('P')\n",
        "    al0, al1, bt, gm0, gm1 = scalars('al0 al1 bt gm0 gm1')\n",
        " \n",
        "    def g(U, P, V, omg_U, omg_P, omg_V):\n",
        "        return al0*omg_U+(al1-al0)*U*t(U)*omg_U,\\\n",
        "            bt*inv(P)*omg_P*inv(P),\\\n",
        "            gm0*omg_V+(gm1-gm0)*V*t(V)*omg_V\n",
        " \n",
        "    def ginv(U, P, V, omg_U, omg_P, omg_V):\n",
        "        return 1/al0*omg_U+(1/al1-1/al0)*U*t(U)*omg_U,\\\n",
        "            1/bt*P*omg_P*P,\\\n",
        "            1/gm0*omg_V+(1/gm1-1/gm0)*V*t(V)*omg_V\n",
        " \n",
        "    # check that ginv \\circ g is id\n",
        "    e1, e2, e3 = ginv(U, P, V, *(g(U, P, V, eta_U, eta_P, eta_V)))\n",
        "    e1 = mat_spfy(e1)\n",
        "    e2 = mat_spfy(e2)\n",
        "    e3 = mat_spfy(e3)\n",
        "    print(e1, e2, e3)\n",
        " "
      ],
      "execution_count": null,
      "outputs": [
        {
          "output_type": "stream",
          "text": [
            "eta_U eta_P eta_V\n"
          ],
          "name": "stdout"
        }
      ]
    },
    {
      "cell_type": "markdown",
      "metadata": {
        "id": "eoZjWL9mFVR8",
        "colab_type": "text"
      },
      "source": [
        "Correct, $ginv\\circ g$ is the identity. Now define the base inner products ahd the Horizontal condition:"
      ]
    },
    {
      "cell_type": "code",
      "metadata": {
        "id": "1UnfSh27E4PQ",
        "colab_type": "code",
        "colab": {
          "base_uri": "https://localhost:8080/",
          "height": 59
        },
        "outputId": "4ca422f7-87bd-4c7c-9d31-29822774d89b"
      },
      "source": [
        "if True:\n",
        "    def base_ambient_inner(omg_U, omg_P, omg_V, xi_U, xi_P, xi_V):\n",
        "        return mat_spfy(\n",
        "            trace(\n",
        "                mat_spfy(omg_U * t(xi_U))) +\n",
        "            trace(mat_spfy(\n",
        "                omg_P*t(xi_P))) +\n",
        "            trace(\n",
        "                mat_spfy(omg_V * t(xi_V))))\n",
        " \n",
        "    def ambient_inner(U, P, V, omg_U, omg_P, omg_V, xi_U, xi_P, xi_V):\n",
        "        return mat_spfy(\n",
        "            trace(\n",
        "                mat_spfy(\n",
        "                    (al0*omg_U+(al1-al0)*U*t(U)*omg_U) * t(xi_U))) +\n",
        "            trace(mat_spfy(\n",
        "                bt*inv(P)*omg_P*inv(P)*t(xi_P))) +\n",
        "            trace(\n",
        "                mat_spfy(\n",
        "                    (gm0*omg_V+(gm1-gm0)*V*t(V)*omg_V) * t(xi_V))))\n",
        "    def EN_inner(Y, P, Ba, Da, Ca, Bb, Db, Cb):\n",
        "        return trace(\n",
        "            mat_spfy(Da * t(Db)) + mat_spfy(\n",
        "                Ba*t(Bb)) + mat_spfy(\n",
        "                    Ca*t(Cb)))\n",
        " \n",
        "    qat = asym_symb('qat')\n",
        " \n",
        "    ipr = ambient_inner(U, P, V, eta_U, eta_P, eta_V,\n",
        "                        U * qat,  P*qat - qat*P, V * qat)\n",
        "    dqat = mat_spfy(xtrace(ipr, qat))\n",
        "    pprint(dqat)\n",
        "    pprint(-t(dqat))\n",
        " "
      ],
      "execution_count": null,
      "outputs": [
        {
          "output_type": "display_data",
          "data": {
            "text/latex": "$$- \\alpha_{1} \\eta_{U}^T U - \\beta P^{-1} \\eta_{P}^T + \\beta \\eta_{P}^T P^{-1} - \\gamma_{1} \\eta_{V}^T V$$",
            "text/plain": [
              "<IPython.core.display.Math object>"
            ]
          },
          "metadata": {
            "tags": []
          }
        },
        {
          "output_type": "display_data",
          "data": {
            "text/latex": "$$\\alpha_{1} U^T \\eta_{U} + \\beta \\eta_{P} P^{-1} - \\beta P^{-1} \\eta_{P} + \\gamma_{1} V^T \\eta_{V}$$",
            "text/plain": [
              "<IPython.core.display.Math object>"
            ]
          },
          "metadata": {
            "tags": []
          }
        }
      ]
    },
    {
      "cell_type": "markdown",
      "metadata": {
        "id": "90c_RuCCFj3d",
        "colab_type": "text"
      },
      "source": [
        "That is our horizontal condition. Minus of the transpose gives us the condition in the paper. We now define N and check image of N is in the tangent space"
      ]
    },
    {
      "cell_type": "code",
      "metadata": {
        "id": "8t1LzhG3Fkap",
        "colab_type": "code",
        "colab": {
          "base_uri": "https://localhost:8080/",
          "height": 196
        },
        "outputId": "c36b7d55-cf53-497f-d7ca-ac8c359fdae3"
      },
      "source": [
        "if True:\n",
        "    def N(U, P, V, B, D, C):\n",
        "        N_U = mat_spfy(\n",
        "            U*(-gm1*asym(D) +\n",
        "               1/(al1+gm1)*(inv(P)*sym(D) - sym(D)*inv(P)))) + U0*B\n",
        "        N_P = mat_spfy(\n",
        "            1/bt*sym(D))\n",
        "        N_V = V*(al1*asym(D) +\n",
        "                 1/(al1 + gm1)*(inv(P)*sym(D) - sym(D)*inv(P))) + V0 * C\n",
        "        return N_U, N_P, N_V\n",
        " \n",
        "    def NT(U, P, V, omg_U, omg_P, omg_V):\n",
        "        nB, nD, nC = matrices('nB nD nC')\n",
        "        ipt = mat_spfy(\n",
        "            base_ambient_inner(*N(U, P, V, nB, nD, nC), omg_U, omg_P, omg_V))\n",
        "        ntB = mat_spfy(xtrace(ipt, nB))\n",
        "        ntD = mat_spfy(xtrace(ipt, nD))\n",
        "        ntC = mat_spfy(xtrace(ipt, nC))\n",
        "        return ntB, ntD, ntC\n",
        "    # check that image of N is horizontal:\n",
        "    Nvals = N(U, P, V, B, D, C)\n",
        "    print(\"Nvals_U:\")\n",
        "    pprint(Nvals[0])\n",
        "    print(\"Nvals_P:\")\n",
        "    pprint(Nvals[1])\n",
        "    print(\"Nvals_V:\")\n",
        "    pprint(Nvals[2])\n",
        "    print(\"Check Horizontal:\")\n",
        "    pprint(mat_spfy(xtrace(\n",
        "        mat_spfy(\n",
        "            ambient_inner(U, P, V, *Nvals,\n",
        "                          U*qat, P*qat - qat*P, V*qat)), qat)))\n"
      ],
      "execution_count": null,
      "outputs": [
        {
          "output_type": "stream",
          "text": [
            "Nvals_U:\n"
          ],
          "name": "stdout"
        },
        {
          "output_type": "display_data",
          "data": {
            "text/latex": "$$- \\frac{\\gamma_{1} U}{2} D + \\frac{\\gamma_{1} U}{2} D^T + U_{0} B - \\frac{U D P^{-1}}{2 \\left(\\alpha_{1} + \\gamma_{1}\\right)} + \\frac{U P^{-1} D}{2 \\left(\\alpha_{1} + \\gamma_{1}\\right)} + \\frac{U P^{-1} D^T}{2 \\left(\\alpha_{1} + \\gamma_{1}\\right)} - \\frac{U D^T P^{-1}}{2 \\left(\\alpha_{1} + \\gamma_{1}\\right)}$$",
            "text/plain": [
              "<IPython.core.display.Math object>"
            ]
          },
          "metadata": {
            "tags": []
          }
        },
        {
          "output_type": "stream",
          "text": [
            "Nvals_P:\n"
          ],
          "name": "stdout"
        },
        {
          "output_type": "display_data",
          "data": {
            "text/latex": "$$\\frac{D}{2 \\beta} + \\frac{D^T}{2 \\beta}$$",
            "text/plain": [
              "<IPython.core.display.Math object>"
            ]
          },
          "metadata": {
            "tags": []
          }
        },
        {
          "output_type": "stream",
          "text": [
            "Nvals_V:\n"
          ],
          "name": "stdout"
        },
        {
          "output_type": "display_data",
          "data": {
            "text/latex": "$$V \\left(\\frac{\\alpha_{1}}{2} \\left(D - D^T\\right) + \\frac{1}{\\alpha_{1} + \\gamma_{1}} \\left(- \\frac{1}{2} \\left(D + D^T\\right) P^{-1} + \\frac{P^{-1}}{2} \\left(D + D^T\\right)\\right)\\right) + V_{0} C$$",
            "text/plain": [
              "<IPython.core.display.Math object>"
            ]
          },
          "metadata": {
            "tags": []
          }
        },
        {
          "output_type": "stream",
          "text": [
            "Check Horizontal:\n"
          ],
          "name": "stdout"
        },
        {
          "output_type": "display_data",
          "data": {
            "text/latex": "$$- \\frac{\\alpha_{1} D P^{-1}}{2 \\left(\\alpha_{1} + \\gamma_{1}\\right)} + \\frac{\\alpha_{1} P^{-1} D}{2 \\left(\\alpha_{1} + \\gamma_{1}\\right)} + \\frac{\\alpha_{1} P^{-1} D^T}{2 \\left(\\alpha_{1} + \\gamma_{1}\\right)} - \\frac{\\alpha_{1} D^T P^{-1}}{2 \\left(\\alpha_{1} + \\gamma_{1}\\right)} - \\frac{\\gamma_{1} D P^{-1}}{2 \\left(\\alpha_{1} + \\gamma_{1}\\right)} + \\frac{\\gamma_{1} P^{-1} D}{2 \\left(\\alpha_{1} + \\gamma_{1}\\right)} + \\frac{\\gamma_{1} P^{-1} D^T}{2 \\left(\\alpha_{1} + \\gamma_{1}\\right)} - \\frac{\\gamma_{1} D^T P^{-1}}{2 \\left(\\alpha_{1} + \\gamma_{1}\\right)} + \\frac{D P^{-1}}{2} - \\frac{P^{-1} D}{2} - \\frac{P^{-1} D^T}{2} + \\frac{D^T P^{-1}}{2}$$",
            "text/plain": [
              "<IPython.core.display.Math object>"
            ]
          },
          "metadata": {
            "tags": []
          }
        }
      ]
    },
    {
      "cell_type": "markdown",
      "metadata": {
        "id": "g3RYRb6OI_H2",
        "colab_type": "text"
      },
      "source": [
        "We have to collect the terms ourselves, but it could be seen that the last expression simplified to zero."
      ]
    },
    {
      "cell_type": "code",
      "metadata": {
        "id": "MBMQTOH0HfBr",
        "colab_type": "code",
        "colab": {
          "base_uri": "https://localhost:8080/",
          "height": 431
        },
        "outputId": "1aa056f4-3ab4-4a37-a695-2ff1e601540b"
      },
      "source": [
        "if True:\n",
        "    NTe_B, NTe_D, NTe_C = NT(U, P, V, eta_U, eta_P, eta_V)\n",
        "    print(\"NTe_B\")\n",
        "    pprint(NTe_B)\n",
        "    print(\"NTe_C\")\n",
        "    pprint(NTe_C)\n",
        "    print(\"NTe_D\")\n",
        "    pprint(NTe_D)\n",
        "\n",
        "    NTg_B, NTg_D, NTg_C = NT(U, P, V, *g(U, P, V, eta_U, eta_P, eta_V))\n",
        "\n",
        "    gN = g(U, P, V, *N(U, P, V, B, D, C))\n",
        "    gN_B = mat_spfy(gN[0])\n",
        "    gN_D = mat_spfy(gN[1])\n",
        "    gN_C = mat_spfy(gN[2])\n",
        "\n",
        "    pprint(\"gN_B\")\n",
        "    pprint(gN_B)\n",
        "    print(\"gN_C\")\n",
        "    pprint(gN_C)\n",
        "    print(\"gN_D\")\n",
        "    pprint(gN_D)\n",
        "\n",
        "    NTgN_B, NTgN_D, NTgN_C = NT(U, P, V, *gN)\n",
        "    print(\"NTgN_B\")\n",
        "    pprint(NTgN_B)\n",
        "    print(\"NTgN_C\")\n",
        "    pprint(NTgN_C)\n",
        "    print(\"NTgN_D\")\n",
        "    pprint(NTgN_D)\n"
      ],
      "execution_count": null,
      "outputs": [
        {
          "output_type": "stream",
          "text": [
            "NTe_B\n"
          ],
          "name": "stdout"
        },
        {
          "output_type": "display_data",
          "data": {
            "text/latex": "$$U_{0}^T \\eta_{U}$$",
            "text/plain": [
              "<IPython.core.display.Math object>"
            ]
          },
          "metadata": {
            "tags": []
          }
        },
        {
          "output_type": "stream",
          "text": [
            "NTe_C\n"
          ],
          "name": "stdout"
        },
        {
          "output_type": "display_data",
          "data": {
            "text/latex": "$$V_{0}^T \\eta_{V}$$",
            "text/plain": [
              "<IPython.core.display.Math object>"
            ]
          },
          "metadata": {
            "tags": []
          }
        },
        {
          "output_type": "stream",
          "text": [
            "NTe_D\n"
          ],
          "name": "stdout"
        },
        {
          "output_type": "display_data",
          "data": {
            "text/latex": "$$\\frac{\\alpha_{1} V^T}{2} \\eta_{V} - \\frac{\\alpha_{1} \\eta_{V}^T}{2} V - \\frac{\\gamma_{1} U^T}{2} \\eta_{U} + \\frac{\\gamma_{1} \\eta_{U}^T}{2} U + \\frac{P^{-1} U^T \\eta_{U}}{2 \\left(\\alpha_{1} + \\gamma_{1}\\right)} + \\frac{P^{-1} V^T \\eta_{V}}{2 \\left(\\alpha_{1} + \\gamma_{1}\\right)} - \\frac{P^{-1} \\eta_{U}^T U}{2 \\left(\\alpha_{1} + \\gamma_{1}\\right)} - \\frac{P^{-1} \\eta_{V}^T V}{2 \\left(\\alpha_{1} + \\gamma_{1}\\right)} - \\frac{U^T \\eta_{U} P^{-1}}{2 \\left(\\alpha_{1} + \\gamma_{1}\\right)} - \\frac{V^T \\eta_{V} P^{-1}}{2 \\left(\\alpha_{1} + \\gamma_{1}\\right)} + \\frac{\\eta_{U}^T U P^{-1}}{2 \\left(\\alpha_{1} + \\gamma_{1}\\right)} + \\frac{\\eta_{V}^T V P^{-1}}{2 \\left(\\alpha_{1} + \\gamma_{1}\\right)} + \\frac{\\eta_{P}}{2 \\beta} + \\frac{\\eta_{P}^T}{2 \\beta}$$",
            "text/plain": [
              "<IPython.core.display.Math object>"
            ]
          },
          "metadata": {
            "tags": []
          }
        },
        {
          "output_type": "display_data",
          "data": {
            "text/latex": "$$gN_B$$",
            "text/plain": [
              "<IPython.core.display.Math object>"
            ]
          },
          "metadata": {
            "tags": []
          }
        },
        {
          "output_type": "display_data",
          "data": {
            "text/latex": "$$\\alpha_{0} U_{0} B - \\frac{\\alpha_{1} \\gamma_{1}}{2} U D + \\frac{\\alpha_{1} \\gamma_{1}}{2} U D^T - \\frac{\\alpha_{1} U D P^{-1}}{2 \\left(\\alpha_{1} + \\gamma_{1}\\right)} + \\frac{\\alpha_{1} U P^{-1} D}{2 \\left(\\alpha_{1} + \\gamma_{1}\\right)} + \\frac{\\alpha_{1} U P^{-1} D^T}{2 \\left(\\alpha_{1} + \\gamma_{1}\\right)} - \\frac{\\alpha_{1} U D^T P^{-1}}{2 \\left(\\alpha_{1} + \\gamma_{1}\\right)}$$",
            "text/plain": [
              "<IPython.core.display.Math object>"
            ]
          },
          "metadata": {
            "tags": []
          }
        },
        {
          "output_type": "stream",
          "text": [
            "gN_C\n"
          ],
          "name": "stdout"
        },
        {
          "output_type": "display_data",
          "data": {
            "text/latex": "$$\\frac{\\alpha_{1} \\gamma_{1}}{2} V D - \\frac{\\alpha_{1} \\gamma_{1}}{2} V D^T + \\gamma_{0} V_{0} C - \\frac{\\gamma_{1} V D P^{-1}}{2 \\left(\\alpha_{1} + \\gamma_{1}\\right)} + \\frac{\\gamma_{1} V P^{-1} D}{2 \\left(\\alpha_{1} + \\gamma_{1}\\right)} + \\frac{\\gamma_{1} V P^{-1} D^T}{2 \\left(\\alpha_{1} + \\gamma_{1}\\right)} - \\frac{\\gamma_{1} V D^T P^{-1}}{2 \\left(\\alpha_{1} + \\gamma_{1}\\right)}$$",
            "text/plain": [
              "<IPython.core.display.Math object>"
            ]
          },
          "metadata": {
            "tags": []
          }
        },
        {
          "output_type": "stream",
          "text": [
            "gN_D\n"
          ],
          "name": "stdout"
        },
        {
          "output_type": "display_data",
          "data": {
            "text/latex": "$$\\frac{P^{-1} D}{2} P^{-1} + \\frac{P^{-1} D^T}{2} P^{-1}$$",
            "text/plain": [
              "<IPython.core.display.Math object>"
            ]
          },
          "metadata": {
            "tags": []
          }
        },
        {
          "output_type": "stream",
          "text": [
            "NTgN_B\n"
          ],
          "name": "stdout"
        },
        {
          "output_type": "display_data",
          "data": {
            "text/latex": "$$\\alpha_{0} B$$",
            "text/plain": [
              "<IPython.core.display.Math object>"
            ]
          },
          "metadata": {
            "tags": []
          }
        },
        {
          "output_type": "stream",
          "text": [
            "NTgN_C\n"
          ],
          "name": "stdout"
        },
        {
          "output_type": "display_data",
          "data": {
            "text/latex": "$$\\gamma_{0} C$$",
            "text/plain": [
              "<IPython.core.display.Math object>"
            ]
          },
          "metadata": {
            "tags": []
          }
        },
        {
          "output_type": "stream",
          "text": [
            "NTgN_D\n"
          ],
          "name": "stdout"
        },
        {
          "output_type": "display_data",
          "data": {
            "text/latex": "$$\\frac{\\alpha_{1}^{2} \\gamma_{1}}{2} D - \\frac{\\alpha_{1}^{2} \\gamma_{1}}{2} D^T + \\frac{\\alpha_{1} \\gamma_{1}^{2}}{2} D - \\frac{\\alpha_{1} \\gamma_{1}^{2}}{2} D^T + \\frac{\\alpha_{1} D P^{-2}}{2 \\left(\\alpha_{1}^{2} + 2 \\alpha_{1} \\gamma_{1} + \\gamma_{1}^{2}\\right)} - \\frac{\\alpha_{1} P^{-1} D P^{-1}}{\\alpha_{1}^{2} + 2 \\alpha_{1} \\gamma_{1} + \\gamma_{1}^{2}} - \\frac{\\alpha_{1} P^{-1} D^T P^{-1}}{\\alpha_{1}^{2} + 2 \\alpha_{1} \\gamma_{1} + \\gamma_{1}^{2}} + \\frac{\\alpha_{1} P^{-2} D}{2 \\left(\\alpha_{1}^{2} + 2 \\alpha_{1} \\gamma_{1} + \\gamma_{1}^{2}\\right)} + \\frac{\\alpha_{1} P^{-2} D^T}{2 \\left(\\alpha_{1}^{2} + 2 \\alpha_{1} \\gamma_{1} + \\gamma_{1}^{2}\\right)} + \\frac{\\alpha_{1} D^T P^{-2}}{2 \\left(\\alpha_{1}^{2} + 2 \\alpha_{1} \\gamma_{1} + \\gamma_{1}^{2}\\right)} + \\frac{\\gamma_{1} D P^{-2}}{2 \\left(\\alpha_{1}^{2} + 2 \\alpha_{1} \\gamma_{1} + \\gamma_{1}^{2}\\right)} - \\frac{\\gamma_{1} P^{-1} D P^{-1}}{\\alpha_{1}^{2} + 2 \\alpha_{1} \\gamma_{1} + \\gamma_{1}^{2}} - \\frac{\\gamma_{1} P^{-1} D^T P^{-1}}{\\alpha_{1}^{2} + 2 \\alpha_{1} \\gamma_{1} + \\gamma_{1}^{2}} + \\frac{\\gamma_{1} P^{-2} D}{2 \\left(\\alpha_{1}^{2} + 2 \\alpha_{1} \\gamma_{1} + \\gamma_{1}^{2}\\right)} + \\frac{\\gamma_{1} P^{-2} D^T}{2 \\left(\\alpha_{1}^{2} + 2 \\alpha_{1} \\gamma_{1} + \\gamma_{1}^{2}\\right)} + \\frac{\\gamma_{1} D^T P^{-2}}{2 \\left(\\alpha_{1}^{2} + 2 \\alpha_{1} \\gamma_{1} + \\gamma_{1}^{2}\\right)} + \\frac{P^{-1} D P^{-1}}{2 \\beta} + \\frac{P^{-1} D^T P^{-1}}{2 \\beta}$$",
            "text/plain": [
              "<IPython.core.display.Math object>"
            ]
          },
          "metadata": {
            "tags": []
          }
        }
      ]
    },
    {
      "cell_type": "markdown",
      "metadata": {
        "id": "SnonPNo-KApL",
        "colab_type": "text"
      },
      "source": [
        "$NTgN_D$ is most complex, but we can verify it agrees with the paper. It is an equation involving $D$ only, so we can solve it by the method in the paper.\n",
        "\n",
        "There is no need to expand the Christoffel $K$ term as it comes from the Positive definite and Stiefel formulas, but we just show how the symbolic calculation works here:"
      ]
    },
    {
      "cell_type": "code",
      "metadata": {
        "id": "oWlWu66QJMTq",
        "colab_type": "code",
        "colab": {
          "base_uri": "https://localhost:8080/",
          "height": 173
        },
        "outputId": "5836d9c9-b991-4a40-fc48-e785368521db"
      },
      "source": [
        "if True:\n",
        "    xi_U, xi_P, xi_V, phi_U, phi_P, phi_V = matrices(\n",
        "        'xi_U xi_P xi_V phi_U phi_P phi_V')\n",
        "    g_eta = g(U, P, V, eta_U, eta_P, eta_V)\n",
        "    Dgxieta_U = DDR(g_eta[0], U, xi_U)\n",
        "    Dgxieta_P = DDR(g_eta[1], P, xi_P)\n",
        "    Dgxieta_V = DDR(g_eta[2], V, xi_V)\n",
        "\n",
        "    g_xi = g(U, P, V, xi_U, xi_P, xi_V)\n",
        "    Dgetaxi_U = DDR(g_xi[0], U, eta_U)\n",
        "    Dgetaxi_P = DDR(g_xi[1], P, eta_P)\n",
        "    Dgetaxi_V = DDR(g_xi[2], V, eta_V)\n",
        "\n",
        "    Dgxiphi_U = DDR(g_xi[0], U, phi_U)\n",
        "    Dgxiphi_P = DDR(g_xi[1], P, phi_P)\n",
        "    Dgxiphi_V = DDR(g_xi[2], V, phi_V)\n",
        "\n",
        "    tr3 = mat_spfy(\n",
        "        base_ambient_inner(Dgxiphi_U, Dgxiphi_P, Dgxiphi_V,\n",
        "                           eta_U, eta_P, eta_V))\n",
        "    xcross_U = xtrace(tr3, phi_U)\n",
        "    xcross_P = xtrace(tr3, phi_P)\n",
        "    xcross_V = xtrace(tr3, phi_V)\n",
        "    # Two times the Christoffel metric term K\n",
        "    twoK_U = Dgxieta_U + Dgetaxi_U - xcross_U\n",
        "    twoK_P = Dgxieta_P + Dgetaxi_P - xcross_P\n",
        "    twoK_V = Dgxieta_V + Dgetaxi_V - xcross_V\n",
        "    print(\"2K_U:\")\n",
        "    pprint(twoK_U)\n",
        "    print(\"2K_P:\")\n",
        "    pprint(twoK_P)\n",
        "    print(\"2K_V:\")\n",
        "    pprint(twoK_V)\n",
        "\n"
      ],
      "execution_count": null,
      "outputs": [
        {
          "output_type": "stream",
          "text": [
            "2K_U:\n"
          ],
          "name": "stdout"
        },
        {
          "output_type": "display_data",
          "data": {
            "text/latex": "$$- \\alpha_{0} U \\eta_{U}^T \\xi_{U} - \\alpha_{0} U \\xi_{U}^T \\eta_{U} - \\alpha_{0} \\eta_{U} U^T \\xi_{U} + \\alpha_{0} \\eta_{U} \\xi_{U}^T U - \\alpha_{0} \\xi_{U} U^T \\eta_{U} + \\alpha_{0} \\xi_{U} \\eta_{U}^T U + \\alpha_{1} U \\eta_{U}^T \\xi_{U} + \\alpha_{1} U \\xi_{U}^T \\eta_{U} + \\alpha_{1} \\eta_{U} U^T \\xi_{U} - \\alpha_{1} \\eta_{U} \\xi_{U}^T U + \\alpha_{1} \\xi_{U} U^T \\eta_{U} - \\alpha_{1} \\xi_{U} \\eta_{U}^T U$$",
            "text/plain": [
              "<IPython.core.display.Math object>"
            ]
          },
          "metadata": {
            "tags": []
          }
        },
        {
          "output_type": "stream",
          "text": [
            "2K_P:\n"
          ],
          "name": "stdout"
        },
        {
          "output_type": "display_data",
          "data": {
            "text/latex": "$$- 2 \\beta P^{-1} \\eta_{P} P^{-1} \\xi_{P} P^{-1} + \\beta P^{-1} \\eta_{P} P^{-1} \\xi_{P}^T P^{-1} - 2 \\beta P^{-1} \\xi_{P} P^{-1} \\eta_{P} P^{-1} + \\beta P^{-1} \\xi_{P}^T P^{-1} \\eta_{P} P^{-1}$$",
            "text/plain": [
              "<IPython.core.display.Math object>"
            ]
          },
          "metadata": {
            "tags": []
          }
        },
        {
          "output_type": "stream",
          "text": [
            "2K_V:\n"
          ],
          "name": "stdout"
        },
        {
          "output_type": "display_data",
          "data": {
            "text/latex": "$$- \\gamma_{0} V \\eta_{V}^T \\xi_{V} - \\gamma_{0} V \\xi_{V}^T \\eta_{V} - \\gamma_{0} \\eta_{V} V^T \\xi_{V} + \\gamma_{0} \\eta_{V} \\xi_{V}^T V - \\gamma_{0} \\xi_{V} V^T \\eta_{V} + \\gamma_{0} \\xi_{V} \\eta_{V}^T V + \\gamma_{1} V \\eta_{V}^T \\xi_{V} + \\gamma_{1} V \\xi_{V}^T \\eta_{V} + \\gamma_{1} \\eta_{V} V^T \\xi_{V} - \\gamma_{1} \\eta_{V} \\xi_{V}^T V + \\gamma_{1} \\xi_{V} V^T \\eta_{V} - \\gamma_{1} \\xi_{V} \\eta_{V}^T V$$",
            "text/plain": [
              "<IPython.core.display.Math object>"
            ]
          },
          "metadata": {
            "tags": []
          }
        }
      ]
    },
    {
      "cell_type": "markdown",
      "metadata": {
        "id": "TOUIGV4ObwEq",
        "colab_type": "text"
      },
      "source": [
        "# Numerical tests for real and complex fixed-rank manifolds\n"
      ]
    },
    {
      "cell_type": "code",
      "metadata": {
        "id": "s7aSkfBVb_2q",
        "colab_type": "code",
        "colab": {}
      },
      "source": [
        "# REAL CASE:\n",
        "import numpy as np\n",
        "import numpy.linalg as la\n",
        "from numpy.random import (randint, randn)\n",
        "from numpy import zeros, trace, allclose\n",
        "\n",
        "from scipy.linalg import null_space\n",
        "from ManNullRange.manifolds.RealFixedRank import (\n",
        "    RealFixedRank, fr_ambient, fr_point, calc_D,\n",
        "    sym, asym, extended_lyapunov)\n",
        "from ManNullRange.tests.test_tools import check_zero, make_sym_pos, random_orthogonal\n"
      ],
      "execution_count": null,
      "outputs": []
    },
    {
      "cell_type": "code",
      "metadata": {
        "id": "O2gsuy-IeZ3C",
        "colab_type": "code",
        "colab": {
          "base_uri": "https://localhost:8080/",
          "height": 1000
        },
        "outputId": "7c0e7858-f22a-438f-b54c-f02247f3f257"
      },
      "source": [
        "def solve_dist_with_man(man, A, X0, maxiter):\n",
        "    from pymanopt import Problem\n",
        "    from pymanopt.solvers import TrustRegions\n",
        "    from pymanopt.function import Callable\n",
        "\n",
        "    @Callable\n",
        "    def cost(S):\n",
        "        if not(S.P.dtype == np.float):\n",
        "            raise(ValueError(\"Non real\"))\n",
        "        diff = (A - S.U @ S.P @ S.V.T)\n",
        "        val = trace(diff @ diff.T)\n",
        "        # print('val=%f' % val)\n",
        "        return val\n",
        "\n",
        "    @Callable\n",
        "    def egrad(S):\n",
        "        return fr_ambient(-2*A @ S.V @ S.P,\n",
        "                          -2*A.T @ S.U @S.P,\n",
        "                          2*(S.P-S.U.T @ A @ S.V))\n",
        "    \n",
        "    @Callable\n",
        "    def ehess(S, xi):\n",
        "        return fr_ambient(-2*A @ (xi.tV @ S.P + S.V @ xi.tP),\n",
        "                          -2*A.T @ (xi.tU @S.P + S.U@xi.tP),\n",
        "                          2*(xi.tP - xi.tU.T@A@S.V - S.U.T@A@xi.tV))\n",
        "\n",
        "    prob = Problem(\n",
        "        man, cost, egrad=egrad, ehess=ehess)\n",
        "\n",
        "    solver = TrustRegions(maxtime=100000, maxiter=maxiter, use_rand=False)\n",
        "    opt = solver.solve(prob, x=X0, Delta_bar=250)\n",
        "    return opt\n",
        "\n",
        "m, n, p = (1000, 500, 50)\n",
        "# m, n, p = (10, 3, 2)\n",
        "# simple function. Distance to a given matrix\n",
        "# || S - A||_F^2\n",
        "U0, _ = np.linalg.qr(randn(m, p))\n",
        "V0, _ = np.linalg.qr(randn(n, p))\n",
        "P0 = np.diag(randint(1, 1000, p)*.001)\n",
        "A0 = U0 @ P0 @ V0.T\n",
        "A = randn(m, n)*1e-2 + A0\n",
        "\n",
        "alpha = np.array([1, 1])\n",
        "gamma = np.array([1, 1])\n",
        "print(\"alpha %s\" % str(alpha))\n",
        "\n",
        "beta = alpha[1] * .1\n",
        "man = RealFixedRank(m, n, p, alpha=alpha, beta=beta, gamma=gamma)\n",
        "XInit = man.rand()\n",
        "opt_pre = solve_dist_with_man(man, A, X0=XInit, maxiter=20)\n",
        "\n",
        "beta = alpha[1] * 1\n",
        "man = RealFixedRank(m, n, p, alpha=alpha, beta=beta, gamma=gamma)\n",
        "opt_mid = solve_dist_with_man(man, A, X0=opt_pre, maxiter=20)\n",
        "# opt_mid = opt_pre\n",
        "\n",
        "beta = alpha[1] * 30\n",
        "man = RealFixedRank(m, n, p, alpha=alpha, beta=beta, gamma=gamma)\n",
        "opt = solve_dist_with_man(man, A, X0=opt_mid, maxiter=50)\n",
        "opt_mat = opt.U @ opt.P @ opt.V.T\n",
        "if False:\n",
        "    print(A0)\n",
        "    print(opt_mat)\n",
        "print(np.max(np.abs(A0-opt_mat)))\n",
        "\n"
      ],
      "execution_count": null,
      "outputs": [
        {
          "output_type": "stream",
          "text": [
            "alpha [1 1]\n",
            "Optimizing...\n",
            "                                            f: +2.533364e+05   |grad|: 4.123674e+05\n",
            "acc       k:     1     num_inner:     3     f: +1.034667e+05   |grad|: 1.622124e+05   reached target residual-kappa (linear)\n",
            "acc       k:     2     num_inner:     3     f: +4.213092e+04   |grad|: 6.380363e+04   reached target residual-kappa (linear)\n",
            "acc       k:     3     num_inner:     3     f: +1.706236e+04   |grad|: 2.507421e+04   reached target residual-kappa (linear)\n",
            "acc       k:     4     num_inner:     3     f: +6.873292e+03   |grad|: 9.835952e+03   reached target residual-kappa (linear)\n",
            "acc       k:     5     num_inner:     3     f: +2.783138e+03   |grad|: 3.854394e+03   reached target residual-kappa (linear)\n",
            "acc       k:     6     num_inner:     3     f: +1.149209e+03   |grad|: 1.509528e+03   reached target residual-kappa (linear)\n",
            "acc       k:     7     num_inner:     2     f: +5.024238e+02   |grad|: 5.924717e+02   reached target residual-kappa (linear)\n",
            "acc       k:     8     num_inner:     3     f: +2.406672e+02   |grad|: 2.313610e+02   reached target residual-kappa (linear)\n",
            "acc       k:     9     num_inner:     2     f: +1.380880e+02   |grad|: 9.073295e+01   reached target residual-kappa (linear)\n",
            "acc       k:    10     num_inner:     3     f: +9.672475e+01   |grad|: 3.511052e+01   reached target residual-kappa (linear)\n",
            "acc       k:    11     num_inner:     3     f: +8.034561e+01   |grad|: 1.337073e+01   reached target residual-kappa (linear)\n",
            "REJ TR-   k:    12     num_inner:     4     f: +8.034561e+01   |grad|: 1.337073e+01   negative curvature\n",
            "acc       k:    13     num_inner:     4     f: +6.741533e+01   |grad|: 1.960964e+01   negative curvature\n",
            "REJ TR-   k:    14     num_inner:     4     f: +6.741533e+01   |grad|: 1.960964e+01   exceeded trust region\n",
            "acc TR+   k:    15     num_inner:     3     f: +6.149285e+01   |grad|: 1.307888e+01   exceeded trust region\n",
            "acc       k:    16     num_inner:     4     f: +5.781949e+01   |grad|: 2.418433e+01   exceeded trust region\n",
            "REJ TR-   k:    17     num_inner:     8     f: +5.781949e+01   |grad|: 2.418433e+01   exceeded trust region\n",
            "acc TR+   k:    18     num_inner:     4     f: +5.301349e+01   |grad|: 9.930763e+00   exceeded trust region\n",
            "acc       k:    19     num_inner:     3     f: +5.096529e+01   |grad|: 1.251705e+01   exceeded trust region\n",
            "REJ TR-   k:    20     num_inner:     5     f: +5.096529e+01   |grad|: 1.251705e+01   exceeded trust region\n",
            "Terminated - max iterations reached after 6.51 seconds.\n",
            "\n",
            "Optimizing...\n",
            "                                            f: +5.096529e+01   |grad|: 4.300103e+00\n",
            "REJ TR-   k:     1     num_inner:     4     f: +5.096529e+01   |grad|: 4.300103e+00   negative curvature\n",
            "acc TR-   k:     2     num_inner:     3     f: +4.996996e+01   |grad|: 6.903762e+00   exceeded trust region\n",
            "acc TR+   k:     3     num_inner:     3     f: +4.487438e+01   |grad|: 2.249533e+00   exceeded trust region\n",
            "acc       k:     4     num_inner:     3     f: +4.392487e+01   |grad|: 1.931961e+00   exceeded trust region\n",
            "acc       k:     5     num_inner:     4     f: +4.273302e+01   |grad|: 9.910405e-01   exceeded trust region\n",
            "acc       k:     6     num_inner:     5     f: +4.222186e+01   |grad|: 6.207771e-01   exceeded trust region\n",
            "acc       k:     7     num_inner:     7     f: +4.198407e+01   |grad|: 5.661487e-01   exceeded trust region\n",
            "acc       k:     8     num_inner:    10     f: +4.186302e+01   |grad|: 5.107339e-01   exceeded trust region\n",
            "acc TR-   k:     9     num_inner:    12     f: +4.180361e+01   |grad|: 3.917690e-01   negative curvature\n",
            "acc TR+   k:    10     num_inner:     6     f: +4.168084e+01   |grad|: 1.026442e-01   exceeded trust region\n",
            "acc       k:    11     num_inner:    17     f: +4.166432e+01   |grad|: 4.948511e-02   exceeded trust region\n",
            "acc       k:    12     num_inner:    27     f: +4.165636e+01   |grad|: 3.862642e-02   exceeded trust region\n",
            "acc TR-   k:    13     num_inner:    26     f: +4.165495e+01   |grad|: 6.244585e-02   exceeded trust region\n",
            "acc TR+   k:    14     num_inner:    10     f: +4.164801e+01   |grad|: 2.064154e-02   exceeded trust region\n",
            "acc TR+   k:    15     num_inner:     9     f: +4.164336e+01   |grad|: 6.613580e-02   exceeded trust region\n",
            "acc TR+   k:    16     num_inner:     9     f: +4.161920e+01   |grad|: 1.386982e-01   exceeded trust region\n",
            "REJ TR-   k:    17     num_inner:     4     f: +4.161920e+01   |grad|: 1.386982e-01   exceeded trust region\n",
            "acc TR+   k:    18     num_inner:     3     f: +4.157039e+01   |grad|: 2.109870e-01   exceeded trust region\n",
            "REJ TR-   k:    19     num_inner:     3     f: +4.157039e+01   |grad|: 2.109870e-01   exceeded trust region\n",
            "acc TR+   k:    20     num_inner:     2     f: +4.152440e+01   |grad|: 1.629721e-01   exceeded trust region\n",
            "Terminated - max iterations reached after 12.05 seconds.\n",
            "\n",
            "Optimizing...\n",
            "                                            f: +4.152440e+01   |grad|: 1.193660e-01\n",
            "REJ TR-   k:     1     num_inner:    12     f: +4.152440e+01   |grad|: 1.193660e-01   exceeded trust region\n",
            "REJ TR-   k:     2     num_inner:    11     f: +4.152440e+01   |grad|: 1.193660e-01   exceeded trust region\n",
            "acc       k:     3     num_inner:     7     f: +4.149793e+01   |grad|: 8.354943e-02   exceeded trust region\n",
            "acc TR+   k:     4     num_inner:    10     f: +4.146026e+01   |grad|: 9.740616e-02   exceeded trust region\n",
            "acc       k:     5     num_inner:    15     f: +4.144282e+01   |grad|: 1.093526e-01   exceeded trust region\n",
            "acc TR-   k:     6     num_inner:    26     f: +4.143168e+01   |grad|: 1.396520e-01   exceeded trust region\n",
            "acc TR+   k:     7     num_inner:    15     f: +4.140965e+01   |grad|: 2.920251e-02   exceeded trust region\n",
            "acc       k:     8     num_inner:    95     f: +4.140662e+01   |grad|: 2.730405e-03   reached target residual-theta (superlinear)\n",
            "acc       k:     9     num_inner:   118     f: +4.140618e+01   |grad|: 3.959545e-04   reached target residual-theta (superlinear)\n",
            "acc       k:    10     num_inner:   125     f: +4.140618e+01   |grad|: 1.317847e-05   reached target residual-theta (superlinear)\n",
            "acc       k:    11     num_inner:   146     f: +4.140618e+01   |grad|: 2.714165e-10   reached target residual-theta (superlinear)\n",
            "Terminated - min grad norm reached after 11 iterations, 35.54 seconds.\n",
            "\n",
            "0.022545042180374314\n"
          ],
          "name": "stdout"
        }
      ]
    },
    {
      "cell_type": "markdown",
      "metadata": {
        "id": "ZPGUzfare9v-",
        "colab_type": "text"
      },
      "source": [
        "# THE COMPLEX CASE:"
      ]
    },
    {
      "cell_type": "code",
      "metadata": {
        "id": "7hhTpxKofCOE",
        "colab_type": "code",
        "colab": {}
      },
      "source": [
        "import numpy as np\n",
        "import numpy.linalg as la\n",
        "from numpy.random import (randint)\n",
        "from numpy import zeros, allclose\n",
        "\n",
        "from scipy.linalg import null_space\n",
        "from ManNullRange.manifolds.ComplexFixedRank import (\n",
        "    ComplexFixedRank, fr_ambient, fr_point, calc_D,\n",
        "    complex_extended_lyapunov)\n",
        "from ManNullRange.manifolds.tools import (\n",
        "    rtrace, cvec, cunvec, ahsym, hsym, crandn)\n",
        "from ManNullRange.tests.test_tools import check_zero, make_sym_pos, random_orthogonal, pprint"
      ],
      "execution_count": null,
      "outputs": []
    },
    {
      "cell_type": "code",
      "metadata": {
        "id": "N5MzQEkAgW-i",
        "colab_type": "code",
        "colab": {
          "base_uri": "https://localhost:8080/",
          "height": 816
        },
        "outputId": "9a7f224c-8136-4c91-c26b-bec512ed018e"
      },
      "source": [
        "def solve_dist_with_man(man, A, X0, maxiter):\n",
        "    from pymanopt import Problem\n",
        "    from pymanopt.solvers import TrustRegions\n",
        "    from pymanopt.function import Callable\n",
        "\n",
        "    @Callable\n",
        "    def cost(S):\n",
        "        # if not(S.P.dtype == np.float):\n",
        "        #    raise(ValueError(\"Non real\"))\n",
        "        diff = (A - S.U @ S.P @ S.V.T.conj())\n",
        "        val = rtrace(diff @ diff.T.conj())\n",
        "        # print('val=%f' % val)\n",
        "        return val\n",
        "\n",
        "    @Callable\n",
        "    def egrad(S):\n",
        "        return fr_ambient(-2*A @ S.V @ S.P,\n",
        "                          -2*A.T.conj() @ S.U @S.P,\n",
        "                          2*(S.P-S.U.T.conj() @ A @ S.V))\n",
        "    \n",
        "    @Callable\n",
        "    def ehess(S, xi):\n",
        "        return fr_ambient(-2*A @ (xi.tV @ S.P + S.V @ xi.tP),\n",
        "                          -2*A.T.conj() @ (xi.tU @S.P + S.U@xi.tP),\n",
        "                          2*(xi.tP - xi.tU.T.conj()@A@S.V -\n",
        "                             S.U.T.conj()@A@xi.tV))\n",
        "\n",
        "    prob = Problem(\n",
        "        man, cost, egrad=egrad, ehess=ehess)\n",
        "\n",
        "    solver = TrustRegions(maxtime=100000, maxiter=maxiter, use_rand=False)\n",
        "    opt = solver.solve(prob, x=X0, Delta_bar=250)\n",
        "    return opt\n",
        "\n",
        "\n",
        "m, n, p = (1000, 500, 50)\n",
        "# m, n, p = (10, 3, 2)\n",
        "# simple function. Distance to a given matrix\n",
        "# || S - A||_F^2\n",
        "U0, _ = la.qr(crandn(m, p))\n",
        "V0, _ = la.qr(crandn(n, p))\n",
        "P0 = np.diag(randint(1, 1000, p)*.001)\n",
        "A0 = U0 @ P0 @ V0.T.conj()\n",
        "A = crandn(m, n)*1e-2 + A0\n",
        "\n",
        "alpha = np.array([1, 1])\n",
        "gamma = np.array([1, 1])\n",
        "print(\"alpha %s\" % str(alpha))\n",
        "\n",
        "beta = alpha[1] * .1\n",
        "man = ComplexFixedRank(m, n, p, alpha=alpha, beta=beta, gamma=gamma)\n",
        "XInit = man.rand()\n",
        "opt_pre = solve_dist_with_man(man, A, X0=XInit, maxiter=20)\n",
        "\n",
        "beta = alpha[1] * 1\n",
        "man = ComplexFixedRank(m, n, p, alpha=alpha, beta=beta, gamma=gamma)\n",
        "opt_mid = solve_dist_with_man(man, A, X0=opt_pre, maxiter=20)\n",
        "# opt_mid = opt_pre\n",
        "\n",
        "beta = alpha[1] * 30\n",
        "man = ComplexFixedRank(m, n, p, alpha=alpha, beta=beta, gamma=gamma)\n",
        "opt = solve_dist_with_man(man, A, X0=opt_mid, maxiter=50)\n",
        "opt_mat = opt.U @ opt.P @ opt.V.T.conj()\n",
        "if False:\n",
        "    print(A0)\n",
        "    print(opt_mat)\n",
        "print(np.max(np.abs(A0-opt_mat)))\n"
      ],
      "execution_count": null,
      "outputs": [
        {
          "output_type": "stream",
          "text": [
            "alpha [1 1]\n",
            "Optimizing...\n",
            "                                            f: +9.505894e+05   |grad|: 1.562572e+06\n",
            "acc       k:     1     num_inner:     3     f: +3.870754e+05   |grad|: 6.140265e+05   reached target residual-kappa (linear)\n",
            "acc       k:     2     num_inner:     3     f: +1.571231e+05   |grad|: 2.412527e+05   reached target residual-kappa (linear)\n",
            "acc       k:     3     num_inner:     3     f: +6.344059e+04   |grad|: 9.471663e+04   reached target residual-kappa (linear)\n",
            "acc       k:     4     num_inner:     3     f: +2.550161e+04   |grad|: 3.715726e+04   reached target residual-kappa (linear)\n",
            "acc       k:     5     num_inner:     3     f: +1.022490e+04   |grad|: 1.455487e+04   reached target residual-kappa (linear)\n",
            "acc       k:     6     num_inner:     3     f: +4.127172e+03   |grad|: 5.696479e+03   reached target residual-kappa (linear)\n",
            "acc       k:     7     num_inner:     3     f: +1.702554e+03   |grad|: 2.228487e+03   reached target residual-kappa (linear)\n",
            "acc       k:     8     num_inner:     3     f: +7.408871e+02   |grad|: 8.712457e+02   reached target residual-kappa (linear)\n",
            "acc       k:     9     num_inner:     3     f: +3.601418e+02   |grad|: 3.400928e+02   reached target residual-kappa (linear)\n",
            "acc       k:    10     num_inner:     3     f: +2.097579e+02   |grad|: 1.323019e+02   reached target residual-kappa (linear)\n",
            "acc       k:    11     num_inner:     3     f: +1.504693e+02   |grad|: 5.106164e+01   reached target residual-kappa (linear)\n",
            "acc       k:    12     num_inner:     2     f: +1.272910e+02   |grad|: 1.941728e+01   reached target residual-kappa (linear)\n",
            "REJ TR-   k:    13     num_inner:     4     f: +1.272910e+02   |grad|: 1.941728e+01   negative curvature\n",
            "acc       k:    14     num_inner:     4     f: +1.114275e+02   |grad|: 2.376027e+01   negative curvature\n",
            "REJ TR-   k:    15     num_inner:     5     f: +1.114275e+02   |grad|: 2.376027e+01   exceeded trust region\n",
            "acc TR+   k:    16     num_inner:     4     f: +1.031529e+02   |grad|: 1.307185e+01   exceeded trust region\n",
            "acc       k:    17     num_inner:     4     f: +9.936766e+01   |grad|: 2.876758e+01   exceeded trust region\n",
            "REJ TR-   k:    18     num_inner:     8     f: +9.936766e+01   |grad|: 2.876758e+01   exceeded trust region\n",
            "acc TR+   k:    19     num_inner:     4     f: +9.333687e+01   |grad|: 1.102112e+01   exceeded trust region\n",
            "acc TR+   k:    20     num_inner:     4     f: +9.039487e+01   |grad|: 1.089607e+01   exceeded trust region\n",
            "Terminated - max iterations reached after 22.98 seconds.\n",
            "\n",
            "Optimizing...\n",
            "                                            f: +9.039487e+01   |grad|: 3.889690e+00\n",
            "REJ TR-   k:     1     num_inner:     4     f: +9.039487e+01   |grad|: 3.889690e+00   negative curvature\n",
            "acc TR-   k:     2     num_inner:     3     f: +8.859984e+01   |grad|: 6.548657e+00   exceeded trust region\n",
            "acc TR+   k:     3     num_inner:     3     f: +8.361317e+01   |grad|: 2.176949e+00   exceeded trust region\n",
            "acc       k:     4     num_inner:     3     f: +8.227606e+01   |grad|: 1.511773e+00   exceeded trust region\n",
            "acc       k:     5     num_inner:     4     f: +8.158293e+01   |grad|: 1.724934e+00   exceeded trust region\n",
            "acc       k:     6     num_inner:     6     f: +8.084754e+01   |grad|: 8.804948e-01   exceeded trust region\n",
            "acc       k:     7     num_inner:    12     f: +8.058184e+01   |grad|: 3.532524e-01   exceeded trust region\n",
            "acc       k:     8     num_inner:    23     f: +8.050825e+01   |grad|: 1.220748e-01   exceeded trust region\n",
            "acc       k:     9     num_inner:    35     f: +8.049317e+01   |grad|: 1.017221e-01   exceeded trust region\n",
            "acc       k:    10     num_inner:    33     f: +8.047929e+01   |grad|: 1.293678e-02   reached target residual-kappa (linear)\n",
            "acc       k:    11     num_inner:    66     f: +8.047870e+01   |grad|: 4.568900e-04   reached target residual-theta (superlinear)\n",
            "acc       k:    12     num_inner:   125     f: +8.047870e+01   |grad|: 3.846941e-07   reached target residual-theta (superlinear)\n",
            "Terminated - min grad norm reached after 12 iterations, 69.01 seconds.\n",
            "\n",
            "Optimizing...\n",
            "                                            f: +8.047870e+01   |grad|: 1.892530e-07\n",
            "REJ TR-   k:     1     num_inner:   285     f: +8.047870e+01   |grad|: 1.892530e-07   negative curvature\n",
            "Terminated - min grad norm reached after 1 iterations, 57.35 seconds.\n",
            "\n",
            "0.02759852807138589\n"
          ],
          "name": "stdout"
        }
      ]
    }
  ]
}