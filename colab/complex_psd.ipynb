{
  "nbformat": 4,
  "nbformat_minor": 0,
  "metadata": {
    "colab": {
      "name": "complex_psd.ipynb",
      "provenance": [],
      "authorship_tag": "ABX9TyMOooYbDdQ8ylPXm67R2oKs",
      "include_colab_link": true
    },
    "kernelspec": {
      "name": "python3",
      "display_name": "Python 3"
    }
  },
  "cells": [
    {
      "cell_type": "markdown",
      "metadata": {
        "id": "view-in-github",
        "colab_type": "text"
      },
      "source": [
        "<a href=\"https://colab.research.google.com/github/dnguyend/ManNullRange/blob/master/tests/complex_psd.ipynb\" target=\"_parent\"><img src=\"https://colab.research.google.com/assets/colab-badge.svg\" alt=\"Open In Colab\"/></a>"
      ]
    },
    {
      "cell_type": "markdown",
      "metadata": {
        "id": "JGYF0ahDFOz7",
        "colab_type": "text"
      },
      "source": [
        "$\\newcommand{\\C}{\\mathbb{C}}$\n",
        "$\\newcommand{\\rN}{\\mathrm{N}}$\n",
        "$\\newcommand{\\rD}{\\mathrm{D}}$\n",
        "$\\newcommand{\\cE}{\\mathcal{E}}$\n",
        "$\\newcommand{\\cEJ}{\\cE_{\\JJ}}$\n",
        "$\\newcommand{\\CTRL}{\\textsc{CTRL}}$\n",
        "$\\newcommand{\\Herm}[3]{\\mathrm{Sym}_{#1, #2, #3}}$\n",
        "$\\newcommand{\\AHerm}[3]{\\mathrm{Skew}_{#1, #2, #3}}$\n",
        "$\\newcommand{\\St}[3]{\\mathrm{St}_{#1, #2, #3}}$\n",
        "$\\newcommand{\\Sp}[3]{\\mathtt{S}^{+}_{#1, #2, #3}}$\n",
        "$\\newcommand{\\Sd}[2]{\\mathtt{S}^{+}_{#1, #2}}$\n",
        "$\\DeclareMathOperator{\\UU}{U}$\n",
        "$\\DeclareMathOperator{\\JJ}{J}$\n",
        "# Complex Positive-semidefinite manifold $\\Sp{\\C}{p}{n}$ with Riemannian quotient metric.\n",
        "* Manifold is Stiefel $\\St{\\C}{p}{n}$ times positive definite (PD) $\\Sd{\\C}{p}$ with the quotient by the unitary group $\\UU(\\C, p)$, via a representation $S = YPY^H$ with $Y\\in\\St{\\C}{p}{n}, P\\in \\Sd{\\C}{p}$.\n",
        "* Horizontal lift is normal to vertical vectors.\n",
        "* Ambient space $\\cE= \\C^{n\\times p}\\oplus\\C^{p\\times p}$\n",
        "* The tangent space is the nullspace of the operator $\\JJ(S)$ is $[\\omega_P-\\omega_P^H,  \\alpha_1 Y^{H} \\omega_Y+\\beta(\\omega_P P^{-1}-\\omega_P P^{-1}) ]$ in $\\cE_{\\JJ} = \\AHerm{\\C}{p}{p}\\oplus \\C^{p\\times p}$\n",
        "* Operator $\\rN(S)$ is $\\rN[B, D]=[\\beta Y(P^{-1}D - D P^{-1}) + Y_{\\perp}B, \\alpha_1 D]$ parameterizing the tangent space by $\\cE_{\\rN} = \\C^{(n-p)\\times p}\\oplus \\Herm{H}{\\C}{p}$.\n",
        "* We show an example of optimization, finding the rank $p$ matrix closest to a given matrix $A$.\n",
        "* We also show a detailed verification the implementation against a number of theoretical considerations: property of projection, the covariant derivatives is metric invariant and torsion free, and relationship between bilinear and operator Riemannian Hessian, various adjoint relations. "
      ]
    },
    {
      "cell_type": "code",
      "metadata": {
        "id": "uaHV0imoEWQ4",
        "colab_type": "code",
        "colab": {
          "base_uri": "https://localhost:8080/",
          "height": 136
        },
        "outputId": "7d5d43e5-cdbe-4c3b-d63f-a7e2a91c27da"
      },
      "source": [
        "!git clone https://github.com/dnguyend/ManNullRange.git"
      ],
      "execution_count": 1,
      "outputs": [
        {
          "output_type": "stream",
          "text": [
            "Cloning into 'ManNullRange'...\n",
            "remote: Enumerating objects: 137, done.\u001b[K\n",
            "remote: Counting objects: 100% (137/137), done.\u001b[K\n",
            "remote: Compressing objects: 100% (82/82), done.\u001b[K\n",
            "remote: Total 137 (delta 90), reused 89 (delta 54), pack-reused 0\u001b[K\n",
            "Receiving objects: 100% (137/137), 153.03 KiB | 440.00 KiB/s, done.\n",
            "Resolving deltas: 100% (90/90), done.\n"
          ],
          "name": "stdout"
        }
      ]
    },
    {
      "cell_type": "code",
      "metadata": {
        "id": "AlqlV_RjFC-P",
        "colab_type": "code",
        "colab": {
          "base_uri": "https://localhost:8080/",
          "height": 136
        },
        "outputId": "381d3ba1-a996-4fb2-bb37-a764217fa3e3"
      },
      "source": [
        "!git clone  https://github.com/pymanopt/pymanopt.git\n",
        "import sys\n",
        "sys.path.append(\"/content/pymanopt\")\n",
        "\n"
      ],
      "execution_count": 2,
      "outputs": [
        {
          "output_type": "stream",
          "text": [
            "Cloning into 'pymanopt'...\n",
            "remote: Enumerating objects: 77, done.\u001b[K\n",
            "remote: Counting objects: 100% (77/77), done.\u001b[K\n",
            "remote: Compressing objects: 100% (65/65), done.\u001b[K\n",
            "remote: Total 4124 (delta 43), reused 33 (delta 12), pack-reused 4047\u001b[K\n",
            "Receiving objects: 100% (4124/4124), 907.23 KiB | 1.21 MiB/s, done.\n",
            "Resolving deltas: 100% (2863/2863), done.\n"
          ],
          "name": "stdout"
        }
      ]
    },
    {
      "cell_type": "markdown",
      "metadata": {
        "id": "5pEXsHK8FB_k",
        "colab_type": "text"
      },
      "source": [
        "First we import the package. Basic structure: The manifold is ComplexPositiveSemidefinite, a manifold point is by the class psd_point, a point on the tangent space is psd_ambient. We have a few utility functions:\n",
        "crandn for complex random, and hsym is the Hermitian symmetrize operator $\\frac{1}{2}(X+X^H)$. Check zero just checks if a matrix is close to zero."
      ]
    },
    {
      "cell_type": "code",
      "metadata": {
        "id": "VMQMDC3pE2v8",
        "colab_type": "code",
        "colab": {}
      },
      "source": [
        "import numpy as np\n",
        "import pymanopt\n",
        "from numpy import trace\n",
        "from numpy.random import (randint)\n",
        "from ManNullRange.manifolds.ComplexPositiveSemidefinite import (ComplexPositiveSemidefinite, psd_ambient, psd_point)\n",
        "from ManNullRange.manifolds.tools import (crandn, hsym)\n",
        "from ManNullRange.tests.test_tools import check_zero"
      ],
      "execution_count": 3,
      "outputs": []
    },
    {
      "cell_type": "markdown",
      "metadata": {
        "id": "cV-CroO8gpzo",
        "colab_type": "text"
      },
      "source": [
        "This function set up to find the shortest distance to a manifold defined by man"
      ]
    },
    {
      "cell_type": "code",
      "metadata": {
        "id": "_RDPLqGyceYo",
        "colab_type": "code",
        "colab": {}
      },
      "source": [
        "def find_shortest_distance(man, A, X0, maxiter, check_deriv=False):\n",
        "    # simple function. Distance from a given matrix to the manifold\n",
        "    # || S - A||_F^2\n",
        "    from pymanopt import Problem\n",
        "    from pymanopt.solvers import TrustRegions\n",
        "    from pymanopt.function import Callable\n",
        "\n",
        "    @Callable\n",
        "    def cost(S):\n",
        "        diff = (A - S.Y @ S.P @ S.Y.T.conjugate())\n",
        "        val = trace(diff @ diff.T.conjugate()).real\n",
        "        return val\n",
        "\n",
        "    @Callable\n",
        "    def egrad(S):\n",
        "        return psd_ambient(-4*A @ S.Y @ S.P,\n",
        "                           2*(S.P-S.Y.T.conjugate() @ A @ S.Y))\n",
        "    @Callable\n",
        "    def ehess(S, xi):\n",
        "        return psd_ambient(\n",
        "            -4*A @ (xi.tY @ S.P + S.Y @ xi.tP),\n",
        "            2*(xi.tP - xi.tY.T.conjugate() @ A @ S.Y -\n",
        "               S.Y.T.conjugate() @ A @ xi.tY))\n",
        "    if check_deriv:\n",
        "        xi = man.randvec(X0)\n",
        "        dlt = 1e-7\n",
        "        S1 = psd_point(X0.Y+dlt*xi.tY, X0.P + dlt*xi.tP)\n",
        "        print((cost(S1) - cost(X0))/dlt)\n",
        "        print(man.base_inner_ambient(egrad(X0), xi))\n",
        "        h1 = egrad(S1) - egrad(X0)\n",
        "        h1 = psd_ambient(h1.tY/dlt, h1.tP/dlt)\n",
        "        h2 = ehess(X0, xi)\n",
        "        print(check_zero(h1.tY - h2.tY) + check_zero(h1.tP - h2.tP))\n",
        "        return\n",
        "\n",
        "    prob = Problem(\n",
        "        man, cost=cost, egrad=egrad, ehess=ehess)\n",
        "\n",
        "    solver = TrustRegions(maxtime=100000, maxiter=maxiter, use_rand=False)\n",
        "    opt = solver.solve(prob, x=X0, Delta_bar=250)\n",
        "    return opt\n",
        "    "
      ],
      "execution_count": 4,
      "outputs": []
    },
    {
      "cell_type": "markdown",
      "metadata": {
        "id": "yZ5FzkkDhupZ",
        "colab_type": "text"
      },
      "source": [
        "Then generate a $1000\\times 1000$ matrix that is close to a positive-semidefinite manifold of rank 20 manifold. Higher rank matrices take  longer time to run."
      ]
    },
    {
      "cell_type": "code",
      "metadata": {
        "id": "BHWEoq7LqKRM",
        "colab_type": "code",
        "colab": {
          "base_uri": "https://localhost:8080/",
          "height": 612
        },
        "outputId": "ebff510f-3e19-4d31-8eaa-fb1404ec4e2e"
      },
      "source": [
        "n, d = (1000, 20)\n",
        "Y0, _ = np.linalg.qr(crandn(n, d))\n",
        "P0 = np.diag(randint(1, 100, d)*.01)\n",
        "\n",
        "def ht(A):\n",
        "  return A.T.conjugate()\n",
        "\n",
        "A00 = Y0 @ P0 @ ht(Y0)\n",
        "A0 = hsym(A00)\n",
        "A1 = np.diag(crandn(n))*1e-2 + crandn(n, n)*1e-4\n",
        "# PY = Y0 @ ht(Y0)\n",
        "# A1 = PY @ A1  + A1 @ PY - PY@ A1 @ PY\n",
        "A = (hsym(A1) + A0)\n",
        "alpha = np.array([1, 1])\n",
        "print(\"alpha %s\" % str(alpha))\n",
        "beta = alpha[1] * .01\n",
        "man = ComplexPositiveSemidefinite(n, d, alpha=alpha, beta=beta)\n",
        "XInit = man.rand()\n",
        "opt_pre = find_shortest_distance(man, A, X0=XInit, maxiter=30, check_deriv=False)\n",
        "\n"
      ],
      "execution_count": 5,
      "outputs": [
        {
          "output_type": "stream",
          "text": [
            "alpha [1 1]\n",
            "Optimizing...\n",
            "                                            f: +5.719428e+04   |grad|: 4.491219e+05\n",
            "acc       k:     1     num_inner:     2     f: +2.356402e+04   |grad|: 1.770884e+05   reached target residual-kappa (linear)\n",
            "acc       k:     2     num_inner:     3     f: +9.469439e+03   |grad|: 6.941300e+04   reached target residual-kappa (linear)\n",
            "acc       k:     3     num_inner:     3     f: +3.806891e+03   |grad|: 2.723159e+04   reached target residual-kappa (linear)\n",
            "acc       k:     4     num_inner:     2     f: +1.557487e+03   |grad|: 1.073639e+04   reached target residual-kappa (linear)\n",
            "acc       k:     5     num_inner:     2     f: +6.304780e+02   |grad|: 4.229255e+03   reached target residual-kappa (linear)\n",
            "acc       k:     6     num_inner:     2     f: +2.538543e+02   |grad|: 1.654801e+03   reached target residual-kappa (linear)\n",
            "acc       k:     7     num_inner:     2     f: +1.040962e+02   |grad|: 6.472437e+02   reached target residual-kappa (linear)\n",
            "acc       k:     8     num_inner:     2     f: +4.456625e+01   |grad|: 2.531359e+02   reached target residual-kappa (linear)\n",
            "acc       k:     9     num_inner:     2     f: +2.093203e+01   |grad|: 9.895954e+01   reached target residual-kappa (linear)\n",
            "acc       k:    10     num_inner:     2     f: +1.159983e+01   |grad|: 3.866630e+01   reached target residual-kappa (linear)\n",
            "acc       k:    11     num_inner:     2     f: +7.937233e+00   |grad|: 1.510168e+01   reached target residual-kappa (linear)\n",
            "acc       k:    12     num_inner:     2     f: +6.504181e+00   |grad|: 5.896582e+00   reached target residual-kappa (linear)\n",
            "acc       k:    13     num_inner:     3     f: +5.941001e+00   |grad|: 2.280968e+00   reached target residual-kappa (linear)\n",
            "REJ TR-   k:    14     num_inner:     4     f: +5.941001e+00   |grad|: 2.280968e+00   negative curvature\n",
            "REJ TR-   k:    15     num_inner:     4     f: +5.941001e+00   |grad|: 2.280968e+00   negative curvature\n",
            "acc       k:    16     num_inner:     4     f: +4.979619e+00   |grad|: 3.366972e+00   negative curvature\n",
            "REJ TR-   k:    17     num_inner:     1     f: +4.979619e+00   |grad|: 3.366972e+00   negative curvature\n",
            "REJ TR-   k:    18     num_inner:     0     f: +4.979619e+00   |grad|: 3.366972e+00   exceeded trust region\n",
            "acc TR+   k:    19     num_inner:     0     f: +4.687295e+00   |grad|: 2.856461e+00   exceeded trust region\n",
            "acc TR-   k:    20     num_inner:     1     f: +4.568802e+00   |grad|: 1.193818e+01   exceeded trust region\n",
            "acc TR+   k:    21     num_inner:     1     f: +4.250133e+00   |grad|: 4.068770e+00   exceeded trust region\n",
            "acc TR+   k:    22     num_inner:     1     f: +4.010518e+00   |grad|: 2.495264e+00   exceeded trust region\n",
            "REJ TR-   k:    23     num_inner:     1     f: +4.010518e+00   |grad|: 2.495264e+00   exceeded trust region\n",
            "acc TR+   k:    24     num_inner:     1     f: +3.920015e+00   |grad|: 2.616860e+00   exceeded trust region\n",
            "acc TR+   k:    25     num_inner:     1     f: +3.759355e+00   |grad|: 5.607156e+00   exceeded trust region\n",
            "acc TR+   k:    26     num_inner:     1     f: +3.443001e+00   |grad|: 1.009417e+01   exceeded trust region\n",
            "REJ TR-   k:    27     num_inner:     3     f: +3.443001e+00   |grad|: 1.009417e+01   exceeded trust region\n",
            "acc TR+   k:    28     num_inner:     2     f: +3.195265e+00   |grad|: 7.038934e+00   exceeded trust region\n",
            "acc       k:    29     num_inner:     2     f: +3.070158e+00   |grad|: 1.706488e+01   exceeded trust region\n",
            "acc TR+   k:    30     num_inner:     3     f: +2.484441e+00   |grad|: 6.534890e+00   exceeded trust region\n",
            "Terminated - max iterations reached after 19.92 seconds.\n",
            "\n"
          ],
          "name": "stdout"
        }
      ]
    },
    {
      "cell_type": "markdown",
      "metadata": {
        "id": "bSkRzEptoj6X",
        "colab_type": "text"
      },
      "source": [
        "We could see the gradient drops fast from 1e5 to single digit. We use this pre optimize version with small beta as initial value to run the next one, with beta=1, then with beta = 30 as we get close to the optimal value:"
      ]
    },
    {
      "cell_type": "code",
      "metadata": {
        "id": "X2KD5AlPnV1v",
        "colab_type": "code",
        "colab": {
          "base_uri": "https://localhost:8080/",
          "height": 799
        },
        "outputId": "54bd833e-4f66-4aaa-db25-38f6aae53ed7"
      },
      "source": [
        "if True:\n",
        "  beta = alpha[1] * 1\n",
        "  man = ComplexPositiveSemidefinite(n, d, alpha=alpha, beta=beta)\n",
        "  opt_mid = find_shortest_distance(man, A, X0=opt_pre, maxiter=30)\n",
        "\n",
        "\n",
        "beta = alpha[1] * 30\n",
        "man = ComplexPositiveSemidefinite(n, d, alpha=alpha, beta=beta)\n",
        "opt = find_shortest_distance(man, A, X0=opt_mid, maxiter=50)\n",
        "opt_mat = opt.Y @ opt.P @ opt.Y.T.conjugate()\n"
      ],
      "execution_count": 6,
      "outputs": [
        {
          "output_type": "stream",
          "text": [
            "Optimizing...\n",
            "                                            f: +2.484441e+00   |grad|: 1.378346e+00\n",
            "REJ TR-   k:     1     num_inner:     2     f: +2.484441e+00   |grad|: 1.378346e+00   negative curvature\n",
            "REJ TR-   k:     2     num_inner:     2     f: +2.484441e+00   |grad|: 1.378346e+00   negative curvature\n",
            "acc TR-   k:     3     num_inner:     1     f: +2.191079e+00   |grad|: 1.905835e+00   exceeded trust region\n",
            "acc TR+   k:     4     num_inner:     0     f: +1.669840e+00   |grad|: 4.947410e-01   exceeded trust region\n",
            "acc       k:     5     num_inner:     1     f: +1.566099e+00   |grad|: 7.853107e-01   exceeded trust region\n",
            "acc TR+   k:     6     num_inner:     2     f: +1.328344e+00   |grad|: 4.718467e-01   exceeded trust region\n",
            "acc       k:     7     num_inner:     2     f: +1.066747e+00   |grad|: 6.590485e-01   negative curvature\n",
            "REJ TR-   k:     8     num_inner:     5     f: +1.066747e+00   |grad|: 6.590485e-01   exceeded trust region\n",
            "acc TR+   k:     9     num_inner:     1     f: +9.137997e-01   |grad|: 1.882082e-01   exceeded trust region\n",
            "acc TR-   k:    10     num_inner:     3     f: +9.058138e-01   |grad|: 4.789686e-01   exceeded trust region\n",
            "acc TR+   k:    11     num_inner:     0     f: +8.359326e-01   |grad|: 1.710465e-01   exceeded trust region\n",
            "acc TR+   k:    12     num_inner:     2     f: +7.870670e-01   |grad|: 1.441511e-01   exceeded trust region\n",
            "acc TR+   k:    13     num_inner:     1     f: +7.227380e-01   |grad|: 3.354205e-01   exceeded trust region\n",
            "acc       k:    14     num_inner:     2     f: +5.961492e-01   |grad|: 6.355747e-01   exceeded trust region\n",
            "acc       k:    15     num_inner:     5     f: +4.877106e-01   |grad|: 6.068847e-01   exceeded trust region\n",
            "acc       k:    16     num_inner:     5     f: +3.633984e-01   |grad|: 4.033281e-01   exceeded trust region\n",
            "acc TR+   k:    17     num_inner:     5     f: +2.494452e-01   |grad|: 2.782664e-01   exceeded trust region\n",
            "REJ TR-   k:    18     num_inner:    11     f: +2.494452e-01   |grad|: 2.782664e-01   exceeded trust region\n",
            "acc TR+   k:    19     num_inner:     7     f: +1.828920e-01   |grad|: 1.122701e-01   exceeded trust region\n",
            "acc       k:    20     num_inner:     7     f: +1.701535e-01   |grad|: 1.643541e-01   exceeded trust region\n",
            "REJ TR-   k:    21     num_inner:    12     f: +1.701535e-01   |grad|: 1.643541e-01   exceeded trust region\n",
            "acc TR+   k:    22     num_inner:     6     f: +1.384686e-01   |grad|: 4.815299e-02   exceeded trust region\n",
            "acc       k:    23     num_inner:     8     f: +1.307982e-01   |grad|: 6.145068e-02   exceeded trust region\n",
            "acc       k:    24     num_inner:    10     f: +1.250942e-01   |grad|: 5.017873e-02   exceeded trust region\n",
            "acc TR+   k:    25     num_inner:     9     f: +1.157249e-01   |grad|: 4.897988e-02   exceeded trust region\n",
            "REJ TR-   k:    26     num_inner:    19     f: +1.157249e-01   |grad|: 4.897988e-02   exceeded trust region\n",
            "acc TR+   k:    27     num_inner:    11     f: +1.117672e-01   |grad|: 1.599261e-02   exceeded trust region\n",
            "REJ TR-   k:    28     num_inner:    21     f: +1.117672e-01   |grad|: 1.599261e-02   exceeded trust region\n",
            "acc TR+   k:    29     num_inner:     9     f: +1.108568e-01   |grad|: 1.576199e-02   exceeded trust region\n",
            "acc       k:    30     num_inner:    29     f: +1.103443e-01   |grad|: 7.673774e-03   exceeded trust region\n",
            "Terminated - max iterations reached after 35.90 seconds.\n",
            "\n",
            "Optimizing...\n",
            "                                            f: +1.103443e-01   |grad|: 6.436354e-03\n",
            "REJ TR-   k:     1     num_inner:    61     f: +1.103443e-01   |grad|: 6.436354e-03   negative curvature\n",
            "REJ TR-   k:     2     num_inner:    58     f: +1.103443e-01   |grad|: 6.436354e-03   exceeded trust region\n",
            "acc       k:     3     num_inner:    38     f: +1.099801e-01   |grad|: 7.058796e-03   exceeded trust region\n",
            "acc       k:     4     num_inner:    93     f: +1.097749e-01   |grad|: 3.559725e-03   exceeded trust region\n",
            "acc       k:     5     num_inner:   167     f: +1.095480e-01   |grad|: 1.430269e-03   exceeded trust region\n",
            "acc       k:     6     num_inner:   521     f: +1.094732e-01   |grad|: 2.330131e-04   reached target residual-theta (superlinear)\n",
            "acc       k:     7     num_inner:   475     f: +1.094516e-01   |grad|: 2.172148e-05   reached target residual-theta (superlinear)\n",
            "acc       k:     8     num_inner:   512     f: +1.094514e-01   |grad|: 1.189663e-07   reached target residual-theta (superlinear)\n",
            "Terminated - min grad norm reached after 8 iterations, 220.06 seconds.\n",
            "\n"
          ],
          "name": "stdout"
        }
      ]
    },
    {
      "cell_type": "markdown",
      "metadata": {
        "id": "k_bREJu7EKxS",
        "colab_type": "text"
      },
      "source": [
        "Check that it recovers the eigenvalues:"
      ]
    },
    {
      "cell_type": "code",
      "metadata": {
        "id": "ok_miOHFrocA",
        "colab_type": "code",
        "colab": {
          "base_uri": "https://localhost:8080/",
          "height": 221
        },
        "outputId": "4ceae57b-e94f-427b-af30-5101d8c25169"
      },
      "source": [
        "from numpy.linalg import eigh\n",
        "eh_in = eigh(A0)[0]\n",
        "eh_out = eigh(opt_mat)[0]\n",
        "print(eh_in[-(d+2):])\n",
        "print(eh_out[-(d+2):])"
      ],
      "execution_count": 7,
      "outputs": [
        {
          "output_type": "stream",
          "text": [
            "[8.10309016e-16 9.12590494e-16 3.00000000e-02 9.00000000e-02\n",
            " 1.00000000e-01 1.10000000e-01 1.60000000e-01 2.10000000e-01\n",
            " 2.70000000e-01 2.70000000e-01 2.90000000e-01 3.00000000e-01\n",
            " 3.40000000e-01 3.40000000e-01 4.50000000e-01 5.80000000e-01\n",
            " 5.80000000e-01 7.70000000e-01 9.10000000e-01 9.10000000e-01\n",
            " 9.20000000e-01 9.40000000e-01]\n",
            "[7.42597583e-16 8.48360427e-16 3.39653955e-02 9.10040622e-02\n",
            " 1.00384357e-01 1.10712064e-01 1.60949428e-01 2.10790954e-01\n",
            " 2.69793541e-01 2.70204403e-01 2.89716585e-01 3.00235592e-01\n",
            " 3.39491130e-01 3.40389557e-01 4.49222517e-01 5.79649296e-01\n",
            " 5.80022115e-01 7.69816864e-01 9.09806731e-01 9.09978784e-01\n",
            " 9.19585008e-01 9.40210001e-01]\n"
          ],
          "name": "stdout"
        }
      ]
    },
    {
      "cell_type": "markdown",
      "metadata": {
        "id": "gjiXd2L2FMOi",
        "colab_type": "text"
      },
      "source": [
        "Our testing strategy is provide a vectorization to test the adjoints, test the various properties of projection is satisfied, and check the covariant derivatives is compatible with metric and is torsion free."
      ]
    },
    {
      "cell_type": "code",
      "metadata": {
        "id": "7uo5PBp9gJPw",
        "colab_type": "code",
        "colab": {}
      },
      "source": [
        "from numpy import zeros, trace, allclose\n",
        "import numpy.linalg as la\n",
        "\n",
        "from ManNullRange.manifolds.ComplexPositiveSemidefinite import (\n",
        "    ComplexPositiveSemidefinite, psd_ambient, psd_point)    \n",
        "from ManNullRange.manifolds.tools import crandn, hsym, complex_extended_lyapunov\n"
      ],
      "execution_count": 10,
      "outputs": []
    },
    {
      "cell_type": "code",
      "metadata": {
        "id": "KJEU_MlktAtY",
        "colab_type": "code",
        "colab": {
          "base_uri": "https://localhost:8080/",
          "height": 119
        },
        "outputId": "661ac06c-0883-474e-defa-59f21095501f"
      },
      "source": [
        "def test_vectorize():\n",
        "    from ManNullRange.manifolds.tools import cvech, cunvech, cvecah, cunvecah\n",
        "    p = 10\n",
        "    mat = crandn(p, p)\n",
        "    mat += mat.T.conjugate()\n",
        "    v = cvech(mat)\n",
        "    mat2 = cunvech(v)\n",
        "    print(check_zero(mat-mat2))\n",
        "\n",
        "    # check inner product:\n",
        "    for i in range(p*p):\n",
        "        v = zeros(p*p)\n",
        "        v[i] = 1\n",
        "        h = cunvech(v)\n",
        "        assert(np.abs(trace(h @ h.T.conjugate()).real-1) < 1e-10)\n",
        "\n",
        "    # now do skew\n",
        "    mat = crandn(p, p)\n",
        "    mat -= mat.T.conjugate()\n",
        "    v = cvecah(mat)\n",
        "    mat2 = cunvecah(v)\n",
        "    print(check_zero(mat-mat2))\n",
        "    \n",
        "    for i in range(p*p):\n",
        "        v = zeros(p*p)\n",
        "        v[i] = 1\n",
        "        h = cunvecah(v)\n",
        "        assert(np.abs(trace(h @ h.T.conjugate()).real-1) < 1e-10)\n",
        "        \n",
        "for i in range(3):\n",
        "  test_vectorize()"
      ],
      "execution_count": 13,
      "outputs": [
        {
          "output_type": "stream",
          "text": [
            "4.440892098500626e-16\n",
            "2.482534153247273e-16\n",
            "2.2887833992611187e-16\n",
            "4.440892098500626e-16\n",
            "3.1401849173675503e-16\n",
            "4.440892098500626e-16\n"
          ],
          "name": "stdout"
        }
      ]
    },
    {
      "cell_type": "markdown",
      "metadata": {
        "id": "uDZnTAc-1iwj",
        "colab_type": "text"
      },
      "source": [
        "Note that vectorization above is just a convenient function for testing. We tested that vec and unvec are inverse functions, and an orthogonal basis on the vectorized correspond to an orthogonal basis under the Frobenius inner product. In the next block we check the inner product, and check the implementation of $J$"
      ]
    },
    {
      "cell_type": "code",
      "metadata": {
        "id": "En6ayM5xcVwV",
        "colab_type": "code",
        "colab": {
          "base_uri": "https://localhost:8080/",
          "height": 51
        },
        "outputId": "146f07e3-b954-46e5-b41a-2eaf63531094"
      },
      "source": [
        "def test_inner(man, S):\n",
        "    for i in range(10):\n",
        "        alpha = man.alpha\n",
        "        bt = man.beta\n",
        "        eta1 = man._rand_ambient()\n",
        "        eta2 = man._rand_ambient()\n",
        "        Y = S.Y\n",
        "        Pinv = S.Pinv\n",
        "        inn1 = alpha[0]*trace(eta1.tY.T.conjugate() @ eta2.tY) +\\\n",
        "            (alpha[1]-alpha[0])*trace((eta1.tY.T.conjugate()@Y) @\n",
        "                                      (Y.T.conjugate() @ eta2.tY)) +\\\n",
        "            bt*trace(Pinv@eta1.tP@Pinv@eta2.tP.T.conjugate())\n",
        "        assert(allclose(man.inner(S, eta1, eta2), inn1.real))\n",
        "        \n",
        "        eta2a = man.g_inv(S, eta2)\n",
        "        v1 = man.inner(S, eta1, eta2a)\n",
        "        v2 = trace(eta1.tY @ eta2.tY.T.conjugate()) +\\\n",
        "            trace(eta1.tP@eta2.tP.T.conjugate())\n",
        "        assert(allclose(v1, v2.real))\n",
        "    print(True)\n",
        "\n",
        "\n",
        "def test_J(man, S):\n",
        "    al = man.alpha\n",
        "    bt = man.beta\n",
        "    \n",
        "    def diff_i(ii):\n",
        "        U = zeros(man.tdim_St+man.tdim_P)\n",
        "        U[ii] = 1\n",
        "        E = man._unvec(U)\n",
        "        jE = man.J(S, E)\n",
        "        jE1 = {'P': E.tP - E.tP.T.conjugate(),\n",
        "               'YP': al[1]*S.Y.T.conjugate()@E.tY +\n",
        "               bt*(E.tP@S.Pinv-S.Pinv@E.tP)}\n",
        "        return np.mean(np.abs(man._vec_range_J(jE)-man._vec_range_J(jE1)))\n",
        "\n",
        "    diffs = zeros(man.tdim_St + man.tdim_P)\n",
        "    for ii in range(diffs.shape[0]):\n",
        "        diffs[ii] = diff_i(ii)\n",
        "    try:\n",
        "        assert(allclose(diffs, 0))\n",
        "        print(True)\n",
        "    except Exception:\n",
        "        print(False)\n",
        "\n",
        "alpha = randint(1, 10, 2) * .1\n",
        "beta = randint(1, 10, 1)[0] * .02\n",
        "n = 5\n",
        "d = 3\n",
        "man = ComplexPositiveSemidefinite(n, d, alpha=alpha, beta=beta)\n",
        "S = man.rand()\n",
        "\n",
        "test_inner(man, S)\n",
        "test_J(man, S)\n",
        "\n"
      ],
      "execution_count": 14,
      "outputs": [
        {
          "output_type": "stream",
          "text": [
            "True\n",
            "True\n"
          ],
          "name": "stdout"
        }
      ]
    },
    {
      "cell_type": "markdown",
      "metadata": {
        "id": "MgM5mFPQ2qYq",
        "colab_type": "text"
      },
      "source": [
        "We then check the adjoint $Jst$, by vectorizing, representing $J$ as a matrix and take adjoint, then compare with the implementation"
      ]
    },
    {
      "cell_type": "code",
      "metadata": {
        "id": "jveq_CDJ2zIE",
        "colab_type": "code",
        "colab": {
          "base_uri": "https://localhost:8080/",
          "height": 204
        },
        "outputId": "ce4ca538-4bde-4bca-974e-e7926123062c"
      },
      "source": [
        "\n",
        "def make_j_mat(man, S):\n",
        "    # philopsophy is if there is a direct sum then cvec a component at a time\n",
        "    # so vec\n",
        "\n",
        "    codim = man.codim\n",
        "    ret = zeros((codim, man.tdim_P + man.tdim_St))\n",
        "    for ii in range(ret.shape[1]):\n",
        "        ee = np.zeros(ret.shape[1])\n",
        "        ee[ii] = 1            \n",
        "        ret[:, ii] = man._vec_range_J(\n",
        "            man.J(S, man._unvec(ee)))\n",
        "    return ret\n",
        "        \n",
        "\n",
        "def make_g_inv_mat(man, S):\n",
        "    nn = man.tdim_P + man.tdim_St\n",
        "    ret = zeros((nn, nn))\n",
        "    for ii in range(ret.shape[1]):\n",
        "        ee = np.zeros(ret.shape[1])\n",
        "        ee[ii] = 1            \n",
        "        eeS = man._unvec(ee)\n",
        "        ret[:, ii] = man._vec(\n",
        "            man.g_inv(S, eeS))\n",
        "    return ret\n",
        "\n",
        "def test_Jst(man, S, jmat):\n",
        "    print(\"test JST\")\n",
        "    for ii in range(10):\n",
        "        a = man._rand_range_J()\n",
        "        avec = man._vec_range_J(a)\n",
        "        jtout = jmat.T @ avec\n",
        "        jtout2 = man._vec(man.Jst(S, a))\n",
        "        # print(np.where(np.abs(jtout - jtout2) > 1e-9))\n",
        "        diff = check_zero(jtout-jtout2)\n",
        "        print(diff)\n",
        "\n",
        "jmat = make_j_mat(man, S)\n",
        "test_Jst(man, S, jmat)    "
      ],
      "execution_count": 15,
      "outputs": [
        {
          "output_type": "stream",
          "text": [
            "test JST\n",
            "1.7763568394002505e-15\n",
            "8.881784197001252e-16\n",
            "1.7763568394002505e-15\n",
            "8.881784197001252e-16\n",
            "1.7763568394002505e-15\n",
            "1.7763568394002505e-15\n",
            "4.440892098500626e-16\n",
            "8.881784197001252e-16\n",
            "1.7763568394002505e-15\n",
            "4.440892098500626e-16\n"
          ],
          "name": "stdout"
        }
      ]
    },
    {
      "cell_type": "markdown",
      "metadata": {
        "id": "A95lyYVi3QpE",
        "colab_type": "text"
      },
      "source": [
        "We then test the extended Lyapunov equation:"
      ]
    },
    {
      "cell_type": "code",
      "metadata": {
        "id": "QDneSINT3VNa",
        "colab_type": "code",
        "colab": {
          "base_uri": "https://localhost:8080/",
          "height": 187
        },
        "outputId": "be26d850-25aa-4d34-d21b-b32664508912"
      },
      "source": [
        "def test_lyapunov():\n",
        "    alpha = randint(1, 10, 2) * .1\n",
        "    beta = randint(1, 10, 1)[0] * .02\n",
        "    n = 5\n",
        "    d = 3\n",
        "    man = ComplexPositiveSemidefinite(n, d, alpha=alpha, beta=beta)\n",
        "    S = man.rand()\n",
        "\n",
        "    P = S.P\n",
        "    B = crandn(d, d)\n",
        "    alpha1 = alpha[1]\n",
        "    \n",
        "    def L(X, P):\n",
        "        Piv = la.inv(P)\n",
        "        return (alpha1 - 2*beta)*X + beta*(P@X@Piv + Piv@X@P)\n",
        "    X = complex_extended_lyapunov(alpha1, beta, P, B)\n",
        "    # L(X, P)\n",
        "    print(check_zero(B-L(X, P)))\n",
        "\n",
        "for i in range(10):\n",
        "  test_lyapunov()"
      ],
      "execution_count": 16,
      "outputs": [
        {
          "output_type": "stream",
          "text": [
            "2.4245857620654024e-14\n",
            "2.2991268696100664e-14\n",
            "4.318467880798754e-15\n",
            "1.1801832636420706e-15\n",
            "1.1631705747361533e-15\n",
            "3.5614848888819304e-15\n",
            "9.155133597044475e-16\n",
            "4.902690697762858e-15\n",
            "4.906130692364006e-14\n",
            "1.2412670766236366e-15\n"
          ],
          "name": "stdout"
        }
      ]
    },
    {
      "cell_type": "markdown",
      "metadata": {
        "id": "vT2FEOgH3vie",
        "colab_type": "text"
      },
      "source": [
        "Test implementation of $g^{-1}J^H$. We represent the metric as an operator, take its inverse, then compute $g^{-1}J^H$ in two different ways and compare"
      ]
    },
    {
      "cell_type": "code",
      "metadata": {
        "id": "Jy6TOoxA31GH",
        "colab_type": "code",
        "colab": {
          "base_uri": "https://localhost:8080/",
          "height": 221
        },
        "outputId": "024378dd-4fd2-46b3-9cf7-c05876c186db"
      },
      "source": [
        "  ginv_mat = make_g_inv_mat(man, S)\n",
        "  ee = man._rand_ambient()\n",
        "  g1 = man._unvec(ginv_mat @ man._vec(ee))\n",
        "  print(check_zero(man.g_inv(S, ee).tP-g1.tP))\n",
        "  print(check_zero(man.g_inv(S, ee).tY-g1.tY))\n",
        "  # test g_inv_Jst\n",
        "  for ii in range(10):\n",
        "      a = man._rand_range_J()\n",
        "      avec = man._vec_range_J(a)\n",
        "      jtout = ginv_mat @ jmat.T @ avec\n",
        "      jtout2 = man._vec(man.g_inv_Jst(S, a))\n",
        "      diff = check_zero(jtout-jtout2)\n",
        "      print(diff)\n"
      ],
      "execution_count": 17,
      "outputs": [
        {
          "output_type": "stream",
          "text": [
            "1.224444715065716e-12\n",
            "2.0380985511143445e-15\n",
            "5.4569682106375694e-12\n",
            "7.275957614183426e-12\n",
            "1.4551915228366852e-11\n",
            "7.275957614183426e-12\n",
            "1.8189894035458565e-12\n",
            "7.275957614183426e-12\n",
            "7.275957614183426e-12\n",
            "2.9103830456733704e-11\n",
            "7.275957614183426e-12\n",
            "1.4551915228366852e-11\n"
          ],
          "name": "stdout"
        }
      ]
    },
    {
      "cell_type": "markdown",
      "metadata": {
        "id": "H56RHl1_4PT5",
        "colab_type": "text"
      },
      "source": [
        "Test projection in two ways, using the $J$ operator approach and the $N$ operator as in the paper. \n",
        "We check: \n",
        "* projection is horizonal, \n",
        "* the stiefel part of projection satisfies the condition for tangent vector on Stiefel and the PD part is symmetric.\n",
        "* $\\langle\\omega, \\eta\\rangle = \\langle \\Pi\\omega, \\eta\\rangle$ if $\\eta$ is in the tangent space and $\\omega$ in ambient space.\n",
        "* The \"N\" method is same as the \"J\" method:"
      ]
    },
    {
      "cell_type": "code",
      "metadata": {
        "id": "EEJghEud4WCb",
        "colab_type": "code",
        "colab": {
          "base_uri": "https://localhost:8080/",
          "height": 340
        },
        "outputId": "fa4b3b62-617f-4caa-fcfd-8fef9813c4f8"
      },
      "source": [
        "\n",
        "    \n",
        "def test_projection(man, S):\n",
        "    print(\"test projection\")\n",
        "    N = 10\n",
        "    ret = np.zeros(N)\n",
        "\n",
        "    for i in range(N):\n",
        "        U = man._rand_ambient()\n",
        "        Upr = man.proj(S, U)\n",
        "        ret[i] = check_zero(man._vec_range_J(man.J(S, Upr)))\n",
        "    print(ret)\n",
        "    \n",
        "    if check_zero(ret) > 1e-8:\n",
        "        print(\"not all works\")\n",
        "    else:\n",
        "        print(\"All good\")\n",
        "    print(\"test randvec\")\n",
        "    ret_pr = np.zeros(N)\n",
        "    for i in range(N):\n",
        "        XX = man.rand()\n",
        "        H = man.randvec(XX)\n",
        "        U = man._rand_ambient()\n",
        "        Upr = man.proj(XX, U)\n",
        "        ret_pr[i] = man.inner(XX, U, H) - man.inner(XX, Upr, H)\n",
        "        ret[i] = (check_zero(XX.Y.T.conjugate() @ H.tY +\n",
        "                             H.tY.T.conjugate() @ XX.Y))\n",
        "    print(ret)\n",
        "    if check_zero(ret) > 1e-9:\n",
        "        print(\"not all works\")\n",
        "    else:\n",
        "        print(\"All good\")\n",
        "    print(\"check inner of projection = inner of original\")\n",
        "    print(ret_pr)\n",
        "    if check_zero(ret_pr) > 1e-8:\n",
        "        print(\"not all works\")\n",
        "    else:\n",
        "        print(\"All good\")\n",
        "\n",
        "\n",
        "\n",
        "def test_N_proj():\n",
        "    alpha = randint(1, 10, 2) * .1\n",
        "    beta = randint(1, 10, 1)[0] * .02\n",
        "    n = 10\n",
        "    d = 6\n",
        "    man = ComplexPositiveSemidefinite(n, d, alpha=alpha, beta=beta)\n",
        "    S = man.rand()\n",
        "    \"\"\"\n",
        "    def proj_range_alt(man, S, U):\n",
        "        # projection. U is in ambient\n",
        "        # return one in tangent\n",
        "        al1 = man.alpha[1]\n",
        "        beta = man.beta\n",
        "        YTU = S.Y.T@U.tY\n",
        "        D0 = sym(U.tP + YTU@S.P - S.P@YTU)\n",
        "        D = _extended_lyapunov(al1, beta, S.P, D0, S.evl, S.evec)\n",
        "        return psd_ambient(\n",
        "            beta*S.Y@(S.Pinv@D-D@S.Pinv) + U.tY - S.Y@(S.Y.T@U.tY), al1*D)\n",
        "    \"\"\"\n",
        "    U = man.randvec(S)\n",
        "    Upr1 = super(ComplexPositiveSemidefinite, man).proj(S, U)\n",
        "    Upr2 = man.proj(S, U)\n",
        "    Upr3 = man.proj_range_alt(S, U)\n",
        "    print(check_zero(Upr1.tP-Upr2.tP))\n",
        "    print(check_zero(Upr1.tY-Upr2.tY))\n",
        "    print(check_zero(Upr1.tY-Upr3.tY))\n",
        "    print(check_zero(Upr1.tP-Upr3.tP))\n",
        "test_projection(man, S)\n",
        "test_N_proj()"
      ],
      "execution_count": 18,
      "outputs": [
        {
          "output_type": "stream",
          "text": [
            "test projection\n",
            "[7.10542736e-16 3.30346745e-15 6.28036983e-16 2.51214793e-15\n",
            " 1.25607397e-15 5.02429587e-15 1.25607397e-15 2.51214793e-15\n",
            " 1.47659662e-15 9.76996262e-16]\n",
            "All good\n",
            "test randvec\n",
            "[5.57880165e-16 6.75357949e-16 1.33226763e-15 8.55033921e-16\n",
            " 2.63677968e-16 3.97399365e-16 9.08995101e-16 6.24500451e-16\n",
            " 3.35371896e-16 6.52256027e-16]\n",
            "All good\n",
            "check inner of projection = inner of original\n",
            "[-9.99200722e-16  0.00000000e+00  1.11022302e-16  1.11022302e-16\n",
            "  2.22044605e-16 -2.22044605e-16 -1.11022302e-16  0.00000000e+00\n",
            " -6.66133815e-16  3.13638004e-15]\n",
            "All good\n",
            "2.144915255004782e-15\n",
            "1.8670653977139892e-16\n",
            "4.665728978696896e-16\n",
            "2.458749249743224e-14\n"
          ],
          "name": "stdout"
        }
      ]
    },
    {
      "cell_type": "markdown",
      "metadata": {
        "id": "v6M8L6y_7epc",
        "colab_type": "text"
      },
      "source": [
        "Test the various expression related to inverting $Jg^{-1}J^H$:"
      ]
    },
    {
      "cell_type": "code",
      "metadata": {
        "id": "xP91w7Ow7k_z",
        "colab_type": "code",
        "colab": {
          "base_uri": "https://localhost:8080/",
          "height": 1000
        },
        "outputId": "ef23efc1-bbe6-48ff-d854-8265567ae9b5"
      },
      "source": [
        "    for i in range(10):\n",
        "        a = man._rand_range_J()\n",
        "        eta = man._rand_ambient()\n",
        "        print(man.base_inner_ambient(eta, man.Jst(S, a)))\n",
        "        print((trace((eta.tP.T.conjugate() - eta.tP) @ a['P'] + (\n",
        "            man.alpha[1]*eta.tY.T.conjugate() @ S.Y + man.beta*(\n",
        "                S.Pinv @ eta.tP.T.conjugate() -\n",
        "                eta.tP.T.conjugate() @ S.Pinv)) @ a['YP'])).real)\n",
        "\n",
        "        print((trace(2 * eta.tP.T.conjugate() @ a['P']) + trace((\n",
        "            man.alpha[1]*eta.tY.T.conjugate() @ S.Y + man.beta*(\n",
        "                S.Pinv @ eta.tP.T.conjugate() -\n",
        "                eta.tP.T.conjugate() @ S.Pinv)) @ a['YP'])).real)\n",
        "\n",
        "        print((trace(eta.tP.T.conjugate() @ (\n",
        "            2*a['P'] + man.beta*(a['YP'] @ S.Pinv - S.Pinv @ a['YP'])))\n",
        "              + trace(eta.tY.T.conjugate() @\n",
        "                      (man.alpha[1] * S.Y @ a['YP']))).real)\n",
        "\n",
        "        print(man.base_inner_E_J(man.J(S, eta), a))\n",
        "        print((trace((eta.tP - eta.tP.T.conjugate()).T.conjugate() @ a['P'] + (\n",
        "            man.alpha[1]*S.Y.T.conjugate() @ eta.tY + man.beta*(\n",
        "                eta.tP @ S.Pinv - S.Pinv @ eta.tP)).T.conjugate() @\n",
        "                a['YP'])).real)\n",
        "\n",
        "    for i in range(10):\n",
        "        a = man._rand_range_J()\n",
        "        beta = man.beta\n",
        "        alf = man.alpha\n",
        "        anew1 = man.J(S, man.g_inv_Jst(S, a))\n",
        "        \n",
        "        anew = {}\n",
        "        saYP = a['YP'] + a['YP'].T.conjugate()\n",
        "        anew['P'] = 4/beta * S.P @ a['P'] @ S.P + S.P @ saYP - saYP @ S.P\n",
        "        anew['YP'] = alf[1]*a['YP'] + beta*(\n",
        "            ((2/man.beta)*S.P@a['P']@S.P + S.P @ a['YP'] - a['YP'] @ S.P) @\n",
        "            S.Pinv - S.Pinv @ ((2/man.beta)*S.P@a['P']@S.P + S.P @ a['YP'] -\n",
        "                               a['YP'] @ S.P))\n",
        "        \n",
        "        anew['YP'] = alf[1]*a['YP'] + (\n",
        "            (2*S.P@a['P'] + beta*S.P @ a['YP'] @ S.Pinv - beta*a['YP'])\n",
        "            - (2*a['P']@S.P + beta*a['YP'] - beta*S.Pinv@a['YP'] @ S.P))\n",
        "\n",
        "        anew['YP'] = (alf[1]-2*beta)*a['YP'] + (\n",
        "            (2*S.P@a['P'] + beta*S.P @ a['YP'] @ S.Pinv)\n",
        "            - (2*a['P']@S.P - beta*S.Pinv@a['YP'] @ S.P))\n",
        "\n",
        "        anew['YP'] = (alf[1]-2*beta)*a['YP'] + (\n",
        "            (2*S.P@a['P'] - 2*a['P']@S.P + beta*S.P @ a['YP'] @ S.Pinv +\n",
        "             beta*S.Pinv@a['YP'] @ S.P))\n",
        "        print(check_zero(man._vec_range_J(anew1)-man._vec_range_J(anew)))\n",
        "\n",
        "    for i in range(10):\n",
        "        a = man._rand_range_J()\n",
        "        b1 = man.J(S, man.g_inv_Jst(S, a))\n",
        "        b2 = man.J_g_inv_Jst(S, a)\n",
        "        print(\n",
        "            check_zero(man._vec_range_J(b1)-man._vec_range_J(b2)))\n",
        "        a1 = man.solve_J_g_inv_Jst(S, b1)\n",
        "        print(check_zero(\n",
        "            man._vec_range_J(a)-man._vec_range_J(a1)))\n",
        "                \n",
        "    for ii in range(10):\n",
        "        E = man._rand_ambient()\n",
        "        a2 = man.J_g_inv(S, E)\n",
        "        a1 = man.J(S, man.g_inv(S, E))\n",
        "        print(check_zero(man._vec_range_J(a1)-man._vec_range_J(a2)))\n",
        "    \n",
        "    for i in range(20):\n",
        "        Uran = man._rand_ambient()\n",
        "        Upr = man.proj(S, man.g_inv(S, Uran))\n",
        "        Upr2 = man.proj_g_inv(S, Uran)\n",
        "        print(check_zero(man._vec(Upr)-man._vec(Upr2)))\n",
        "\n"
      ],
      "execution_count": 19,
      "outputs": [
        {
          "output_type": "stream",
          "text": [
            "18.25498800672762\n",
            "18.25498800672762\n",
            "18.254988006727622\n",
            "18.25498800672762\n",
            "18.25498800672762\n",
            "18.25498800672762\n",
            "1.0971487117398104\n",
            "1.0971487117398082\n",
            "1.09714871173981\n",
            "1.0971487117398104\n",
            "1.0971487117398082\n",
            "1.0971487117398082\n",
            "-7.57863494066776\n",
            "-7.578634940667761\n",
            "-7.57863494066776\n",
            "-7.57863494066776\n",
            "-7.5786349406677616\n",
            "-7.57863494066776\n",
            "22.507611918497844\n",
            "22.507611918497837\n",
            "22.507611918497844\n",
            "22.507611918497844\n",
            "22.50761191849784\n",
            "22.507611918497837\n",
            "7.852561556176931\n",
            "7.852561556176931\n",
            "7.85256155617693\n",
            "7.852561556176931\n",
            "7.852561556176932\n",
            "7.852561556176931\n",
            "47.42716358980119\n",
            "47.42716358980118\n",
            "47.42716358980119\n",
            "47.42716358980119\n",
            "47.42716358980118\n",
            "47.42716358980118\n",
            "15.42728192775585\n",
            "15.427281927755848\n",
            "15.427281927755846\n",
            "15.42728192775585\n",
            "15.427281927755848\n",
            "15.427281927755848\n",
            "9.039737880774002\n",
            "9.039737880774\n",
            "9.039737880774\n",
            "9.039737880774002\n",
            "9.039737880774\n",
            "9.039737880774\n",
            "-13.954800184168155\n",
            "-13.95480018416816\n",
            "-13.954800184168157\n",
            "-13.954800184168155\n",
            "-13.954800184168159\n",
            "-13.95480018416816\n",
            "42.233177514451214\n",
            "42.23317751445121\n",
            "42.233177514451214\n",
            "42.233177514451214\n",
            "42.23317751445121\n",
            "42.23317751445121\n",
            "9.094947017729282e-13\n",
            "3.637978807091713e-12\n",
            "7.275957614183426e-12\n",
            "7.275957614183426e-12\n",
            "1.4551915228366852e-11\n",
            "1.4551915228366852e-11\n",
            "1.4551915228366852e-11\n",
            "1.0913936421275139e-11\n",
            "1.4551915228366852e-11\n",
            "7.275957614183426e-12\n",
            "1.4551915228366852e-11\n",
            "2.892575068358383e-12\n",
            "3.637978807091713e-12\n",
            "2.109604158029299e-12\n",
            "7.275957614183426e-12\n",
            "9.403589018575076e-13\n",
            "3.637978807091713e-12\n",
            "1.6617818232589343e-12\n",
            "1.8189894035458565e-12\n",
            "4.722888746755416e-13\n",
            "2.9103830456733704e-11\n",
            "2.457700709612709e-12\n",
            "7.275957614183426e-12\n",
            "2.1227464230832993e-12\n",
            "1.4551915228366852e-11\n",
            "2.3029356199799622e-12\n",
            "1.4551915228366852e-11\n",
            "5.642264433447508e-12\n",
            "7.275957614183426e-12\n",
            "3.312017327061767e-12\n",
            "3.637978807091713e-12\n",
            "1.8189894035458565e-12\n",
            "7.275957614183426e-12\n",
            "1.8189894035458565e-12\n",
            "3.637978807091713e-12\n",
            "3.637978807091713e-12\n",
            "1.8189894035458565e-12\n",
            "1.4551915228366852e-11\n",
            "9.094947017729282e-13\n",
            "1.8189894035458565e-12\n",
            "0.0\n",
            "0.0\n",
            "0.0\n",
            "0.0\n",
            "0.0\n",
            "0.0\n",
            "0.0\n",
            "0.0\n",
            "0.0\n",
            "0.0\n",
            "0.0\n",
            "0.0\n",
            "0.0\n",
            "0.0\n",
            "0.0\n",
            "0.0\n",
            "0.0\n",
            "0.0\n",
            "0.0\n",
            "0.0\n"
          ],
          "name": "stdout"
        }
      ]
    },
    {
      "cell_type": "markdown",
      "metadata": {
        "id": "ddUDF7VI6Yun",
        "colab_type": "text"
      },
      "source": [
        "Check numerical derivatives of $J$, $Jst$, and metric $g$:"
      ]
    },
    {
      "cell_type": "code",
      "metadata": {
        "id": "4bhBGn6s60jW",
        "colab_type": "code",
        "colab": {
          "base_uri": "https://localhost:8080/",
          "height": 527
        },
        "outputId": "3a5f7e17-f421-4b9e-9c16-fd0009f55f4b"
      },
      "source": [
        "    for ii in range(10):\n",
        "        a = man._rand_range_J()\n",
        "        xi = man.randvec(S)\n",
        "        jtout2 = man.Jst(S, a)\n",
        "        dlt = 1e-7\n",
        "        Snew = psd_point(S.Y + dlt*xi.tY, S.P+dlt*xi.tP)\n",
        "        jtout2a = man.Jst(Snew, a)\n",
        "        d1 = (jtout2a - jtout2).scalar_mul(1/dlt)\n",
        "        d2 = man.D_Jst(S, xi, a)\n",
        "        print(check_zero(man._vec(d2)-man._vec(d1)))\n",
        "\n",
        "    for ii in range(10):\n",
        "        S1 = man.rand()\n",
        "        eta = man._rand_ambient()\n",
        "        xi = man.randvec(S1)\n",
        "        a1 = man.J(S1, eta)\n",
        "        dlt = 1e-8\n",
        "        Snew = psd_point(S1.Y + dlt*xi.tY, S1.P+dlt*xi.tP)\n",
        "        a2 = man.J(Snew, eta)\n",
        "        d1 = {'P': (a2['P']-a1['P'])/dlt,\n",
        "              'YP': (a2['YP']-a1['YP'])/dlt}\n",
        "        d2 = man.D_J(S1, xi, eta)\n",
        "        print(check_zero(man._vec_range_J(d2) - man._vec_range_J(d1)))\n",
        "                \n",
        "    # derives metrics\n",
        "    for ii in range(10):\n",
        "        S1 = man.rand()\n",
        "        xi = man.randvec(S1)\n",
        "        omg1 = man._rand_ambient()\n",
        "        omg2 = man._rand_ambient()\n",
        "        dlt = 1e-7\n",
        "        S2 = psd_point(S1.Y + dlt*xi.tY, S1.P+dlt*xi.tP)\n",
        "        p1 = man.inner(S1, omg1, omg2)\n",
        "        p2 = man.inner(S2, omg1, omg2)\n",
        "        der1 = (p2-p1)/dlt\n",
        "        der2 = man.base_inner_ambient(\n",
        "            man.D_g(S1, xi, omg2), omg1)\n",
        "        print(der1-der2)\n",
        "        if np.abs(der1 - der2) > 1e-4:\n",
        "            print(der1, der2)\n",
        "            break\n",
        "\n"
      ],
      "execution_count": 20,
      "outputs": [
        {
          "output_type": "stream",
          "text": [
            "5.422492219686603e-07\n",
            "1.3671869463216524e-06\n",
            "1.158077353569098e-06\n",
            "2.1873056255117262e-06\n",
            "4.7339066755469617e-07\n",
            "1.1091370347160456e-07\n",
            "3.406762495439253e-07\n",
            "8.231435182359803e-07\n",
            "1.0224067705788542e-06\n",
            "5.385345178687828e-07\n",
            "3.888399924961705e-09\n",
            "9.356830998896726e-08\n",
            "1.6150875886689064e-08\n",
            "8.241860700863857e-09\n",
            "2.521897386476013e-07\n",
            "4.54905429297936e-09\n",
            "1.894326570606175e-08\n",
            "1.0303641218012416e-08\n",
            "1.4326659608654424e-08\n",
            "9.31851436986042e-09\n",
            "-1.1593208948390554e-07\n",
            "8.211570357019582e-08\n",
            "-5.3495068588205186e-06\n",
            "8.683065719217176e-08\n",
            "3.3700477564124753e-07\n",
            "-1.0252358539908357e-07\n",
            "-2.5187529004710996e-06\n",
            "1.101837026062924e-07\n",
            "3.0934905739243845e-06\n",
            "-3.6661672697668735e-08\n"
          ],
          "name": "stdout"
        }
      ]
    },
    {
      "cell_type": "markdown",
      "metadata": {
        "id": "9I40hnB84kam",
        "colab_type": "text"
      },
      "source": [
        "Derivatives of projection D_proj. Check it against numerical derivatives:"
      ]
    },
    {
      "cell_type": "code",
      "metadata": {
        "id": "b5OOLHlq7HCN",
        "colab_type": "code",
        "colab": {
          "base_uri": "https://localhost:8080/",
          "height": 34
        },
        "outputId": "99161d61-b1f0-41de-ccff-d13af6be4885"
      },
      "source": [
        "    for i in range(1):\n",
        "        e = man._rand_ambient()\n",
        "        S1 = man.rand()\n",
        "        xi = man.randvec(S1)\n",
        "        dlt = 1e-7\n",
        "        S2 = psd_point(S1.Y + dlt*xi.tY, S1.P+dlt*xi.tP)\n",
        "\n",
        "        # S = psd_point(S1.Y, S1.P)\n",
        "        d1P = (man.proj(S2, e).tP - man.proj(S1, e).tP)/dlt\n",
        "        d1Y = (man.proj(S2, e).tY - man.proj(S1, e).tY)/dlt\n",
        "        d2 = man.D_proj(S1, xi, e)\n",
        "        print(check_zero(d1P-d2.tP) + check_zero(d1Y-d2.tY))\n",
        "    \n"
      ],
      "execution_count": 21,
      "outputs": [
        {
          "output_type": "stream",
          "text": [
            "5.920157540046997e-07\n"
          ],
          "name": "stdout"
        }
      ]
    },
    {
      "cell_type": "markdown",
      "metadata": {
        "id": "YQkiiR4k7-47",
        "colab_type": "text"
      },
      "source": [
        "Check the crossterm satisfies $<x12, xi>$ is same as $<D_g(xi, eta1), eta2>$\n",
        "Check Christoffel term $K$ is symmetric and double check the formula:\n",
        "\n"
      ]
    },
    {
      "cell_type": "code",
      "metadata": {
        "id": "37B0F2Aq8Ggv",
        "colab_type": "code",
        "colab": {
          "base_uri": "https://localhost:8080/",
          "height": 527
        },
        "outputId": "49a1b588-7c11-46d5-d3ad-753bfc66972f"
      },
      "source": [
        "    # cross term for Christoffel:    \n",
        "    for i in range(10):\n",
        "        S1 = man.rand()\n",
        "        xi = man.randvec(S1)\n",
        "        eta1 = man.randvec(S1)\n",
        "        eta2 = man.randvec(S1)\n",
        "        dr1 = man.D_g(S1, xi, eta1)\n",
        "        x12 = man.contract_D_g(S1, eta1, eta2)\n",
        "\n",
        "        p1 = man.base_inner_ambient(dr1, eta2)\n",
        "        p2 = man.base_inner_ambient(x12, xi)\n",
        "        # print(p1, p2, p1-p2)\n",
        "        print(p1-p2)\n",
        "\n",
        "    # now test christofel:\n",
        "    # two things: symmetric on vector fields\n",
        "    # and christofel relation\n",
        "    # in the case metric\n",
        "\n",
        "    for i in range(10):\n",
        "        S1 = man.rand()\n",
        "        xi = man.randvec(S1)\n",
        "        eta1 = man.randvec(S1)\n",
        "        eta2 = man.randvec(S1)\n",
        "        p1 = man.proj_g_inv(S1, man.christoffel_form(S1, xi, eta1))\n",
        "        p2 = man.proj_g_inv(S1, man.christoffel_form(S1, eta1, xi))\n",
        "        print(check_zero(man._vec(p1)-man._vec(p2)))\n",
        "        v1 = man.base_inner_ambient(\n",
        "            man.christoffel_form(S1, eta1, eta2), xi)\n",
        "        v2 = man.base_inner_ambient(man.D_g(S1, eta1, eta2), xi)\n",
        "        v3 = man.base_inner_ambient(man.D_g(S1, eta2, eta1), xi)\n",
        "        v4 = man.base_inner_ambient(man.D_g(S1, xi, eta1), eta2)\n",
        "        # print(v1, 0.5*(v2+v3-v4), v1-0.5*(v2+v3-v4))\n",
        "        print(v1-0.5*(v2+v3-v4))\n"
      ],
      "execution_count": 22,
      "outputs": [
        {
          "output_type": "stream",
          "text": [
            "8.326672684688674e-17\n",
            "6.938893903907228e-18\n",
            "-1.5829351718288365e-17\n",
            "-2.42861286636753e-17\n",
            "-6.938893903907228e-18\n",
            "-6.661338147750939e-16\n",
            "2.7755575615628914e-17\n",
            "-1.0842021724855044e-17\n",
            "0.0\n",
            "1.2434497875801753e-14\n",
            "0.0\n",
            "-6.245004513516506e-17\n",
            "0.0\n",
            "0.0\n",
            "0.0\n",
            "2.0816681711721685e-17\n",
            "0.0\n",
            "6.938893903907228e-18\n",
            "0.0\n",
            "2.040034807748725e-15\n",
            "0.0\n",
            "-1.3877787807814457e-17\n",
            "0.0\n",
            "-5.551115123125783e-17\n",
            "0.0\n",
            "-1.3877787807814457e-17\n",
            "0.0\n",
            "0.0\n",
            "0.0\n",
            "-3.469446951953614e-17\n"
          ],
          "name": "stdout"
        }
      ]
    },
    {
      "cell_type": "markdown",
      "metadata": {
        "id": "5bA0AL029KV6",
        "colab_type": "text"
      },
      "source": [
        "Check preserving metric on flat space:"
      ]
    },
    {
      "cell_type": "code",
      "metadata": {
        "id": "fKnUpq7f9M6B",
        "colab_type": "code",
        "colab": {
          "base_uri": "https://localhost:8080/",
          "height": 68
        },
        "outputId": "ecfd80d3-70b6-4629-f318-3f010eb347a8"
      },
      "source": [
        "def test_christ_flat():\n",
        "    \"\"\"now test that christofel preserves metrics:\n",
        "    on the flat space\n",
        "    d_xi <v M v> = 2 <v M nabla_xi v>\n",
        "     v = proj(W) @ (aa W + b)\n",
        "    \"\"\"\n",
        "    alpha = randint(1, 10, 2) * .1\n",
        "    beta = randint(1, 10, 2)[0] * .1\n",
        "    n = 20\n",
        "    d = 3\n",
        "    man = ComplexPositiveSemidefinite(n, d, alpha=alpha, beta=beta)\n",
        "    S = man.rand()\n",
        "    \n",
        "    xi = man.randvec(S)\n",
        "    xi = man.randvec(S)\n",
        "    aa = crandn(n*d, n*d)\n",
        "    bb = crandn(n*d)\n",
        "    cc = crandn(d*d, d*d)\n",
        "    dd = hsym(crandn(d, d))\n",
        "        \n",
        "    def v_func_flat(S):\n",
        "        # a function from the manifold\n",
        "        # to ambient\n",
        "        csp = hsym((cc @ S.P.reshape(-1)).reshape(d, d))\n",
        "        \n",
        "        return psd_ambient(\n",
        "            (aa @ S.Y.reshape(-1) + bb).reshape(n, d),\n",
        "            csp + dd)\n",
        "\n",
        "    vv = v_func_flat(S)\n",
        "    dlt = 1e-7\n",
        "    Snew = psd_point(\n",
        "        S.Y + dlt * xi.tY,\n",
        "        S.P + dlt * xi.tP)\n",
        "    vnew = v_func_flat(Snew)\n",
        "\n",
        "    val = man.inner(S, vv)\n",
        "    valnew = man.inner(Snew, vnew)\n",
        "    d1 = (valnew - val)/dlt\n",
        "    dv = (vnew - vv).scalar_mul(1/dlt)\n",
        "    nabla_xi_v = dv + man.g_inv(\n",
        "        S, man.christoffel_form(S, xi, vv))\n",
        "    nabla_xi_va = dv + man.g_inv(\n",
        "        S, super(ComplexPositiveSemidefinite, man).christoffel_form(S, xi, vv))\n",
        "    print(check_zero(man._vec(nabla_xi_v) - man._vec(nabla_xi_va)))\n",
        "    d2 = man.inner(S, vv, nabla_xi_v)\n",
        "\n",
        "    print(d1)\n",
        "    print(2*d2)\n",
        "\n",
        "test_christ_flat()"
      ],
      "execution_count": 25,
      "outputs": [
        {
          "output_type": "stream",
          "text": [
            "0.0\n",
            "-5.961805982224178\n",
            "-5.961813781985541\n"
          ],
          "name": "stdout"
        }
      ]
    },
    {
      "cell_type": "markdown",
      "metadata": {
        "id": "wRPW8atu_X_n",
        "colab_type": "text"
      },
      "source": [
        "metric compatibility"
      ]
    },
    {
      "cell_type": "code",
      "metadata": {
        "id": "GvyHWmBx_LLE",
        "colab_type": "code",
        "colab": {
          "base_uri": "https://localhost:8080/",
          "height": 34
        },
        "outputId": "28baab9d-cfe6-4ce3-a65b-0ab43908e867"
      },
      "source": [
        "\n",
        "def calc_covar_numeric(man, S, xi, v_func):\n",
        "    \"\"\" compute nabla on E dont do the metric\n",
        "    lower index. So basically\n",
        "    Nabla (Pi e).\n",
        "    Thus, if we want to do Nabla Pi g_inv df\n",
        "    We need to send g_inv df\n",
        "    \"\"\"\n",
        "\n",
        "    def vv_func(W):\n",
        "        return man.proj(W, v_func(W))\n",
        "    \n",
        "    vv = vv_func(S)\n",
        "\n",
        "    dlt = 1e-7\n",
        "    Snew = psd_point(S.Y + dlt*xi.tY, S.P + dlt * xi.tP)\n",
        "    vnew = vv_func(Snew)\n",
        "\n",
        "    val = man.inner(S, vv)\n",
        "    valnew = man.inner(Snew, vnew)\n",
        "    d1 = (valnew - val)/dlt\n",
        "    dv = (vnew - vv).scalar_mul(1/dlt)\n",
        "    cx = man.christoffel_form(S, xi, vv)\n",
        "    nabla_xi_v_up = dv + man.g_inv(S, cx)\n",
        "    nabla_xi_v = man.proj(S, nabla_xi_v_up)\n",
        "    \n",
        "    if False:\n",
        "        d2 = man.inner(S, vv, nabla_xi_v)\n",
        "        d2up = man.inner(S, vv, nabla_xi_v_up)\n",
        "\n",
        "        print(d1)\n",
        "        print(2*d2up)\n",
        "        print(2*d2)\n",
        "    return nabla_xi_v, dv, cx\n",
        "\n",
        "\n",
        "def test_chris_vectorfields():\n",
        "    # now test that it works on embedded metrics\n",
        "    # we test that D_xi (eta g eta) = 2(eta g nabla_xi eta)\n",
        "    n, d = (20, 3)\n",
        "    alpha = randint(1, 10, 2) * .1\n",
        "    beta = randint(1, 10, 1)[0] * .1\n",
        "    man = ComplexPositiveSemidefinite(n, d, alpha=alpha, beta=beta)\n",
        "\n",
        "    S0 = man.rand()\n",
        "    aa = crandn(n*d, n*d)\n",
        "    intc = crandn(n*d)\n",
        "    cc = crandn(d*d, d*d)\n",
        "    p_intc = hsym(crandn(d, d))\n",
        "\n",
        "    inct_xi = man._rand_ambient()\n",
        "    aa_xi = crandn(n*d, n*d)\n",
        "    cc_xi = crandn(d*d, d*d)\n",
        "    \n",
        "    def v_func(S):\n",
        "        # a function from the manifold\n",
        "        # to ambient\n",
        "        csp = hsym((cc @ (S.P-S0.P).reshape(-1)).reshape(d, d))\n",
        "        \n",
        "        return man.proj(S, psd_ambient(\n",
        "            (aa @ (S.Y-S0.Y).reshape(-1) + intc).reshape(n, d),\n",
        "            csp + p_intc))\n",
        "\n",
        "    SS = psd_point(S0.Y, S0.P)\n",
        "    xi = man.proj(SS, inct_xi)\n",
        "\n",
        "    nabla_xi_v, dv, cxv = calc_covar_numeric(\n",
        "        man, SS, xi, v_func)\n",
        "\n",
        "    def xi_func(S):\n",
        "        csp_xi = hsym((cc_xi @ (S.P-S0.P).reshape(-1)).reshape(d, d))\n",
        "        xi_amb = psd_ambient(\n",
        "            (aa_xi @ (S.Y-S0.Y).reshape(-1) +\n",
        "             inct_xi.tY.reshape(-1)).reshape(n, d),\n",
        "            csp_xi + inct_xi.tP)\n",
        "        return man.proj(S, xi_amb)\n",
        "\n",
        "    vv = v_func(SS)\n",
        "\n",
        "    nabla_v_xi, dxi, cxxi = calc_covar_numeric(\n",
        "        man, SS, vv, xi_func)\n",
        "    diff = nabla_xi_v - nabla_v_xi\n",
        "    # print(diff.tY, diff.tP)\n",
        "    # now do Lie bracket:\n",
        "    dlt = 1e-7\n",
        "    SnewXi = psd_point(SS.Y+dlt*xi.tY, SS.P+dlt*xi.tP)\n",
        "    Snewvv = psd_point(SS.Y+dlt*vv.tY, SS.P+dlt*vv.tP)\n",
        "    vnewxi = v_func(SnewXi)\n",
        "    xnewv = xi_func(Snewvv)\n",
        "    dxiv = (vnewxi - vv).scalar_mul(1/dlt)\n",
        "    dvxi = (xnewv - xi).scalar_mul(1/dlt)\n",
        "    diff2 = man.proj(SS, dxiv-dvxi)\n",
        "    print(check_zero(man._vec(diff) - man._vec(diff2)))\n",
        "test_chris_vectorfields()"
      ],
      "execution_count": 26,
      "outputs": [
        {
          "output_type": "stream",
          "text": [
            "3.645428225951264e-08\n"
          ],
          "name": "stdout"
        }
      ]
    },
    {
      "cell_type": "markdown",
      "metadata": {
        "id": "fiZbq_kmA9yx",
        "colab_type": "text"
      },
      "source": [
        "Check $\\Pi(D_{\\xi}\\imath\\eta - D_{\\eta}\\imath\\xi) = \\imath[\\xi, \\eta]$, check covariant derivatives given by the formula is the covariant derivatives of the gradient:"
      ]
    },
    {
      "cell_type": "code",
      "metadata": {
        "id": "MztBsxpSArnC",
        "colab_type": "code",
        "colab": {
          "base_uri": "https://localhost:8080/",
          "height": 85
        },
        "outputId": "8bb66680-9d31-4872-9537-59e3c06e8c7b"
      },
      "source": [
        "                            \n",
        "\n",
        "def num_deriv_amb(man, S, xi, func, dlt=1e-7):\n",
        "    Snew = psd_point(S.Y + dlt*xi.tY,\n",
        "                     S.P + dlt*xi.tP)\n",
        "    return (func(Snew) - func(S)).scalar_mul(1/dlt)\n",
        "\n",
        "    \n",
        "def test_covariance_deriv():\n",
        "    # now test full:\n",
        "    # do covariant derivatives\n",
        "    # check that it works, preseving everything\n",
        "    n, d = (5, 3)\n",
        "    alpha = randint(1, 10, 2) * .1\n",
        "    beta = randint(1, 10, 2)[0] * .01\n",
        "    man = ComplexPositiveSemidefinite(n, d, alpha=alpha, beta=beta)\n",
        "    S = man.rand()\n",
        "    \n",
        "    aa = crandn(n*d, n*d)\n",
        "    cc = crandn(d*d, d*d)\n",
        "    icpt = man._rand_ambient()\n",
        "\n",
        "    def omg_func(S):\n",
        "        csp = hsym((cc @ S.P.reshape(-1)).reshape(d, d))\n",
        "        return psd_ambient(\n",
        "            (aa @ S.Y.reshape(-1) + icpt.tY.reshape(-1)).reshape(n, d),\n",
        "            csp + icpt.tP)\n",
        "\n",
        "    xi = man.randvec(S)\n",
        "    egrad = omg_func(S)\n",
        "    ecsp = hsym((cc @ xi.tP.reshape(-1)).reshape(d, d))\n",
        "    ehess = psd_ambient(\n",
        "        (aa @ xi.tY.reshape(-1)).reshape(n, d),\n",
        "        ecsp)\n",
        "\n",
        "    val1 = man.ehess2rhess(S, egrad, ehess, xi)\n",
        "\n",
        "    def rgrad_func(W):\n",
        "        return man.proj_g_inv(W, omg_func(W))\n",
        "\n",
        "    if False:\n",
        "        first = ehess\n",
        "        a = man.J_g_inv(S, egrad)\n",
        "        rgrad = man.proj_g_inv(S, egrad)\n",
        "        second = man.D_g(\n",
        "            S, xi, man.g_inv(S, egrad)).scalar_mul(-1)\n",
        "        aout = man.solve_J_g_inv_Jst(S, a)\n",
        "        third = man.proj(S, man.D_g_inv_Jst(S, xi, aout)).scalar_mul(-1)\n",
        "        fourth = man.christoffel_form(S, xi, rgrad)\n",
        "        val1a1 = man.proj_g_inv(S, first + second + fourth) + third\n",
        "        print(check_zero(man._vec(val1-val1a1)))\n",
        "    elif False:\n",
        "        d_xi_rgrad = num_deriv_amb(man, S, xi, rgrad_func)\n",
        "        rgrad = man.proj_g_inv(S, egrad)\n",
        "        fourth = man.christoffel_form(S, xi, rgrad)\n",
        "        val1a = man.proj(S, d_xi_rgrad) + man.proj_g_inv(S, fourth)\n",
        "        print(check_zero(man._vec(val1-val1a)))\n",
        "\n",
        "    # nabla_v_xi, dxi, cxxi\n",
        "    val2a, _, _ = calc_covar_numeric(man, S, xi, omg_func)\n",
        "    val2, _, _ = calc_covar_numeric(man, S, xi, rgrad_func)\n",
        "    # val2_p = project(prj, val2)\n",
        "    val2_p = man.proj(S, val2)\n",
        "    # print(val1)\n",
        "    # print(val2_p)\n",
        "    print(check_zero(man._vec(val1)-man._vec(val2_p)))\n",
        "    if True:\n",
        "        H = xi\n",
        "        valrangeA_ = ehess + man.g(S, man.D_proj(\n",
        "            S, H, man.g_inv(S, egrad))) - man.D_g(\n",
        "                S, H, man.g_inv(S, egrad)) +\\\n",
        "            man.christoffel_form(S, H, man.proj_g_inv(S, egrad))\n",
        "        valrangeB = man.proj_g_inv(S, valrangeA_)\n",
        "    valrange = man.ehess2rhess_alt(S, egrad, ehess, xi)\n",
        "    print(check_zero(man._vec(valrange)-man._vec(val2_p)))\n",
        "    print(check_zero(man._vec(valrange)-man._vec(val1)))\n",
        "    print(check_zero(man._vec(valrange)-man._vec(valrangeB)))\n",
        "\n",
        "test_covariance_deriv()    \n"
      ],
      "execution_count": 27,
      "outputs": [
        {
          "output_type": "stream",
          "text": [
            "0.0015903865350992419\n",
            "0.0015903865387372207\n",
            "6.366462912410498e-12\n",
            "0.0\n"
          ],
          "name": "stdout"
        }
      ]
    },
    {
      "cell_type": "code",
      "metadata": {
        "id": "c3gcbwZIAJ19",
        "colab_type": "code",
        "colab": {
          "base_uri": "https://localhost:8080/",
          "height": 323
        },
        "outputId": "3535fd38-5450-49ef-a5eb-af485422a680"
      },
      "source": [
        "def test_rhess_02():\n",
        "    n, d = (50, 3)\n",
        "    alpha = randint(1, 10, 2) * .1\n",
        "    beta = randint(1, 10, 2)[0] * .1\n",
        "    man = ComplexPositiveSemidefinite(n, d, alpha=alpha, beta=beta)\n",
        "\n",
        "    S = man.rand()\n",
        "    # simple function. Distance to a given matrix\n",
        "    # || S - A||_F^2\n",
        "    A = hsym(crandn(n, n))\n",
        "\n",
        "    def f(S):\n",
        "        diff = (A - S.Y @ S.P @ S.Y.T.conjugate())\n",
        "        return trace(diff @ diff.T.conjugate())\n",
        "\n",
        "    def df(S):\n",
        "        return psd_ambient(-4*A @ S.Y @ S.P,\n",
        "                           2*(S.P-S.Y.T.conjugate() @ A @ S.Y))\n",
        "\n",
        "    def ehess_form(S, xi, eta):\n",
        "        return (trace(-4*A @ (xi.tY @ S.P + S.Y @ xi.tP) @\n",
        "                      eta.tY.T.conjugate()) +\n",
        "                2*trace((xi.tP - xi.tY.T.conjugate()@A@S.Y -\n",
        "                         S.Y.T.conjugate()@A@xi.tY) @\n",
        "                        eta.tP.T.conjugate())).real\n",
        "\n",
        "    def ehess_vec(S, xi):\n",
        "        return psd_ambient(-4*A @ (xi.tY @ S.P + S.Y @ xi.tP),\n",
        "                           2*(xi.tP - xi.tY.T.conjugate() @ A @ S.Y -\n",
        "                              S.Y.T.conjugate() @ A @ xi.tY))\n",
        "\n",
        "    xxi = man.randvec(S)\n",
        "    dlt = 1e-8\n",
        "    Snew = psd_point(\n",
        "        S.Y+dlt*xxi.tY, S.P + dlt*xxi.tP)\n",
        "    d1 = (f(Snew) - f(S))/dlt\n",
        "    d2 = df(S)\n",
        "    print(\"difference of numerical vs analytic directional derivatives of function:\")\n",
        "    print(d1 - man.base_inner_ambient(d2,  xxi))\n",
        "\n",
        "    eeta = man.randvec(S)\n",
        "\n",
        "    d1 = man.base_inner_ambient((df(Snew) - df(S)), eeta) / dlt\n",
        "    ehess_val = ehess_form(S, xxi, eeta)\n",
        "    dv2 = ehess_vec(S, xxi)\n",
        "    print(\"Eucliean Hessian bilinear form, 2 ways\")\n",
        "    print(man.base_inner_ambient(dv2, eeta))\n",
        "    print(d1, ehess_val, d1-ehess_val)\n",
        "\n",
        "    # now check the formula: ehess = xi (eta_func(f)) - <D_xi eta, df(Y)>\n",
        "    # promote eta to a vector field.\n",
        "\n",
        "    m1 = crandn(n, n)\n",
        "    m2 = crandn(d, d)\n",
        "    m_p = crandn(d*d, d*d)\n",
        "\n",
        "    def eta_field(Sin):\n",
        "        return man.proj(S, psd_ambient(\n",
        "            m1 @ (Sin.Y - S.Y) @ m2,\n",
        "            hsym((m_p @ (Sin.P - S.P).reshape(-1)).reshape(d, d)))) + eeta\n",
        "\n",
        "    # xietaf: should go to ehess(xi, eta) + df(Y) @ etafield)\n",
        "    xietaf = (man.base_inner_ambient(df(Snew), eta_field(Snew)) -\n",
        "              man.base_inner_ambient(df(S), eta_field(S))) / dlt\n",
        "    # appy eta_func to f: should go to tr(m1 @ xxi @ m2 @ df(Y).T)\n",
        "    Dxietaf = man.base_inner_ambient(\n",
        "        (eta_field(Snew) - eta_field(S)), df(S))/dlt\n",
        "    # this is ehess. should be same as d1 or ehess_val\n",
        "    # print(xietaf-Dxietaf)\n",
        "    print(\"Check the proposition on Euclidean Hessian\")\n",
        "    print(check_zero(xietaf-Dxietaf-ehess_val))\n",
        "\n",
        "    # now check: rhess. Need to make sure xi, eta in the tangent space.\n",
        "    # first compare this with numerical differentiation\n",
        "    xi1 = man.proj(S, xxi)\n",
        "    eta1 = man.proj(S, eeta)\n",
        "    egvec = df(S)\n",
        "    ehvec = ehess_vec(S, xi1)\n",
        "    rhessvec = man.ehess2rhess(S, egvec, ehvec, xi1)\n",
        "\n",
        "    # check it numerically:\n",
        "    def rgrad_func(Y):\n",
        "        return man.proj_g_inv(Y, df(Y))\n",
        "    \n",
        "    # val2a, _, _ = calc_covar_numeric_raw(man, W, xi1, df)\n",
        "    val2, _, _ = calc_covar_numeric(man, S, xi1, rgrad_func)\n",
        "    val2_p = man.proj(S, val2)\n",
        "    # print(rhessvec)\n",
        "    # print(val2_p)\n",
        "    print(\"check numerical covariant derivative of gradient is same as rhess implemeted\")\n",
        "    print(check_zero(man._vec(rhessvec-val2_p)))\n",
        "    rhessval = man.inner(S, rhessvec, eta1)\n",
        "    print(man.inner(S, val2, eta1))\n",
        "    print(rhessval)\n",
        "\n",
        "    # check symmetric:\n",
        "    ehvec_e = ehess_vec(S, eta1)\n",
        "    rhessvec_e = man.ehess2rhess(S, egvec, ehvec_e, eta1)\n",
        "    rhessval_e = man.inner(S, rhessvec_e, xi1)\n",
        "    print(rhessval_e)\n",
        "    # the above computed inner_prod(Nabla_xi Pi * df, eta)\n",
        "    # in the following check. Extend eta1 to eta_proj\n",
        "    # (Pi Nabla_hat Pi g_inv df, g eta)\n",
        "    # = D_xi (Pi g_inv df, g eta) - (Pi g_inv df g Pi Nabla_hat eta)\n",
        "    \n",
        "    def eta_proj(S):\n",
        "        return man.proj(S, eta_field(S))\n",
        "    print(check_zero(man._vec(eta1-eta_proj(S))))\n",
        "    \n",
        "    e1 = man.inner(S, man.proj_g_inv(S, df(S)), eta_proj(S))\n",
        "    e1a = man.base_inner_ambient(df(S), eta_proj(S))\n",
        "    print(e1, e1a, e1-e1a)\n",
        "    Snew = psd_point(S.Y + dlt*xi1.tY, S.P + dlt*xi1.tP)\n",
        "    e2 = man.inner(Snew, man.proj_g_inv(Snew, df(Snew)), eta_proj(Snew))\n",
        "    e2a = man.base_inner_ambient(df(Snew), eta_proj(Snew))\n",
        "    print(e2, e2a, e2-e2a)\n",
        "    \n",
        "    first = (e2 - e1)/dlt\n",
        "    first1 = (man.base_inner_ambient(df(Snew), eta_proj(Snew)) -\n",
        "              man.base_inner_ambient(df(S), eta_proj(S)))/dlt\n",
        "    print(first-first1)\n",
        "    \n",
        "    val3, _, _ = calc_covar_numeric(man, S, xi1, eta_proj)\n",
        "    second = man.inner(S, man.proj_g_inv(S, df(S)), man.proj(S, val3))\n",
        "    second2 = man.inner(S, man.proj_g_inv(S, df(S)), val3)\n",
        "    print(second, second2, second-second2)\n",
        "    print('same as rhess_val %f' % (first-second))\n",
        "    \n",
        "\n",
        "test_rhess_02()"
      ],
      "execution_count": 29,
      "outputs": [
        {
          "output_type": "stream",
          "text": [
            "difference of numerical vs analytic directional derivatives of function:\n",
            "(1.8886406738971573e-05+0j)\n",
            "Eucliean Hessian bilinear form, 2 ways\n",
            "8.203484782198368\n",
            "8.203484331102201 8.203484782198359 -4.510961577608441e-07\n",
            "Check the proposition on Euclidean Hessian\n",
            "3.590739652281627e-07\n",
            "check numerical covariant derivative of gradient is same as rhess implemeted\n",
            "0.0007808632510659663\n",
            "6.941969595476252\n",
            "6.941966576729185\n",
            "6.941966576729251\n",
            "0.0\n",
            "1.0563740500333503 1.0563740500334704 -1.2012613126444194e-13\n",
            "1.0563708738383393 1.0563708738383422 -2.886579864025407e-15\n",
            "1.1723955140041653e-05\n",
            "-324.56148018465757 -324.56148018465757 0.0\n",
            "same as rhess_val 6.941979\n"
          ],
          "name": "stdout"
        }
      ]
    }
  ]
}