{
  "nbformat": 4,
  "nbformat_minor": 0,
  "metadata": {
    "colab": {
      "name": "stiefel_test.ipynb",
      "provenance": [],
      "authorship_tag": "ABX9TyO4BK+47mVxwCQR6ZNcA69S",
      "include_colab_link": true
    },
    "kernelspec": {
      "name": "python3",
      "display_name": "Python 3"
    }
  },
  "cells": [
    {
      "cell_type": "markdown",
      "metadata": {
        "id": "view-in-github",
        "colab_type": "text"
      },
      "source": [
        "<a href=\"https://colab.research.google.com/github/dnguyend/ManNullRange/blob/master/tests/stiefel_test.ipynb\" target=\"_parent\"><img src=\"https://colab.research.google.com/assets/colab-badge.svg\" alt=\"Open In Colab\"/></a>"
      ]
    },
    {
      "cell_type": "code",
      "metadata": {
        "id": "rlIGBlvN-RrB",
        "colab_type": "code",
        "colab": {
          "base_uri": "https://localhost:8080/",
          "height": 136
        },
        "outputId": "64bf0a28-901c-4f38-c6c5-04549b338b86"
      },
      "source": [
        "!git clone https://github.com/dnguyend/ManNullRange.git"
      ],
      "execution_count": 2,
      "outputs": [
        {
          "output_type": "stream",
          "text": [
            "Cloning into 'ManNullRange'...\n",
            "remote: Enumerating objects: 125, done.\u001b[K\n",
            "remote: Counting objects: 100% (125/125), done.\u001b[K\n",
            "remote: Compressing objects: 100% (70/70), done.\u001b[K\n",
            "remote: Total 125 (delta 83), reused 90 (delta 54), pack-reused 0\u001b[K\n",
            "Receiving objects: 100% (125/125), 121.34 KiB | 10.11 MiB/s, done.\n",
            "Resolving deltas: 100% (83/83), done.\n"
          ],
          "name": "stdout"
        }
      ]
    },
    {
      "cell_type": "markdown",
      "metadata": {
        "id": "_ThkABq4yTpd",
        "colab_type": "text"
      },
      "source": [
        "We define the operators. Note that J_adjoint is defined in term of the index-raising operator instead of explicitly defined"
      ]
    },
    {
      "cell_type": "code",
      "metadata": {
        "id": "MC9KjYzR-0zv",
        "colab_type": "code",
        "colab": {}
      },
      "source": [
        "from collections import OrderedDict\n",
        "from IPython.display import display, Math\n",
        "from sympy import symbols, Integer\n",
        "from ManNullRange.symbolic import SymMat as sm\n",
        "from ManNullRange.symbolic.SymMat import (\n",
        "    matrices, t, scalars, mat_spfy, xtrace, trace, stiefels, DDR,\n",
        "    latex_map, mat_latex, simplify_stiefel_tangent)\n",
        "\n",
        "\n",
        "def pprint(expr):\n",
        "    \"\"\"pretty print\n",
        "    \"\"\"\n",
        "    display(Math(latex_map(mat_latex(expr), OrderedDict(\n",
        "        [('fYY', r'f_{YY}'), ('fY', 'f_Y'), ('al', r'\\alpha')]))))\n",
        "\n",
        "\n",
        "if True:\n",
        "    # Y is a matrix point\n",
        "    eta = matrices('eta')\n",
        "    Y = stiefels('Y')\n",
        "    a = sm.sym_symb('a')\n",
        "    al0, al1 = scalars('al0 al1')\n",
        "    # scalars are symmetric\n",
        "    sm.g_symms.update((al0, al1))\n",
        "    \n",
        "    def J(Y, eta):\n",
        "        return mat_spfy(t(Y) * eta + t(eta) * Y).doit()\n",
        "\n",
        "    def J_adj(Y, a):\n",
        "        dY = symbols('dY', commutative=False)\n",
        "        return xtrace(trace(mat_spfy(J(Y, dY) * a)), dY)\n",
        "\n",
        "    def g(Y, eta):\n",
        "        return al0*eta+(al1-al0)*Y*t(Y)*eta\n",
        "\n",
        "    def g_inv(Y, eta):\n",
        "        return mat_spfy(1/al0*eta + (1/al1-1/al0)*Y*t(Y)*eta)\n"
      ],
      "execution_count": 4,
      "outputs": []
    },
    {
      "cell_type": "markdown",
      "metadata": {
        "id": "Fm_wn3gByooU",
        "colab_type": "text"
      },
      "source": [
        "Deriving the gradient"
      ]
    },
    {
      "cell_type": "code",
      "metadata": {
        "id": "EKF9sp_dyO_V",
        "colab_type": "code",
        "colab": {
          "base_uri": "https://localhost:8080/",
          "height": 146
        },
        "outputId": "211d026e-83bc-426d-d794-55f55baaf9e0"
      },
      "source": [
        "    \n",
        "J_giv_J_adj = J(Y, g_inv(Y, J_adj(Y, a)))\n",
        "pprint(\"\\\\text{This is }Jg^{-1}J^T\")\n",
        "pprint(J_giv_J_adj)\n",
        "    \n",
        "def proj(Y, omg):\n",
        "  jo = mat_spfy(J(Y, omg))\n",
        "  ifactor = al1/Integer(4)\n",
        "  return omg - mat_spfy(\n",
        "      g_inv(Y, mat_spfy(J_adj(Y, ifactor*jo))))\n",
        "\n",
        "def r_gradient(Y, omg):\n",
        "  return mat_spfy(\n",
        "      proj(Y, mat_spfy(g_inv(Y, omg))))\n",
        "print(\"This is the projection:\")  \n",
        "pprint(proj(Y, eta))\n",
        "print(\"This is the Riemanian gradient\")\n",
        "pprint(r_gradient(Y, eta))\n"
      ],
      "execution_count": 5,
      "outputs": [
        {
          "output_type": "display_data",
          "data": {
            "text/latex": "$$\\text{This is }Jg^{-1}J^T$$",
            "text/plain": [
              "<IPython.core.display.Math object>"
            ]
          },
          "metadata": {
            "tags": []
          }
        },
        {
          "output_type": "display_data",
          "data": {
            "text/latex": "$$\\frac{4 a}{\\alpha_{1}}$$",
            "text/plain": [
              "<IPython.core.display.Math object>"
            ]
          },
          "metadata": {
            "tags": []
          }
        },
        {
          "output_type": "stream",
          "text": [
            "This is the projection:\n"
          ],
          "name": "stdout"
        },
        {
          "output_type": "display_data",
          "data": {
            "text/latex": "$$- \\frac{Y Y^T}{2} \\eta - \\frac{Y \\eta^T}{2} Y + \\eta$$",
            "text/plain": [
              "<IPython.core.display.Math object>"
            ]
          },
          "metadata": {
            "tags": []
          }
        },
        {
          "output_type": "stream",
          "text": [
            "This is the Riemanian gradient\n"
          ],
          "name": "stdout"
        },
        {
          "output_type": "display_data",
          "data": {
            "text/latex": "$$\\frac{Y Y^T \\eta}{2 \\alpha_{1}} - \\frac{Y \\eta^T Y}{2 \\alpha_{1}} - \\frac{Y Y^T}{\\alpha_{0}} \\eta + \\frac{\\eta}{\\alpha_{0}}$$",
            "text/plain": [
              "<IPython.core.display.Math object>"
            ]
          },
          "metadata": {
            "tags": []
          }
        }
      ]
    },
    {
      "cell_type": "markdown",
      "metadata": {
        "id": "YBkapg9jz8EK",
        "colab_type": "text"
      },
      "source": [
        "And now finish with the Hessian:"
      ]
    },
    {
      "cell_type": "code",
      "metadata": {
        "id": "PsMVJzmMynbY",
        "colab_type": "code",
        "colab": {
          "base_uri": "https://localhost:8080/",
          "height": 171
        },
        "outputId": "d0ab174d-7725-44e4-92b4-da9a35bb10d6"
      },
      "source": [
        "\n",
        "xi, phi = matrices('xi phi')\n",
        "trilinear = mat_spfy(trace(DDR(g(Y, eta), Y, phi) * t(xi)))\n",
        "xcross = xtrace(trilinear, phi)\n",
        "K = (Integer(1)/Integer(2))*(DDR(g(Y, eta), Y, xi) +\n",
        "                              DDR(g(Y, xi), Y, eta) - xcross)\n",
        "\n",
        "def d_proj(Y, xi, omg):\n",
        "    e = matrices('e')\n",
        "    r = mat_spfy(proj(Y, e))\n",
        "    expr = DDR(r, Y, xi)\n",
        "    return expr.xreplace({e: omg})\n",
        "\n",
        "dp_xi_eta = d_proj(Y, xi, eta)\n",
        "prK = simplify_stiefel_tangent(proj(Y, g_inv(Y, K)), Y, (xi, eta))\n",
        "Gamma = mat_spfy(\n",
        "    simplify_stiefel_tangent(prK - dp_xi_eta, Y, (xi, eta)))\n",
        "print(\"This is the Christoffel function:\")\n",
        "pprint(Gamma)\n",
        "fY, fYY = matrices('fY fYY')\n",
        "rhess02 = trace(mat_spfy(t(eta)*fYY*xi-Gamma * t(fY)))\n",
        "print(\"This is the Riemannian Hessian bilinear form\")\n",
        "pprint(rhess02)\n",
        "rhess11_bf_gr = xtrace(rhess02, eta)\n",
        "print(\"This is the Riemannian Hessian Vector Product: (before projection)\")\n",
        "pprint(rhess11_bf_gr)"
      ],
      "execution_count": 6,
      "outputs": [
        {
          "output_type": "stream",
          "text": [
            "This is the Christoffel function:\n"
          ],
          "name": "stdout"
        },
        {
          "output_type": "display_data",
          "data": {
            "text/latex": "$$Y \\eta^T Y \\xi^T Y + \\frac{Y \\eta^T}{2} \\xi + Y \\xi^T Y \\eta^T Y + \\frac{Y \\xi^T}{2} \\eta + \\eta \\xi^T Y + \\xi \\eta^T Y - \\frac{\\alpha_{1} Y}{\\alpha_{0}} \\eta^T Y \\xi^T Y - \\frac{\\alpha_{1} Y}{\\alpha_{0}} \\xi^T Y \\eta^T Y - \\frac{\\alpha_{1} \\eta}{\\alpha_{0}} \\xi^T Y - \\frac{\\alpha_{1} \\xi}{\\alpha_{0}} \\eta^T Y$$",
            "text/plain": [
              "<IPython.core.display.Math object>"
            ]
          },
          "metadata": {
            "tags": []
          }
        },
        {
          "output_type": "stream",
          "text": [
            "This is the Riemannian Hessian bilinear form\n"
          ],
          "name": "stdout"
        },
        {
          "output_type": "display_data",
          "data": {
            "text/latex": "$$Tr(\\eta^T f_{YY} \\xi) + Tr(- \\frac{Y \\eta^T}{2} \\xi f_Y^T) + Tr(- \\frac{Y \\xi^T}{2} \\eta f_Y^T) + Tr(- \\eta \\xi^T Y f_Y^T) + Tr(- \\xi \\eta^T Y f_Y^T) + Tr(- Y \\eta^T Y \\xi^T Y f_Y^T) + Tr(- Y \\xi^T Y \\eta^T Y f_Y^T) + Tr(\\frac{\\alpha_{1} \\eta}{\\alpha_{0}} \\xi^T Y f_Y^T) + Tr(\\frac{\\alpha_{1} \\xi}{\\alpha_{0}} \\eta^T Y f_Y^T) + Tr(\\frac{\\alpha_{1} Y}{\\alpha_{0}} \\eta^T Y \\xi^T Y f_Y^T) + Tr(\\frac{\\alpha_{1} Y}{\\alpha_{0}} \\xi^T Y \\eta^T Y f_Y^T)$$",
            "text/plain": [
              "<IPython.core.display.Math object>"
            ]
          },
          "metadata": {
            "tags": []
          }
        },
        {
          "output_type": "stream",
          "text": [
            "This is the Riemannian Hessian Vector Product: (before projection)\n"
          ],
          "name": "stdout"
        },
        {
          "output_type": "display_data",
          "data": {
            "text/latex": "$$- Y f_Y^T Y \\xi^T Y - Y f_Y^T \\xi - Y \\xi^T Y f_Y^T Y - f_Y Y^T \\xi + f_{YY} \\xi - \\frac{\\xi Y^T}{2} f_Y - \\frac{\\xi f_Y^T}{2} Y + \\frac{\\alpha_{1} Y}{\\alpha_{0}} f_Y^T Y \\xi^T Y + \\frac{\\alpha_{1} Y}{\\alpha_{0}} f_Y^T \\xi + \\frac{\\alpha_{1} Y}{\\alpha_{0}} \\xi^T Y f_Y^T Y + \\frac{\\alpha_{1} f_Y}{\\alpha_{0}} Y^T \\xi$$",
            "text/plain": [
              "<IPython.core.display.Math object>"
            ]
          },
          "metadata": {
            "tags": []
          }
        }
      ]
    },
    {
      "cell_type": "markdown",
      "metadata": {
        "id": "yfeQ9A5vB4Qo",
        "colab_type": "text"
      },
      "source": [
        "# For the full test, run modules of test_real_stiefel.py and test_complex_stiefel.py\n",
        "For now this we just demonstrate a trust-region optimization problem"
      ]
    },
    {
      "cell_type": "code",
      "metadata": {
        "id": "dfYoSRUbAolv",
        "colab_type": "code",
        "colab": {}
      },
      "source": [
        "\n",
        "import sys\n",
        "!git clone https://github.com/pymanopt/pymanopt.git\n",
        "\n",
        "sys.path.append(\"/content/pymanopt\")"
      ],
      "execution_count": 9,
      "outputs": []
    },
    {
      "cell_type": "code",
      "metadata": {
        "id": "S81-esziBqLJ",
        "colab_type": "code",
        "colab": {}
      },
      "source": [
        "import numpy as np\n",
        "import pymanopt\n",
        "from numpy import trace\n",
        "from numpy.random import (randint)\n",
        "from ManNullRange.manifolds.RealStiefel import RealStiefel\n",
        "from ManNullRange.manifolds.tools import (crandn, hsym)\n",
        "from ManNullRange.tests.test_tools import check_zero, random_orthogonal, make_sym_pos"
      ],
      "execution_count": 15,
      "outputs": []
    },
    {
      "cell_type": "code",
      "metadata": {
        "id": "5dwdpGGRCaRj",
        "colab_type": "code",
        "colab": {
          "base_uri": "https://localhost:8080/",
          "height": 1000
        },
        "outputId": "59a25519-dc7d-46bc-b71c-c945daae0eb2"
      },
      "source": [
        "from pymanopt import Problem\n",
        "from pymanopt.solvers import TrustRegions\n",
        "from pymanopt.function import Callable\n",
        "\n",
        "n = 1000\n",
        "d = 50\n",
        "# problem Tr(AXBX^T)\n",
        "for i in range(1):\n",
        "    D = randint(1, 10, n) * 0.02 + 1\n",
        "    OO = random_orthogonal(n)\n",
        "    A = OO @ np.diag(D) @ OO.T\n",
        "    B = make_sym_pos(d)\n",
        "    B = np.diag(randint(1, 10, d) * .2)\n",
        "    \n",
        "    alpha = randint(1, 10, 2) * .1\n",
        "    alpha = alpha/alpha[0]\n",
        "    alpha = np.array([1, .6])\n",
        "    print(alpha)\n",
        "    man = RealStiefel(n, d, alpha)\n",
        "\n",
        "    @Callable\n",
        "    def cost(X):\n",
        "        return trace(A @ X @ B @ X.T)\n",
        "\n",
        "    @Callable\n",
        "    def egrad(X):\n",
        "        return 2*A @ X @ B\n",
        "\n",
        "    @Callable\n",
        "    def ehess(X, H):\n",
        "        return 2*A @ H @ B\n",
        "\n",
        "    if False:\n",
        "        X = man.rand()\n",
        "        xi = man.randvec(X)\n",
        "        d1 = num_deriv(man, X, xi, cost)\n",
        "        d2 = trace(egrad(X) @ xi.T)\n",
        "        print(check_zero(d1-d2))\n",
        "    \n",
        "    prob = Problem(\n",
        "        man, cost, egrad=egrad)\n",
        "    XInit = man.rand()\n",
        "\n",
        "    prob = Problem(\n",
        "        man, cost, egrad=egrad, ehess=ehess)\n",
        "\n",
        "    solver = TrustRegions(maxtime=100000, maxiter=100)\n",
        "    opt = solver.solve(prob, x=XInit, Delta_bar=250)\n",
        "    print(cost(opt))\n",
        "    man1 = RealStiefel(n, d, alpha=np.array([1, 1]))\n",
        "    prob = Problem(\n",
        "        man1, cost, egrad=egrad, ehess=ehess)\n",
        "\n",
        "    solver = TrustRegions(maxtime=100000, maxiter=100)\n",
        "    opt = solver.solve(prob, x=XInit, Delta_bar=250)\n",
        "\n",
        "    man1 = RealStiefel(n, d, alpha=np.array([1, .5]))\n",
        "    prob = Problem(\n",
        "        man1, cost, egrad=egrad, ehess=ehess)\n",
        "\n",
        "    solver = TrustRegions(maxtime=100000, maxiter=100)\n",
        "    opt = solver.solve(prob, x=XInit, Delta_bar=250)\n"
      ],
      "execution_count": 16,
      "outputs": [
        {
          "output_type": "stream",
          "text": [
            "[1.  0.6]\n",
            "Optimizing...\n",
            "                                            f: +5.652233e+01   |grad|: 8.202959e-01\n",
            "REJ TR-   k:     1     num_inner:     0     f: +5.652233e+01   |grad|: 8.202959e-01   exceeded trust region\n",
            "acc       k:     2     num_inner:     0     f: +5.413918e+01   |grad|: 6.500723e-01   exceeded trust region\n",
            "acc       k:     3     num_inner:     1     f: +5.306831e+01   |grad|: 4.518646e-01   exceeded trust region\n",
            "acc       k:     4     num_inner:     3     f: +5.267024e+01   |grad|: 2.315953e-01   exceeded trust region\n",
            "acc       k:     5     num_inner:     7     f: +5.255150e+01   |grad|: 1.319260e-01   negative curvature\n",
            "acc TR-   k:     6     num_inner:     6     f: +5.251750e+01   |grad|: 1.227519e-01   exceeded trust region\n",
            "acc TR+   k:     7     num_inner:     3     f: +5.243845e+01   |grad|: 4.478239e-02   exceeded trust region\n",
            "acc       k:     8     num_inner:    22     f: +5.243292e+01   |grad|: 2.798892e-02   negative curvature\n",
            "acc TR-   k:     9     num_inner:    22     f: +5.243124e+01   |grad|: 1.831087e-02   exceeded trust region\n",
            "acc TR+   k:    10     num_inner:    15     f: +5.242826e+01   |grad|: 3.160960e-03   exceeded trust region\n",
            "acc TR-   k:    11     num_inner:    27     f: +5.242818e+01   |grad|: 3.244820e-03   negative curvature\n",
            "acc TR+   k:    12     num_inner:    26     f: +5.242801e+01   |grad|: 7.223524e-04   exceeded trust region\n",
            "acc TR+   k:    13     num_inner:    33     f: +5.242800e+01   |grad|: 5.182427e-04   exceeded trust region\n",
            "REJ TR-   k:    14     num_inner:    34     f: +5.242800e+01   |grad|: 5.182427e-04   exceeded trust region\n",
            "acc TR+   k:    15     num_inner:    34     f: +5.242800e+01   |grad|: 1.609876e-04   exceeded trust region\n",
            "acc       k:    16     num_inner:    37     f: +5.242800e+01   |grad|: 1.090141e-04   negative curvature\n",
            "acc       k:    17     num_inner:    38     f: +5.242800e+01   |grad|: 5.773607e-05   negative curvature\n",
            "acc       k:    18     num_inner:    38     f: +5.242800e+01   |grad|: 1.871001e-05   negative curvature\n",
            "acc       k:    19     num_inner:    40     f: +5.242800e+01   |grad|: 2.175396e-05   negative curvature\n",
            "acc       k:    20     num_inner:    25     f: +5.242800e+01   |grad|: 4.389030e-10   reached target residual-theta (superlinear)\n",
            "Terminated - min grad norm reached after 20 iterations, 15.34 seconds.\n",
            "\n",
            "52.4279999999999\n",
            "Optimizing...\n",
            "                                            f: +5.652233e+01   |grad|: 8.189722e-01\n",
            "REJ TR-   k:     1     num_inner:     0     f: +5.652233e+01   |grad|: 8.189722e-01   exceeded trust region\n",
            "acc       k:     2     num_inner:     0     f: +5.413294e+01   |grad|: 6.483702e-01   exceeded trust region\n",
            "acc       k:     3     num_inner:     1     f: +5.306197e+01   |grad|: 4.511229e-01   exceeded trust region\n",
            "acc       k:     4     num_inner:     3     f: +5.266616e+01   |grad|: 2.349882e-01   exceeded trust region\n",
            "acc       k:     5     num_inner:     9     f: +5.250858e+01   |grad|: 1.034107e-01   exceeded trust region\n",
            "acc       k:     6     num_inner:    10     f: +5.246429e+01   |grad|: 5.767303e-02   exceeded trust region\n",
            "REJ TR-   k:     7     num_inner:    16     f: +5.246429e+01   |grad|: 5.767303e-02   exceeded trust region\n",
            "acc       k:     8     num_inner:     3     f: +5.243604e+01   |grad|: 5.155778e-02   exceeded trust region\n",
            "acc       k:     9     num_inner:     8     f: +5.242806e+01   |grad|: 2.616904e-03   reached target residual-theta (superlinear)\n",
            "acc       k:    10     num_inner:    21     f: +5.242800e+01   |grad|: 5.083019e-06   reached target residual-theta (superlinear)\n",
            "acc       k:    11     num_inner:    30     f: +5.242800e+01   |grad|: 2.217920e-11   reached target residual-theta (superlinear)\n",
            "Terminated - min grad norm reached after 11 iterations, 4.20 seconds.\n",
            "\n",
            "Optimizing...\n",
            "                                            f: +5.652233e+01   |grad|: 8.209570e-01\n",
            "REJ TR-   k:     1     num_inner:     0     f: +5.652233e+01   |grad|: 8.209570e-01   exceeded trust region\n",
            "acc       k:     2     num_inner:     0     f: +5.414379e+01   |grad|: 6.512206e-01   exceeded trust region\n",
            "acc       k:     3     num_inner:     1     f: +5.307296e+01   |grad|: 4.525008e-01   exceeded trust region\n",
            "acc       k:     4     num_inner:     3     f: +5.267636e+01   |grad|: 2.341205e-01   exceeded trust region\n",
            "acc TR-   k:     5     num_inner:     6     f: +5.258749e+01   |grad|: 1.781811e-01   exceeded trust region\n",
            "acc TR+   k:     6     num_inner:     2     f: +5.245768e+01   |grad|: 6.858639e-02   exceeded trust region\n",
            "acc       k:     7     num_inner:    13     f: +5.244166e+01   |grad|: 3.433417e-02   exceeded trust region\n",
            "acc TR-   k:     8     num_inner:     9     f: +5.243757e+01   |grad|: 4.000026e-02   exceeded trust region\n",
            "acc TR+   k:     9     num_inner:     5     f: +5.242921e+01   |grad|: 1.179570e-02   exceeded trust region\n",
            "acc       k:    10     num_inner:    23     f: +5.242848e+01   |grad|: 6.431268e-03   exceeded trust region\n",
            "REJ TR-   k:    11     num_inner:    23     f: +5.242848e+01   |grad|: 6.431268e-03   negative curvature\n",
            "acc TR+   k:    12     num_inner:    22     f: +5.242805e+01   |grad|: 1.861907e-03   exceeded trust region\n",
            "acc       k:    13     num_inner:    25     f: +5.242803e+01   |grad|: 1.846830e-03   exceeded trust region\n",
            "acc       k:    14     num_inner:    28     f: +5.242801e+01   |grad|: 1.092050e-03   negative curvature\n",
            "acc       k:    15     num_inner:    29     f: +5.242801e+01   |grad|: 1.053523e-03   exceeded trust region\n",
            "acc       k:    16     num_inner:    30     f: +5.242800e+01   |grad|: 5.076509e-04   negative curvature\n",
            "acc       k:    17     num_inner:    32     f: +5.242800e+01   |grad|: 3.388216e-04   negative curvature\n",
            "REJ TR-   k:    18     num_inner:    33     f: +5.242800e+01   |grad|: 3.388216e-04   negative curvature\n",
            "acc TR+   k:    19     num_inner:    32     f: +5.242800e+01   |grad|: 1.086506e-04   exceeded trust region\n",
            "acc TR+   k:    20     num_inner:    35     f: +5.242800e+01   |grad|: 4.573296e-05   exceeded trust region\n",
            "acc       k:    21     num_inner:    37     f: +5.242800e+01   |grad|: 3.019831e-05   negative curvature\n",
            "acc TR+   k:    22     num_inner:    39     f: +5.242800e+01   |grad|: 1.291953e-05   negative curvature\n",
            "acc       k:    23     num_inner:    40     f: +5.242800e+01   |grad|: 8.500830e-06   negative curvature\n",
            "acc       k:    24     num_inner:    29     f: +5.242800e+01   |grad|: 4.015026e-11   reached target residual-theta (superlinear)\n",
            "Terminated - min grad norm reached after 24 iterations, 18.54 seconds.\n",
            "\n"
          ],
          "name": "stdout"
        }
      ]
    },
    {
      "cell_type": "code",
      "metadata": {
        "id": "MKKCnFGZE73Y",
        "colab_type": "code",
        "colab": {
          "base_uri": "https://localhost:8080/",
          "height": 51
        },
        "outputId": "f334462a-ea9f-4cae-c9df-5378beb8a3fa"
      },
      "source": [
        "# run a random generator check\n",
        "min_val = 1e190\n",
        "# min_X = None\n",
        "for i in range(100):\n",
        "    Xi = man.rand()\n",
        "    c = cost(Xi)\n",
        "    if c < min_val:\n",
        "        # min_X = Xi\n",
        "        min_val = c\n",
        "    if i % 1000 == 0:\n",
        "        print('i=%d min=%f' % (i, min_val))\n",
        "print(min_val)\n"
      ],
      "execution_count": 17,
      "outputs": [
        {
          "output_type": "stream",
          "text": [
            "i=0 min=56.525687\n",
            "56.484467734195505\n"
          ],
          "name": "stdout"
        }
      ]
    },
    {
      "cell_type": "markdown",
      "metadata": {
        "id": "2Ff5mM8KEihj",
        "colab_type": "text"
      },
      "source": [
        "Complex Stiefel problem: Run a few tests with different alpha"
      ]
    },
    {
      "cell_type": "code",
      "metadata": {
        "id": "GOZGP0KVE1_q",
        "colab_type": "code",
        "colab": {
          "base_uri": "https://localhost:8080/",
          "height": 1000
        },
        "outputId": "d9100ee8-b387-493d-e8fb-79568f252dc2"
      },
      "source": [
        "from ManNullRange.manifolds.ComplexStiefel import ComplexStiefel\n",
        "from ManNullRange.manifolds.tools import (crandn, hsym, rtrace)\n",
        "from ManNullRange.tests.test_tools import check_zero, random_orthogonal, make_sym_pos\n",
        "\n",
        "from pymanopt import Problem\n",
        "from pymanopt.solvers import TrustRegions\n",
        "from pymanopt.function import Callable\n",
        "\n",
        "n = 1000\n",
        "d = 50\n",
        "# problem Tr(AXBX^T)\n",
        "for i in range(1):\n",
        "    D = randint(1, 10, n) * 0.02 + 1\n",
        "    OO = random_orthogonal(n)\n",
        "    A = OO @ np.diag(D) @ OO.T.conj()\n",
        "    B = make_sym_pos(d)\n",
        "    B = np.diag(randint(1, 10, d) * .2)\n",
        "    \n",
        "    alpha = randint(1, 10, 2) * .1\n",
        "    alpha = alpha/alpha[0]\n",
        "    alpha = np.array([1, .6])\n",
        "    print(alpha)\n",
        "    man = ComplexStiefel(n, d, alpha)\n",
        "\n",
        "    @Callable\n",
        "    def cost(X):\n",
        "        return rtrace(A @ X @ B @ X.T.conj())\n",
        "\n",
        "    @Callable\n",
        "    def egrad(X):\n",
        "        return 2*A @ X @ B\n",
        "\n",
        "    @Callable\n",
        "    def ehess(X, H):\n",
        "        return 2*A @ H @ B\n",
        "\n",
        "    if False:\n",
        "        X = man.rand()\n",
        "        xi = man.randvec(X)\n",
        "        d1 = num_deriv(man, X, xi, cost)\n",
        "        d2 = rtrace(egrad(X) @ xi.T.conj())\n",
        "        print(check_zero(d1-d2))\n",
        "    \n",
        "    prob = Problem(\n",
        "        man, cost, egrad=egrad)\n",
        "    XInit = man.rand()\n",
        "\n",
        "    prob = Problem(\n",
        "        man, cost, egrad=egrad, ehess=ehess)\n",
        "\n",
        "    solver = TrustRegions(maxtime=100000, maxiter=100)\n",
        "    opt = solver.solve(prob, x=XInit, Delta_bar=250)\n",
        "    print(cost(opt))\n",
        "    man1 = ComplexStiefel(n, d, alpha=np.array([1, 1]))\n",
        "    prob = Problem(\n",
        "        man1, cost, egrad=egrad, ehess=ehess)\n",
        "\n",
        "    solver = TrustRegions(maxtime=100000, maxiter=100)\n",
        "    opt = solver.solve(prob, x=XInit, Delta_bar=250)\n",
        "\n",
        "    man1 = ComplexStiefel(n, d, alpha=np.array([1, .5]))\n",
        "    prob = Problem(\n",
        "        man1, cost, egrad=egrad, ehess=ehess)\n",
        "\n",
        "    solver = TrustRegions(maxtime=100000, maxiter=100)\n",
        "    opt = solver.solve(prob, x=XInit, Delta_bar=250)\n"
      ],
      "execution_count": 30,
      "outputs": [
        {
          "output_type": "stream",
          "text": [
            "[1.  0.6]\n",
            "Optimizing...\n",
            "                                            f: +4.976565e+01   |grad|: 7.378670e-01\n",
            "REJ TR-   k:     1     num_inner:     0     f: +4.976565e+01   |grad|: 7.378670e-01   exceeded trust region\n",
            "acc       k:     2     num_inner:     0     f: +4.791940e+01   |grad|: 6.335381e-01   exceeded trust region\n",
            "acc       k:     3     num_inner:     1     f: +4.691978e+01   |grad|: 4.403963e-01   exceeded trust region\n",
            "acc       k:     4     num_inner:     3     f: +4.655066e+01   |grad|: 2.174963e-01   exceeded trust region\n",
            "acc TR-   k:     5     num_inner:     7     f: +4.645393e+01   |grad|: 1.738556e-01   negative curvature\n",
            "acc TR+   k:     6     num_inner:     2     f: +4.633279e+01   |grad|: 6.440190e-02   exceeded trust region\n",
            "acc       k:     7     num_inner:    15     f: +4.631876e+01   |grad|: 3.094653e-02   exceeded trust region\n",
            "acc TR-   k:     8     num_inner:    11     f: +4.631488e+01   |grad|: 2.398875e-02   exceeded trust region\n",
            "acc TR+   k:     9     num_inner:     6     f: +4.630885e+01   |grad|: 9.686241e-03   exceeded trust region\n",
            "acc       k:    10     num_inner:    24     f: +4.630837e+01   |grad|: 6.230688e-03   negative curvature\n",
            "acc       k:    11     num_inner:    27     f: +4.630816e+01   |grad|: 4.387221e-03   negative curvature\n",
            "REJ TR-   k:    12     num_inner:    27     f: +4.630816e+01   |grad|: 4.387221e-03   negative curvature\n",
            "acc TR+   k:    13     num_inner:    27     f: +4.630802e+01   |grad|: 1.382920e-03   negative curvature\n",
            "acc TR+   k:    14     num_inner:    30     f: +4.630800e+01   |grad|: 6.298538e-04   negative curvature\n",
            "acc       k:    15     num_inner:    34     f: +4.630800e+01   |grad|: 4.521355e-04   negative curvature\n",
            "acc       k:    16     num_inner:    36     f: +4.630800e+01   |grad|: 3.768897e-04   negative curvature\n",
            "acc       k:    17     num_inner:    24     f: +4.630800e+01   |grad|: 8.960292e-08   reached target residual-theta (superlinear)\n",
            "Terminated - min grad norm reached after 17 iterations, 33.24 seconds.\n",
            "\n",
            "46.308000000000035\n",
            "Optimizing...\n",
            "                                            f: +4.976565e+01   |grad|: 7.362619e-01\n",
            "REJ TR-   k:     1     num_inner:     0     f: +4.976565e+01   |grad|: 7.362619e-01   exceeded trust region\n",
            "acc       k:     2     num_inner:     0     f: +4.791247e+01   |grad|: 6.316866e-01   exceeded trust region\n",
            "acc       k:     3     num_inner:     1     f: +4.691405e+01   |grad|: 4.403097e-01   exceeded trust region\n",
            "acc       k:     4     num_inner:     3     f: +4.654508e+01   |grad|: 2.190359e-01   exceeded trust region\n",
            "acc       k:     5     num_inner:     8     f: +4.639707e+01   |grad|: 1.033463e-01   exceeded trust region\n",
            "acc TR-   k:     6     num_inner:    10     f: +4.635649e+01   |grad|: 8.372204e-02   exceeded trust region\n",
            "acc       k:     7     num_inner:     4     f: +4.631944e+01   |grad|: 5.773350e-02   exceeded trust region\n",
            "acc       k:     8     num_inner:     9     f: +4.630810e+01   |grad|: 2.883753e-03   reached target residual-theta (superlinear)\n",
            "acc       k:     9     num_inner:    22     f: +4.630800e+01   |grad|: 6.891308e-06   reached target residual-theta (superlinear)\n",
            "acc       k:    10     num_inner:    29     f: +4.630800e+01   |grad|: 4.664248e-11   reached target residual-theta (superlinear)\n",
            "Terminated - min grad norm reached after 10 iterations, 12.01 seconds.\n",
            "\n",
            "Optimizing...\n",
            "                                            f: +4.976565e+01   |grad|: 7.386682e-01\n",
            "REJ TR-   k:     1     num_inner:     0     f: +4.976565e+01   |grad|: 7.386682e-01   exceeded trust region\n",
            "acc       k:     2     num_inner:     0     f: +4.792439e+01   |grad|: 6.347193e-01   exceeded trust region\n",
            "acc       k:     3     num_inner:     1     f: +4.692410e+01   |grad|: 4.406470e-01   exceeded trust region\n",
            "acc       k:     4     num_inner:     3     f: +4.655892e+01   |grad|: 2.221571e-01   exceeded trust region\n",
            "acc TR-   k:     5     num_inner:     6     f: +4.645117e+01   |grad|: 1.391283e-01   exceeded trust region\n",
            "acc TR+   k:     6     num_inner:     2     f: +4.634028e+01   |grad|: 8.397428e-02   exceeded trust region\n",
            "acc       k:     7     num_inner:    12     f: +4.632195e+01   |grad|: 3.984225e-02   exceeded trust region\n",
            "acc TR-   k:     8     num_inner:    12     f: +4.631768e+01   |grad|: 2.653006e-02   exceeded trust region\n",
            "acc TR+   k:     9     num_inner:     5     f: +4.630986e+01   |grad|: 1.211803e-02   exceeded trust region\n",
            "acc TR-   k:    10     num_inner:    17     f: +4.630936e+01   |grad|: 9.700376e-03   exceeded trust region\n",
            "acc TR+   k:    11     num_inner:     8     f: +4.630806e+01   |grad|: 2.402040e-03   exceeded trust region\n",
            "acc       k:    12     num_inner:    27     f: +4.630802e+01   |grad|: 1.564172e-03   negative curvature\n",
            "acc TR-   k:    13     num_inner:    27     f: +4.630801e+01   |grad|: 1.391360e-03   exceeded trust region\n",
            "acc TR+   k:    14     num_inner:    29     f: +4.630800e+01   |grad|: 3.366040e-04   exceeded trust region\n",
            "acc TR+   k:    15     num_inner:    35     f: +4.630800e+01   |grad|: 1.176262e-04   negative curvature\n",
            "acc       k:    16     num_inner:    37     f: +4.630800e+01   |grad|: 8.718260e-05   negative curvature\n",
            "acc       k:    17     num_inner:    37     f: +4.630800e+01   |grad|: 3.573366e-05   negative curvature\n",
            "acc       k:    18     num_inner:    38     f: +4.630800e+01   |grad|: 2.380253e-05   exceeded trust region\n",
            "acc       k:    19     num_inner:    39     f: +4.630800e+01   |grad|: 4.920786e-06   negative curvature\n",
            "acc       k:    20     num_inner:    39     f: +4.630800e+01   |grad|: 1.267847e-06   negative curvature\n",
            "acc       k:    21     num_inner:    39     f: +4.630800e+01   |grad|: 4.755644e-07   negative curvature\n",
            "Terminated - min grad norm reached after 21 iterations, 49.26 seconds.\n",
            "\n"
          ],
          "name": "stdout"
        }
      ]
    },
    {
      "cell_type": "code",
      "metadata": {
        "id": "N-wwoUVzFOC_",
        "colab_type": "code",
        "colab": {
          "base_uri": "https://localhost:8080/",
          "height": 51
        },
        "outputId": "3ef9b732-1b7a-4161-c843-a29e671e3a07"
      },
      "source": [
        "# Run a random generator check\n",
        "min_val = 1e190\n",
        "# min_X = None\n",
        "for i in range(1000):\n",
        "    Xi = man.rand()\n",
        "    c = cost(Xi)\n",
        "    if c < min_val:\n",
        "        # min_X = Xi\n",
        "        min_val = c\n",
        "    if i % 1000 == 0:\n",
        "        print('i=%d min=%f' % (i, min_val))\n",
        "print(min_val)\n"
      ],
      "execution_count": 31,
      "outputs": [
        {
          "output_type": "stream",
          "text": [
            "i=0 min=49.769125\n",
            "49.731752192422434\n"
          ],
          "name": "stdout"
        }
      ]
    },
    {
      "cell_type": "code",
      "metadata": {
        "id": "xAxQOIlbGqal",
        "colab_type": "code",
        "colab": {
          "base_uri": "https://localhost:8080/",
          "height": 1000
        },
        "outputId": "3b57d12f-9a96-4eb1-d67c-ec369c1feb08"
      },
      "source": [
        "from pymanopt import Problem\n",
        "from pymanopt.solvers import TrustRegions\n",
        "from pymanopt.function import Callable\n",
        "n = 50\n",
        "d = 10\n",
        "\n",
        "for i in range(1):\n",
        "    B = np.diag(\n",
        "        np.concatenate([randint(1, 10, d), np.zeros(n-d)]))\n",
        "    D = randint(1, 10, n) * 0.2+.01\n",
        "    OO = random_orthogonal(n)\n",
        "    A = OO @ np.diag(D) @ OO.T.conj()\n",
        "\n",
        "    alpha = np.ones(2)\n",
        "    # alpha[1] = randint(2, 10)*.1\n",
        "    alpha[1] = 2\n",
        "    \n",
        "    print('alpha=%s' % str(alpha))\n",
        "    man = ComplexStiefel(n, d, alpha)\n",
        "    cf = 10\n",
        "    B2 = B @ B\n",
        "\n",
        "    @Callable\n",
        "    def cost(X):\n",
        "        return cf * rtrace(\n",
        "            B @ X @ X.T.conj() @ B2 @ X @ X.T.conj() @ B) +\\\n",
        "            rtrace(X.T.conj() @ A @ X)\n",
        "    \n",
        "    @Callable\n",
        "    def egrad(X):\n",
        "        R = cf*4*B2 @ X @ X.T.conj() @ B2 @ X + 2*A @ X\n",
        "        return R\n",
        "\n",
        "    @Callable\n",
        "    def ehess(X, H):\n",
        "        return 4*cf*B2 @ H @ X.T.conj() @ B2 @ X +\\\n",
        "            4*cf*B2 @ X @ H.T.conj() @ B2 @ X +\\\n",
        "            4*cf*B2 @ X @ X.T.conj() @ B2 @ H + 2*A @ H\n",
        "    \n",
        "    if False:\n",
        "        X = man.rand()\n",
        "        xi = man.randvec(X)\n",
        "        d1 = num_deriv(man, X, xi, cost)\n",
        "        d2 = rtrace(egrad(X) @ xi.T.conj())\n",
        "        print(check_zero(d1-d2))\n",
        "        d3 = num_deriv(man, X, xi, egrad)\n",
        "        d4 = ehess(X, xi)\n",
        "        print(check_zero(d3-d4))\n",
        "        \n",
        "    XInit = man.rand()\n",
        "    prob = Problem(\n",
        "        man, cost, egrad=egrad, ehess=ehess)\n",
        "\n",
        "    solver = TrustRegions(maxtime=100000, maxiter=200)\n",
        "    opt = solver.solve(prob, x=XInit, Delta_bar=2500)\n",
        "    print(cost(opt))\n",
        "    man1 = ComplexStiefel(n, d, alpha=np.array([1, 1]))\n",
        "    prob = Problem(\n",
        "        man1, cost, egrad=egrad, ehess=ehess)\n",
        "\n",
        "    solver = TrustRegions(maxtime=100000, maxiter=200)\n",
        "    print('alpha=%s' % str(man1.alpha))\n",
        "    opt = solver.solve(prob, x=XInit, Delta_bar=250)\n",
        "\n",
        "    man1 = ComplexStiefel(n, d, alpha=np.array([1, .5]))\n",
        "    # man1 = ComplexStiefel(n, d, alpha=np.array([1, 1]))\n",
        "    prob = Problem(\n",
        "        man1, cost, egrad=egrad, ehess=ehess)\n",
        "\n",
        "    solver = TrustRegions(maxtime=100000, maxiter=200)\n",
        "    print('alpha=%s' % str(man1.alpha))\n",
        "    opt = solver.solve(prob, x=XInit, Delta_bar=250)\n"
      ],
      "execution_count": 52,
      "outputs": [
        {
          "output_type": "stream",
          "text": [
            "alpha=[1. 2.]\n",
            "Optimizing...\n",
            "                                            f: +6.860890e+03   |grad|: 2.309833e+04\n",
            "REJ TR-   k:     1     num_inner:     4     f: +6.860890e+03   |grad|: 2.309833e+04   negative curvature\n",
            "REJ TR-   k:     2     num_inner:     4     f: +6.860890e+03   |grad|: 2.309833e+04   negative curvature\n",
            "REJ TR-   k:     3     num_inner:     4     f: +6.860890e+03   |grad|: 2.309833e+04   negative curvature\n",
            "REJ TR-   k:     4     num_inner:     4     f: +6.860890e+03   |grad|: 2.309833e+04   negative curvature\n",
            "acc TR+   k:     5     num_inner:     3     f: +8.883401e+02   |grad|: 6.093799e+03   exceeded trust region\n",
            "acc       k:     6     num_inner:     2     f: +1.733489e+02   |grad|: 1.700735e+03   reached target residual-kappa (linear)\n",
            "acc       k:     7     num_inner:     2     f: +4.572483e+01   |grad|: 4.978847e+02   reached target residual-kappa (linear)\n",
            "acc       k:     8     num_inner:     2     f: +1.859649e+01   |grad|: 1.480872e+02   reached target residual-kappa (linear)\n",
            "acc       k:     9     num_inner:     2     f: +1.232730e+01   |grad|: 4.456633e+01   reached target residual-kappa (linear)\n",
            "acc       k:    10     num_inner:     2     f: +1.080545e+01   |grad|: 1.352467e+01   reached target residual-kappa (linear)\n",
            "REJ TR-   k:    11     num_inner:     6     f: +1.080545e+01   |grad|: 1.352467e+01   exceeded trust region\n",
            "acc TR+   k:    12     num_inner:     5     f: +9.675100e+00   |grad|: 2.520921e+01   exceeded trust region\n",
            "REJ TR-   k:    13     num_inner:     6     f: +9.675100e+00   |grad|: 2.520921e+01   exceeded trust region\n",
            "acc TR+   k:    14     num_inner:     5     f: +8.569531e+00   |grad|: 1.199604e+01   exceeded trust region\n",
            "acc       k:    15     num_inner:     4     f: +7.897103e+00   |grad|: 2.489379e+01   exceeded trust region\n",
            "acc TR+   k:    16     num_inner:     6     f: +6.909227e+00   |grad|: 2.481541e+01   exceeded trust region\n",
            "acc       k:    17     num_inner:     9     f: +5.897698e+00   |grad|: 2.482485e+01   exceeded trust region\n",
            "acc       k:    18     num_inner:     4     f: +5.042787e+00   |grad|: 7.338648e+00   reached target residual-kappa (linear)\n",
            "acc       k:    19     num_inner:     9     f: +4.641445e+00   |grad|: 9.910598e+00   exceeded trust region\n",
            "acc       k:    20     num_inner:    14     f: +4.243464e+00   |grad|: 2.781991e+00   reached target residual-kappa (linear)\n",
            "acc       k:    21     num_inner:    30     f: +4.097404e+00   |grad|: 1.093373e+00   exceeded trust region\n",
            "acc       k:    22     num_inner:    39     f: +4.078948e+00   |grad|: 1.381226e+00   exceeded trust region\n",
            "acc       k:    23     num_inner:    18     f: +4.052255e+00   |grad|: 3.758544e-01   reached target residual-kappa (linear)\n",
            "acc       k:    24     num_inner:    23     f: +4.049025e+00   |grad|: 8.519770e-02   reached target residual-kappa (linear)\n",
            "acc       k:    25     num_inner:    32     f: +4.048618e+00   |grad|: 1.817158e-02   reached target residual-theta (superlinear)\n",
            "acc       k:    26     num_inner:    70     f: +4.048579e+00   |grad|: 4.377167e-03   reached target residual-theta (superlinear)\n",
            "acc       k:    27     num_inner:    82     f: +4.048576e+00   |grad|: 1.054260e-03   reached target residual-theta (superlinear)\n",
            "REJ TR-   k:    28     num_inner:   222     f: +4.048576e+00   |grad|: 1.054260e-03   negative curvature\n",
            "acc       k:    29     num_inner:   221     f: +4.048576e+00   |grad|: 3.005627e-03   exceeded trust region\n",
            "acc       k:    30     num_inner:    95     f: +4.048576e+00   |grad|: 5.294599e-05   reached target residual-theta (superlinear)\n",
            "REJ TR-   k:    31     num_inner:   288     f: +4.048576e+00   |grad|: 5.294599e-05   negative curvature\n",
            "acc TR+   k:    32     num_inner:   287     f: +4.048576e+00   |grad|: 9.037428e-05   exceeded trust region\n",
            "acc       k:    33     num_inner:   141     f: +4.048576e+00   |grad|: 8.811827e-09   reached target residual-theta (superlinear)\n",
            "Terminated - min grad norm reached after 33 iterations, 2.51 seconds.\n",
            "\n",
            "4.048575738672445\n",
            "alpha=[1 1]\n",
            "Optimizing...\n",
            "                                            f: +6.860890e+03   |grad|: 2.309833e+04\n",
            "REJ TR-   k:     1     num_inner:     4     f: +6.860890e+03   |grad|: 2.309833e+04   negative curvature\n",
            "REJ TR-   k:     2     num_inner:     4     f: +6.860890e+03   |grad|: 2.309833e+04   negative curvature\n",
            "acc       k:     3     num_inner:     3     f: +1.758616e+03   |grad|: 9.361951e+03   exceeded trust region\n",
            "acc       k:     4     num_inner:     2     f: +2.692836e+02   |grad|: 2.422428e+03   reached target residual-kappa (linear)\n",
            "acc       k:     5     num_inner:     2     f: +6.178025e+01   |grad|: 6.981023e+02   reached target residual-kappa (linear)\n",
            "acc       k:     6     num_inner:     2     f: +2.206906e+01   |grad|: 2.060298e+02   reached target residual-kappa (linear)\n",
            "acc       k:     7     num_inner:     2     f: +1.338336e+01   |grad|: 6.199634e+01   reached target residual-kappa (linear)\n",
            "acc       k:     8     num_inner:     4     f: +1.099121e+01   |grad|: 1.869978e+01   reached target residual-kappa (linear)\n",
            "REJ TR-   k:     9     num_inner:     7     f: +1.099121e+01   |grad|: 1.869978e+01   exceeded trust region\n",
            "acc TR+   k:    10     num_inner:     6     f: +9.666096e+00   |grad|: 1.486696e+01   exceeded trust region\n",
            "acc       k:    11     num_inner:     5     f: +8.827725e+00   |grad|: 4.572593e+01   exceeded trust region\n",
            "acc       k:    12     num_inner:     2     f: +7.541749e+00   |grad|: 1.366869e+01   reached target residual-kappa (linear)\n",
            "REJ TR-   k:    13     num_inner:     6     f: +7.541749e+00   |grad|: 1.366869e+01   exceeded trust region\n",
            "acc TR+   k:    14     num_inner:     4     f: +6.914964e+00   |grad|: 6.135848e+00   exceeded trust region\n",
            "acc TR+   k:    15     num_inner:     3     f: +6.244321e+00   |grad|: 9.689176e+00   exceeded trust region\n",
            "REJ TR-   k:    16     num_inner:     7     f: +6.244321e+00   |grad|: 9.689176e+00   exceeded trust region\n",
            "acc TR+   k:    17     num_inner:     4     f: +5.863690e+00   |grad|: 8.084982e+00   exceeded trust region\n",
            "acc TR+   k:    18     num_inner:     4     f: +5.408971e+00   |grad|: 1.169197e+01   exceeded trust region\n",
            "REJ TR-   k:    19     num_inner:     8     f: +5.408971e+00   |grad|: 1.169197e+01   exceeded trust region\n",
            "acc TR+   k:    20     num_inner:     5     f: +5.052465e+00   |grad|: 7.041370e+00   exceeded trust region\n",
            "acc       k:    21     num_inner:     5     f: +4.793596e+00   |grad|: 8.943485e+00   exceeded trust region\n",
            "acc TR+   k:    22     num_inner:     8     f: +4.481581e+00   |grad|: 8.645275e+00   exceeded trust region\n",
            "acc       k:    23     num_inner:    13     f: +4.245016e+00   |grad|: 3.890745e+00   exceeded trust region\n",
            "acc       k:    24     num_inner:    31     f: +4.188391e+00   |grad|: 5.302288e+00   exceeded trust region\n",
            "acc       k:    25     num_inner:     5     f: +4.101723e+00   |grad|: 1.615656e+00   reached target residual-kappa (linear)\n",
            "acc       k:    26     num_inner:    18     f: +4.057899e+00   |grad|: 4.591653e-01   reached target residual-kappa (linear)\n",
            "acc       k:    27     num_inner:    45     f: +4.049424e+00   |grad|: 1.350302e-01   reached target residual-kappa (linear)\n",
            "acc       k:    28     num_inner:    29     f: +4.048664e+00   |grad|: 2.351896e-02   reached target residual-kappa (linear)\n",
            "acc       k:    29     num_inner:    67     f: +4.048581e+00   |grad|: 4.455530e-03   reached target residual-theta (superlinear)\n",
            "acc       k:    30     num_inner:    85     f: +4.048577e+00   |grad|: 1.374535e-03   reached target residual-theta (superlinear)\n",
            "REJ TR-   k:    31     num_inner:   217     f: +4.048577e+00   |grad|: 1.374535e-03   exceeded trust region\n",
            "acc TR+   k:    32     num_inner:   215     f: +4.048576e+00   |grad|: 4.183657e-03   exceeded trust region\n",
            "acc       k:    33     num_inner:   101     f: +4.048576e+00   |grad|: 2.524347e-04   reached target residual-theta (superlinear)\n",
            "REJ TR-   k:    34     num_inner:   265     f: +4.048576e+00   |grad|: 2.524347e-04   exceeded trust region\n",
            "acc       k:    35     num_inner:   258     f: +4.048576e+00   |grad|: 8.341989e-04   exceeded trust region\n",
            "acc       k:    36     num_inner:    83     f: +4.048576e+00   |grad|: 8.058713e-07   reached target residual-theta (superlinear)\n",
            "Terminated - min grad norm reached after 36 iterations, 2.51 seconds.\n",
            "\n",
            "alpha=[1.  0.5]\n",
            "Optimizing...\n",
            "                                            f: +6.860890e+03   |grad|: 2.309833e+04\n",
            "REJ TR-   k:     1     num_inner:     4     f: +6.860890e+03   |grad|: 2.309833e+04   negative curvature\n",
            "REJ TR-   k:     2     num_inner:     4     f: +6.860890e+03   |grad|: 2.309833e+04   negative curvature\n",
            "acc       k:     3     num_inner:     3     f: +1.691821e+03   |grad|: 9.127277e+03   exceeded trust region\n",
            "acc       k:     4     num_inner:     2     f: +2.617120e+02   |grad|: 2.372319e+03   reached target residual-kappa (linear)\n",
            "acc       k:     5     num_inner:     2     f: +6.041576e+01   |grad|: 6.841271e+02   reached target residual-kappa (linear)\n",
            "acc       k:     6     num_inner:     2     f: +2.178271e+01   |grad|: 2.019111e+02   reached target residual-kappa (linear)\n",
            "acc       k:     7     num_inner:     2     f: +1.331599e+01   |grad|: 6.077635e+01   reached target residual-kappa (linear)\n",
            "acc       k:     8     num_inner:     4     f: +1.097695e+01   |grad|: 1.833123e+01   reached target residual-kappa (linear)\n",
            "REJ TR-   k:     9     num_inner:     7     f: +1.097695e+01   |grad|: 1.833123e+01   exceeded trust region\n",
            "acc TR+   k:    10     num_inner:     6     f: +9.687842e+00   |grad|: 1.597265e+01   exceeded trust region\n",
            "acc       k:    11     num_inner:     5     f: +8.753045e+00   |grad|: 4.440514e+01   exceeded trust region\n",
            "acc       k:    12     num_inner:     2     f: +7.525815e+00   |grad|: 1.329135e+01   reached target residual-kappa (linear)\n",
            "REJ TR-   k:    13     num_inner:     6     f: +7.525815e+00   |grad|: 1.329135e+01   exceeded trust region\n",
            "acc TR+   k:    14     num_inner:     4     f: +6.909745e+00   |grad|: 6.020930e+00   exceeded trust region\n",
            "acc TR+   k:    15     num_inner:     3     f: +6.211993e+00   |grad|: 8.455399e+00   exceeded trust region\n",
            "REJ TR-   k:    16     num_inner:     6     f: +6.211993e+00   |grad|: 8.455399e+00   exceeded trust region\n",
            "acc TR+   k:    17     num_inner:     4     f: +5.899419e+00   |grad|: 9.783732e+00   exceeded trust region\n",
            "acc TR+   k:    18     num_inner:     5     f: +5.384659e+00   |grad|: 9.915755e+00   exceeded trust region\n",
            "REJ TR-   k:    19     num_inner:     8     f: +5.384659e+00   |grad|: 9.915755e+00   exceeded trust region\n",
            "acc TR+   k:    20     num_inner:     5     f: +5.019340e+00   |grad|: 5.680518e+00   exceeded trust region\n",
            "acc       k:    21     num_inner:     5     f: +4.900306e+00   |grad|: 1.468147e+01   exceeded trust region\n",
            "acc       k:    22     num_inner:     2     f: +4.607448e+00   |grad|: 4.352403e+00   reached target residual-kappa (linear)\n",
            "REJ TR-   k:    23     num_inner:     6     f: +4.607448e+00   |grad|: 4.352403e+00   exceeded trust region\n",
            "acc TR+   k:    24     num_inner:     4     f: +4.503070e+00   |grad|: 2.472218e+00   exceeded trust region\n",
            "acc TR+   k:    25     num_inner:     3     f: +4.424695e+00   |grad|: 4.578815e+00   exceeded trust region\n",
            "acc       k:    26     num_inner:     8     f: +4.375590e+00   |grad|: 1.000369e+01   exceeded trust region\n",
            "acc       k:    27     num_inner:     2     f: +4.214085e+00   |grad|: 2.944817e+00   reached target residual-kappa (linear)\n",
            "acc       k:    28     num_inner:    11     f: +4.137325e+00   |grad|: 2.114644e+00   exceeded trust region\n",
            "REJ TR-   k:    29     num_inner:    21     f: +4.137325e+00   |grad|: 2.114644e+00   reached target residual-kappa (linear)\n",
            "REJ TR-   k:    30     num_inner:     9     f: +4.137325e+00   |grad|: 2.114644e+00   exceeded trust region\n",
            "acc TR+   k:    31     num_inner:     1     f: +4.100387e+00   |grad|: 7.154802e-01   exceeded trust region\n",
            "acc TR+   k:    32     num_inner:     5     f: +4.085079e+00   |grad|: 6.101686e-01   exceeded trust region\n",
            "acc TR+   k:    33     num_inner:     6     f: +4.072537e+00   |grad|: 3.229005e-01   exceeded trust region\n",
            "acc TR+   k:    34     num_inner:    10     f: +4.062670e+00   |grad|: 3.073015e-01   exceeded trust region\n",
            " +++ Detected many consecutive TR+ (radius increases).\n",
            " +++ Consider increasing options.Delta_bar by an order of magnitude.\n",
            " +++ Current values: Delta_bar = 250 and Delta0 = 31.25.\n",
            "acc TR+   k:    35     num_inner:    21     f: +4.053690e+00   |grad|: 1.757854e-01   exceeded trust region\n",
            "acc       k:    36     num_inner:    60     f: +4.048758e+00   |grad|: 5.277615e-02   reached target residual-kappa (linear)\n",
            "acc       k:    37     num_inner:    43     f: +4.048588e+00   |grad|: 1.025766e-02   reached target residual-theta (superlinear)\n",
            "acc       k:    38     num_inner:    77     f: +4.048577e+00   |grad|: 1.971854e-03   reached target residual-theta (superlinear)\n",
            "acc       k:    39     num_inner:   104     f: +4.048576e+00   |grad|: 5.230325e-04   reached target residual-theta (superlinear)\n",
            "REJ TR-   k:    40     num_inner:   248     f: +4.048576e+00   |grad|: 5.230325e-04   exceeded trust region\n",
            "acc       k:    41     num_inner:   244     f: +4.048576e+00   |grad|: 3.028638e-03   exceeded trust region\n",
            "acc       k:    42     num_inner:    72     f: +4.048576e+00   |grad|: 1.418626e-05   reached target residual-theta (superlinear)\n",
            "acc       k:    43     num_inner:   196     f: +4.048576e+00   |grad|: 8.281718e-09   reached target residual-theta (superlinear)\n",
            "Terminated - min grad norm reached after 43 iterations, 2.04 seconds.\n",
            "\n"
          ],
          "name": "stdout"
        }
      ]
    }
  ]
}