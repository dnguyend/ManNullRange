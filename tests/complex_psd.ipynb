{
  "nbformat": 4,
  "nbformat_minor": 0,
  "metadata": {
    "colab": {
      "name": "complex_psd.ipynb",
      "provenance": [],
      "authorship_tag": "ABX9TyODyMhU2nB5fDmkaMLz9fRf",
      "include_colab_link": true
    },
    "kernelspec": {
      "name": "python3",
      "display_name": "Python 3"
    },
    "widgets": {
      "application/vnd.jupyter.widget-state+json": {
        "aa83a2e0864142a9981a01ae05732807": {
          "model_module": "@jupyter-widgets/controls",
          "model_name": "TextModel",
          "state": {
            "_view_name": "TextView",
            "style": "IPY_MODEL_49431738f31e46f79506fd1368b24c43",
            "_dom_classes": [],
            "description": "Username",
            "_model_name": "TextModel",
            "placeholder": "​",
            "_view_module": "@jupyter-widgets/controls",
            "_model_module_version": "1.5.0",
            "value": "",
            "_view_count": null,
            "disabled": false,
            "_view_module_version": "1.5.0",
            "continuous_update": true,
            "description_tooltip": null,
            "_model_module": "@jupyter-widgets/controls",
            "layout": "IPY_MODEL_8a70cb667f4f4db9a3bd77e76b7a774d"
          }
        },
        "49431738f31e46f79506fd1368b24c43": {
          "model_module": "@jupyter-widgets/controls",
          "model_name": "DescriptionStyleModel",
          "state": {
            "_view_name": "StyleView",
            "_model_name": "DescriptionStyleModel",
            "description_width": "",
            "_view_module": "@jupyter-widgets/base",
            "_model_module_version": "1.5.0",
            "_view_count": null,
            "_view_module_version": "1.2.0",
            "_model_module": "@jupyter-widgets/controls"
          }
        },
        "8a70cb667f4f4db9a3bd77e76b7a774d": {
          "model_module": "@jupyter-widgets/base",
          "model_name": "LayoutModel",
          "state": {
            "_view_name": "LayoutView",
            "grid_template_rows": null,
            "right": null,
            "justify_content": null,
            "_view_module": "@jupyter-widgets/base",
            "overflow": null,
            "_model_module_version": "1.2.0",
            "_view_count": null,
            "flex_flow": null,
            "width": null,
            "min_width": null,
            "border": null,
            "align_items": null,
            "bottom": null,
            "_model_module": "@jupyter-widgets/base",
            "top": null,
            "grid_column": null,
            "overflow_y": null,
            "overflow_x": null,
            "grid_auto_flow": null,
            "grid_area": null,
            "grid_template_columns": null,
            "flex": null,
            "_model_name": "LayoutModel",
            "justify_items": null,
            "grid_row": null,
            "max_height": null,
            "align_content": null,
            "visibility": null,
            "align_self": null,
            "height": null,
            "min_height": null,
            "padding": null,
            "grid_auto_rows": null,
            "grid_gap": null,
            "max_width": null,
            "order": null,
            "_view_module_version": "1.2.0",
            "grid_template_areas": null,
            "object_position": null,
            "object_fit": null,
            "grid_auto_columns": null,
            "margin": null,
            "display": null,
            "left": null
          }
        },
        "8aeacb0f0a5b407ba44dc519dde770cb": {
          "model_module": "@jupyter-widgets/controls",
          "model_name": "PasswordModel",
          "state": {
            "_view_name": "PasswordView",
            "style": "IPY_MODEL_348c939682314eddbe2ba2637706c2f4",
            "_dom_classes": [],
            "description": "Password",
            "_model_name": "PasswordModel",
            "placeholder": "password here",
            "_view_module": "@jupyter-widgets/controls",
            "_model_module_version": "1.5.0",
            "value": "",
            "_view_count": null,
            "disabled": false,
            "_view_module_version": "1.5.0",
            "continuous_update": true,
            "description_tooltip": null,
            "_model_module": "@jupyter-widgets/controls",
            "layout": "IPY_MODEL_6ed5f591371349f98ca23ba00287d152"
          }
        },
        "348c939682314eddbe2ba2637706c2f4": {
          "model_module": "@jupyter-widgets/controls",
          "model_name": "DescriptionStyleModel",
          "state": {
            "_view_name": "StyleView",
            "_model_name": "DescriptionStyleModel",
            "description_width": "",
            "_view_module": "@jupyter-widgets/base",
            "_model_module_version": "1.5.0",
            "_view_count": null,
            "_view_module_version": "1.2.0",
            "_model_module": "@jupyter-widgets/controls"
          }
        },
        "6ed5f591371349f98ca23ba00287d152": {
          "model_module": "@jupyter-widgets/base",
          "model_name": "LayoutModel",
          "state": {
            "_view_name": "LayoutView",
            "grid_template_rows": null,
            "right": null,
            "justify_content": null,
            "_view_module": "@jupyter-widgets/base",
            "overflow": null,
            "_model_module_version": "1.2.0",
            "_view_count": null,
            "flex_flow": null,
            "width": null,
            "min_width": null,
            "border": null,
            "align_items": null,
            "bottom": null,
            "_model_module": "@jupyter-widgets/base",
            "top": null,
            "grid_column": null,
            "overflow_y": null,
            "overflow_x": null,
            "grid_auto_flow": null,
            "grid_area": null,
            "grid_template_columns": null,
            "flex": null,
            "_model_name": "LayoutModel",
            "justify_items": null,
            "grid_row": null,
            "max_height": null,
            "align_content": null,
            "visibility": null,
            "align_self": null,
            "height": null,
            "min_height": null,
            "padding": null,
            "grid_auto_rows": null,
            "grid_gap": null,
            "max_width": null,
            "order": null,
            "_view_module_version": "1.2.0",
            "grid_template_areas": null,
            "object_position": null,
            "object_fit": null,
            "grid_auto_columns": null,
            "margin": null,
            "display": null,
            "left": null
          }
        }
      }
    }
  },
  "cells": [
    {
      "cell_type": "markdown",
      "metadata": {
        "id": "view-in-github",
        "colab_type": "text"
      },
      "source": [
        "<a href=\"https://colab.research.google.com/github/dnguyend/ManNullRange/blob/master/tests/complex_psd.ipynb\" target=\"_parent\"><img src=\"https://colab.research.google.com/assets/colab-badge.svg\" alt=\"Open In Colab\"/></a>"
      ]
    },
    {
      "cell_type": "markdown",
      "metadata": {
        "id": "JGYF0ahDFOz7",
        "colab_type": "text"
      },
      "source": [
        "$\\newcommand{\\C}{\\mathbb{C}}$\n",
        "$\\newcommand{\\rN}{\\mathrm{N}}$\n",
        "$\\newcommand{\\rD}{\\mathrm{D}}$\n",
        "$\\newcommand{\\cE}{\\mathcal{E}}$\n",
        "$\\newcommand{\\cEJ}{\\cE_{\\JJ}}$\n",
        "$\\newcommand{\\CTRL}{\\textsc{CTRL}}$\n",
        "$\\newcommand{\\Herm}[3]{\\mathrm{Sym}_{#1, #2, #3}}$\n",
        "$\\newcommand{\\AHerm}[3]{\\mathrm{Skew}_{#1, #2, #3}}$\n",
        "$\\newcommand{\\St}[3]{\\mathrm{St}_{#1, #2, #3}}$\n",
        "$\\newcommand{\\Sp}[3]{\\mathtt{S}^{+}_{#1, #2, #3}}$\n",
        "$\\newcommand{\\Sd}[2]{\\mathtt{S}^{+}_{#1, #2}}$\n",
        "$\\DeclareMathOperator{\\UU}{U}$\n",
        "$\\DeclareMathOperator{\\JJ}{J}$\n",
        "# Complex Positive-semidefinite manifold $\\Sp{\\C}{p}{n}$ with Riemannian quotient metric.\n",
        "* Manifold is Stiefel $\\St{\\C}{p}{n}$ times positive definite (PD) $\\Sd{\\C}{p}$ with the quotient by the unitary group $\\UU(\\C, p)$, via a representation $S = YPY^H$ with $Y\\in\\St{\\C}{p}{n}, P\\in \\Sd{\\C}{p}$.\n",
        "* Horizontal lift is normal to vertical vectors.\n",
        "* Ambient space $\\cE= \\C^{n\\times p}\\oplus\\C^{p\\times p}$\n",
        "* The tangent space is the nullspace of the operator $\\JJ(S)$ is $[\\omega_P-\\omega_P^H,  \\alpha_1 Y^{H} \\omega_Y+\\beta(\\omega_P P^{-1}-\\omega_P P^{-1}) ]$ in $\\cE_{\\JJ} = \\AHerm{\\C}{p}{p}\\oplus \\C^{p\\times p}$\n",
        "* Operator $\\rN(S)$ is $\\rN[B, D]=[\\beta Y(P^{-1}D - D P^{-1}) + Y_{\\perp}B, \\alpha_1 D]$ parameterizing the tangent space by $\\cE_{\\rN} = \\C^{(n-p)\\times p}\\oplus \\Herm{H}{\\C}{p}$.\n",
        "* We show an example of optimization, finding the rank $p$ matrix closest to a given matrix $A$.\n",
        "* We also show a detailed verification the implementation against a number of theoretical considerations: property of projection, the covariant derivatives is metric invariant and torsion free, and relationship between bilinear and operator Riemannian Hessian, various adjoint relations. "
      ]
    },
    {
      "cell_type": "code",
      "metadata": {
        "id": "uaHV0imoEWQ4",
        "colab_type": "code",
        "colab": {
          "base_uri": "https://localhost:8080/",
          "height": 133,
          "referenced_widgets": [
            "aa83a2e0864142a9981a01ae05732807",
            "49431738f31e46f79506fd1368b24c43",
            "8a70cb667f4f4db9a3bd77e76b7a774d",
            "8aeacb0f0a5b407ba44dc519dde770cb",
            "348c939682314eddbe2ba2637706c2f4",
            "6ed5f591371349f98ca23ba00287d152"
          ]
        },
        "outputId": "fe301e06-c509-4f91-f68d-82e9ad181604"
      },
      "source": [
        "import ipywidgets as widgets\n",
        "from IPython.display import display\n",
        "import subprocess\n",
        "\n",
        "class credentials_input():\n",
        "    def __init__(self, repo_name):\n",
        "        self.repo_name = repo_name\n",
        "        display(\"Use %40 for @ in email address\")\n",
        "        self.username = widgets.Text(description='Username', value='')\n",
        "        self.pwd = widgets.Password(description = 'Password', placeholder='password here')\n",
        "\n",
        "        self.username.on_submit(self.handle_submit_username)\n",
        "        self.pwd.on_submit(self.handle_submit_pwd)        \n",
        "        display(self.username)\n",
        "\n",
        "    def handle_submit_username(self, text):\n",
        "        display(self.pwd)\n",
        "        return\n",
        "\n",
        "    def handle_submit_pwd(self, text):\n",
        "        cmd = r'git clone https://%s:%s@%s' % (self.username.value, self.pwd.value, self.repo_name)\n",
        "        process = subprocess.Popen(cmd.split(), stdout=subprocess.PIPE, stderr=subprocess.PIPE)\n",
        "        output, error = process.communicate()\n",
        "        print(output,error)        \n",
        "        self.username.value, self.pwd.value = '', ''\n",
        "\n",
        "get_creds = credentials_input('github.com/dnguyend/ManNullRange.git')\n",
        "get_creds"
      ],
      "execution_count": null,
      "outputs": [
        {
          "output_type": "display_data",
          "data": {
            "application/vnd.google.colaboratory.intrinsic": {
              "type": "string"
            },
            "text/plain": [
              "'Use %40 for @ in email address'"
            ]
          },
          "metadata": {
            "tags": []
          }
        },
        {
          "output_type": "display_data",
          "data": {
            "application/vnd.jupyter.widget-view+json": {
              "model_id": "aa83a2e0864142a9981a01ae05732807",
              "version_minor": 0,
              "version_major": 2
            },
            "text/plain": [
              "Text(value='', description='Username')"
            ]
          },
          "metadata": {
            "tags": []
          }
        },
        {
          "output_type": "execute_result",
          "data": {
            "text/plain": [
              "<__main__.credentials_input at 0x7f6a60861a90>"
            ]
          },
          "metadata": {
            "tags": []
          },
          "execution_count": 1
        },
        {
          "output_type": "display_data",
          "data": {
            "application/vnd.jupyter.widget-view+json": {
              "model_id": "8aeacb0f0a5b407ba44dc519dde770cb",
              "version_minor": 0,
              "version_major": 2
            },
            "text/plain": [
              "Password(description='Password', placeholder='password here')"
            ]
          },
          "metadata": {
            "tags": []
          }
        },
        {
          "output_type": "stream",
          "text": [
            "b'' b\"Cloning into 'ManNullRange'...\\n\"\n"
          ],
          "name": "stdout"
        }
      ]
    },
    {
      "cell_type": "code",
      "metadata": {
        "id": "AlqlV_RjFC-P",
        "colab_type": "code",
        "colab": {
          "base_uri": "https://localhost:8080/",
          "height": 136
        },
        "outputId": "dd4099d8-88a6-4966-f9f5-66f05f6ca6df"
      },
      "source": [
        "!git clone  https://github.com/pymanopt/pymanopt.git\n",
        "import sys\n",
        "sys.path.append(\"/content/pymanopt\")\n",
        "\n"
      ],
      "execution_count": null,
      "outputs": [
        {
          "output_type": "stream",
          "text": [
            "Cloning into 'pymanopt'...\n",
            "remote: Enumerating objects: 15, done.\u001b[K\n",
            "remote: Counting objects:   6% (1/15)\u001b[K\rremote: Counting objects:  13% (2/15)\u001b[K\rremote: Counting objects:  20% (3/15)\u001b[K\rremote: Counting objects:  26% (4/15)\u001b[K\rremote: Counting objects:  33% (5/15)\u001b[K\rremote: Counting objects:  40% (6/15)\u001b[K\rremote: Counting objects:  46% (7/15)\u001b[K\rremote: Counting objects:  53% (8/15)\u001b[K\rremote: Counting objects:  60% (9/15)\u001b[K\rremote: Counting objects:  66% (10/15)\u001b[K\rremote: Counting objects:  73% (11/15)\u001b[K\rremote: Counting objects:  80% (12/15)\u001b[K\rremote: Counting objects:  86% (13/15)\u001b[K\rremote: Counting objects:  93% (14/15)\u001b[K\rremote: Counting objects: 100% (15/15)\u001b[K\rremote: Counting objects: 100% (15/15), done.\u001b[K\n",
            "remote: Compressing objects: 100% (15/15), done.\u001b[K\n",
            "remote: Total 4062 (delta 1), reused 6 (delta 0), pack-reused 4047\u001b[K\n",
            "Receiving objects: 100% (4062/4062), 894.18 KiB | 12.59 MiB/s, done.\n",
            "Resolving deltas: 100% (2821/2821), done.\n"
          ],
          "name": "stdout"
        }
      ]
    },
    {
      "cell_type": "markdown",
      "metadata": {
        "id": "5pEXsHK8FB_k",
        "colab_type": "text"
      },
      "source": [
        "First we import the package. Basic structure: The manifold is ComplexPositiveSemidefinite, a manifold point is by the class psd_point, a point on the tangent space is psd_ambient. We have a few utility functions:\n",
        "crandn for complex random, and hsym is the Hermitian symmetrize operator $\\frac{1}{2}(X+X^H)$. Check zero just checks if a matrix is close to zero."
      ]
    },
    {
      "cell_type": "code",
      "metadata": {
        "id": "VMQMDC3pE2v8",
        "colab_type": "code",
        "colab": {}
      },
      "source": [
        "import numpy as np\n",
        "import pymanopt\n",
        "from numpy import trace\n",
        "from numpy.random import (randint)\n",
        "from ManNullRange.manifolds.ComplexPositiveSemidefinite import (ComplexPositiveSemidefinite, psd_ambient, psd_point)\n",
        "from ManNullRange.manifolds.tools import (crandn, hsym)\n",
        "from ManNullRange.tests.test_tools import check_zero"
      ],
      "execution_count": null,
      "outputs": []
    },
    {
      "cell_type": "markdown",
      "metadata": {
        "id": "cV-CroO8gpzo",
        "colab_type": "text"
      },
      "source": [
        "This function set up to find the shortest distance to a manifold defined by man"
      ]
    },
    {
      "cell_type": "code",
      "metadata": {
        "id": "_RDPLqGyceYo",
        "colab_type": "code",
        "colab": {}
      },
      "source": [
        "def find_shortest_distance(man, A, X0, maxiter, check_deriv=False):\n",
        "    # simple function. Distance from a given matrix to the manifold\n",
        "    # || S - A||_F^2\n",
        "    from pymanopt import Problem\n",
        "    from pymanopt.solvers import TrustRegions\n",
        "    from pymanopt.function import Callable\n",
        "\n",
        "    @Callable\n",
        "    def cost(S):\n",
        "        diff = (A - S.Y @ S.P @ S.Y.T.conjugate())\n",
        "        val = trace(diff @ diff.T.conjugate()).real\n",
        "        return val\n",
        "\n",
        "    @Callable\n",
        "    def egrad(S):\n",
        "        return psd_ambient(-4*A @ S.Y @ S.P,\n",
        "                           2*(S.P-S.Y.T.conjugate() @ A @ S.Y))\n",
        "    @Callable\n",
        "    def ehess(S, xi):\n",
        "        return psd_ambient(\n",
        "            -4*A @ (xi.tY @ S.P + S.Y @ xi.tP),\n",
        "            2*(xi.tP - xi.tY.T.conjugate() @ A @ S.Y -\n",
        "               S.Y.T.conjugate() @ A @ xi.tY))\n",
        "    if check_deriv:\n",
        "        xi = man.randvec(X0)\n",
        "        dlt = 1e-7\n",
        "        S1 = psd_point(X0.Y+dlt*xi.tY, X0.P + dlt*xi.tP)\n",
        "        print((cost(S1) - cost(X0))/dlt)\n",
        "        print(man.base_inner_ambient(egrad(X0), xi))\n",
        "        h1 = egrad(S1) - egrad(X0)\n",
        "        h1 = psd_ambient(h1.tY/dlt, h1.tP/dlt)\n",
        "        h2 = ehess(X0, xi)\n",
        "        print(check_zero(h1.tY - h2.tY) + check_zero(h1.tP - h2.tP))\n",
        "        return\n",
        "\n",
        "    prob = Problem(\n",
        "        man, cost=cost, egrad=egrad, ehess=ehess)\n",
        "\n",
        "    solver = TrustRegions(maxtime=100000, maxiter=maxiter, use_rand=False)\n",
        "    opt = solver.solve(prob, x=X0, Delta_bar=250)\n",
        "    return opt\n",
        "    "
      ],
      "execution_count": null,
      "outputs": []
    },
    {
      "cell_type": "markdown",
      "metadata": {
        "id": "yZ5FzkkDhupZ",
        "colab_type": "text"
      },
      "source": [
        "Then generate a $1000\\times 1000$ matrix that is close to a positive-semidefinite manifold of rank 20 manifold. Higher rank matrices take  longer time to run."
      ]
    },
    {
      "cell_type": "code",
      "metadata": {
        "id": "BHWEoq7LqKRM",
        "colab_type": "code",
        "colab": {
          "base_uri": "https://localhost:8080/",
          "height": 612
        },
        "outputId": "85dd9c14-2391-4711-d732-5793677de412"
      },
      "source": [
        "n, d = (1000, 20)\n",
        "Y0, _ = np.linalg.qr(crandn(n, d))\n",
        "P0 = np.diag(randint(1, 100, d)*.01)\n",
        "\n",
        "def ht(A):\n",
        "  return A.T.conjugate()\n",
        "\n",
        "A00 = Y0 @ P0 @ ht(Y0)\n",
        "A0 = hsym(A00)\n",
        "A1 = np.diag(crandn(n))*1e-2 + crandn(n, n)*1e-4\n",
        "# PY = Y0 @ ht(Y0)\n",
        "# A1 = PY @ A1  + A1 @ PY - PY@ A1 @ PY\n",
        "A = (hsym(A1) + A0)\n",
        "alpha = np.array([1, 1])\n",
        "print(\"alpha %s\" % str(alpha))\n",
        "beta = alpha[1] * .01\n",
        "man = ComplexPositiveSemidefinite(n, d, alpha=alpha, beta=beta)\n",
        "XInit = man.rand()\n",
        "opt_pre = find_shortest_distance(man, A, X0=XInit, maxiter=30, check_deriv=False)\n",
        "\n"
      ],
      "execution_count": null,
      "outputs": [
        {
          "output_type": "stream",
          "text": [
            "alpha [1 1]\n",
            "Optimizing...\n",
            "                                            f: +5.911914e+04   |grad|: 4.857340e+05\n",
            "acc       k:     1     num_inner:     2     f: +2.453313e+04   |grad|: 1.914658e+05   reached target residual-kappa (linear)\n",
            "acc       k:     2     num_inner:     3     f: +9.909040e+03   |grad|: 7.506537e+04   reached target residual-kappa (linear)\n",
            "acc       k:     3     num_inner:     3     f: +3.998150e+03   |grad|: 2.944377e+04   reached target residual-kappa (linear)\n",
            "acc       k:     4     num_inner:     3     f: +1.607657e+03   |grad|: 1.154579e+04   reached target residual-kappa (linear)\n",
            "acc       k:     5     num_inner:     2     f: +6.550136e+02   |grad|: 4.542770e+03   reached target residual-kappa (linear)\n",
            "acc       k:     6     num_inner:     3     f: +2.646301e+02   |grad|: 1.776748e+03   reached target residual-kappa (linear)\n",
            "acc       k:     7     num_inner:     3     f: +1.096061e+02   |grad|: 6.946443e+02   reached target residual-kappa (linear)\n",
            "acc       k:     8     num_inner:     3     f: +4.824813e+01   |grad|: 2.714191e+02   reached target residual-kappa (linear)\n",
            "acc       k:     9     num_inner:     2     f: +2.426956e+01   |grad|: 1.068577e+02   reached target residual-kappa (linear)\n",
            "acc       k:    10     num_inner:     3     f: +1.468078e+01   |grad|: 4.169883e+01   reached target residual-kappa (linear)\n",
            "acc       k:    11     num_inner:     3     f: +1.092920e+01   |grad|: 1.625160e+01   reached target residual-kappa (linear)\n",
            "acc       k:    12     num_inner:     3     f: +9.466105e+00   |grad|: 6.319243e+00   reached target residual-kappa (linear)\n",
            "acc       k:    13     num_inner:     3     f: +8.895419e+00   |grad|: 2.444330e+00   reached target residual-kappa (linear)\n",
            "REJ TR-   k:    14     num_inner:     4     f: +8.895419e+00   |grad|: 2.444330e+00   negative curvature\n",
            "REJ TR-   k:    15     num_inner:     4     f: +8.895419e+00   |grad|: 2.444330e+00   negative curvature\n",
            "acc TR+   k:    16     num_inner:     4     f: +7.722522e+00   |grad|: 3.420538e+00   negative curvature\n",
            "REJ TR-   k:    17     num_inner:     1     f: +7.722522e+00   |grad|: 3.420538e+00   negative curvature\n",
            "REJ TR-   k:    18     num_inner:     1     f: +7.722522e+00   |grad|: 3.420538e+00   negative curvature\n",
            "acc       k:    19     num_inner:     0     f: +7.406685e+00   |grad|: 1.026653e+01   exceeded trust region\n",
            "acc TR+   k:    20     num_inner:     2     f: +6.754368e+00   |grad|: 4.009204e+00   exceeded trust region\n",
            "acc       k:    21     num_inner:     2     f: +6.386734e+00   |grad|: 2.141192e+01   exceeded trust region\n",
            "REJ TR-   k:    22     num_inner:     4     f: +6.386734e+00   |grad|: 2.141192e+01   exceeded trust region\n",
            "acc TR+   k:    23     num_inner:     2     f: +5.784250e+00   |grad|: 8.058246e+00   exceeded trust region\n",
            "acc       k:    24     num_inner:     3     f: +5.538122e+00   |grad|: 1.326433e+01   exceeded trust region\n",
            "REJ TR-   k:    25     num_inner:     3     f: +5.538122e+00   |grad|: 1.326433e+01   exceeded trust region\n",
            "acc TR+   k:    26     num_inner:     2     f: +5.214634e+00   |grad|: 4.280359e+00   exceeded trust region\n",
            "acc TR+   k:    27     num_inner:     1     f: +5.057446e+00   |grad|: 5.607035e+00   exceeded trust region\n",
            "acc TR-   k:    28     num_inner:     3     f: +4.999655e+00   |grad|: 1.626402e+01   exceeded trust region\n",
            "acc TR+   k:    29     num_inner:     2     f: +4.623484e+00   |grad|: 5.204294e+00   exceeded trust region\n",
            "acc TR+   k:    30     num_inner:     2     f: +4.429652e+00   |grad|: 3.641036e+00   exceeded trust region\n",
            "Terminated - max iterations reached after 21.98 seconds.\n",
            "\n"
          ],
          "name": "stdout"
        }
      ]
    },
    {
      "cell_type": "markdown",
      "metadata": {
        "id": "bSkRzEptoj6X",
        "colab_type": "text"
      },
      "source": [
        "We could see the gradient drops fast from 1e5 to single digit. We use this pre optimize version with small beta as initial value to run the next one, with beta=1, then with beta = 30 as we get close to the optimal value:"
      ]
    },
    {
      "cell_type": "code",
      "metadata": {
        "id": "X2KD5AlPnV1v",
        "colab_type": "code",
        "colab": {
          "base_uri": "https://localhost:8080/",
          "height": 952
        },
        "outputId": "6d4c3c98-84f4-40b3-e02e-bb8689e26a13"
      },
      "source": [
        "if True:\n",
        "  beta = alpha[1] * 1\n",
        "  man = ComplexPositiveSemidefinite(n, d, alpha=alpha, beta=beta)\n",
        "  opt_mid = find_shortest_distance(man, A, X0=opt_pre, maxiter=30)\n",
        "\n",
        "\n",
        "beta = alpha[1] * 30\n",
        "man = ComplexPositiveSemidefinite(n, d, alpha=alpha, beta=beta)\n",
        "opt = find_shortest_distance(man, A, X0=opt_mid, maxiter=50)\n",
        "opt_mat = opt.Y @ opt.P @ opt.Y.T.conjugate()\n"
      ],
      "execution_count": null,
      "outputs": [
        {
          "output_type": "stream",
          "text": [
            "Optimizing...\n",
            "                                            f: +4.429652e+00   |grad|: 1.414191e+00\n",
            "REJ TR-   k:     1     num_inner:     1     f: +4.429652e+00   |grad|: 1.414191e+00   exceeded trust region\n",
            "REJ TR-   k:     2     num_inner:     1     f: +4.429652e+00   |grad|: 1.414191e+00   exceeded trust region\n",
            "acc       k:     3     num_inner:     1     f: +3.618919e+00   |grad|: 1.477327e+00   exceeded trust region\n",
            "REJ TR-   k:     4     num_inner:     2     f: +3.618919e+00   |grad|: 1.477327e+00   exceeded trust region\n",
            "acc TR+   k:     5     num_inner:     0     f: +3.200166e+00   |grad|: 6.037404e-01   exceeded trust region\n",
            "acc       k:     6     num_inner:     0     f: +2.921738e+00   |grad|: 9.220310e-01   exceeded trust region\n",
            "acc TR+   k:     7     num_inner:     1     f: +2.511217e+00   |grad|: 6.158751e-01   exceeded trust region\n",
            "REJ TR-   k:     8     num_inner:     2     f: +2.511217e+00   |grad|: 6.158751e-01   exceeded trust region\n",
            "acc TR+   k:     9     num_inner:     1     f: +2.350652e+00   |grad|: 3.867607e-01   exceeded trust region\n",
            "acc       k:    10     num_inner:     1     f: +2.244645e+00   |grad|: 6.842467e-01   exceeded trust region\n",
            "acc TR+   k:    11     num_inner:     2     f: +1.992830e+00   |grad|: 5.340619e-01   negative curvature\n",
            "acc       k:    12     num_inner:     2     f: +1.712384e+00   |grad|: 1.116487e+00   negative curvature\n",
            "REJ TR-   k:    13     num_inner:     3     f: +1.712384e+00   |grad|: 1.116487e+00   exceeded trust region\n",
            "acc TR+   k:    14     num_inner:     1     f: +1.420732e+00   |grad|: 4.128290e-01   exceeded trust region\n",
            "acc       k:    15     num_inner:     2     f: +1.330996e+00   |grad|: 6.489141e-01   exceeded trust region\n",
            "acc TR+   k:    16     num_inner:     2     f: +1.116270e+00   |grad|: 4.324049e-01   exceeded trust region\n",
            "acc       k:    17     num_inner:     2     f: +9.645195e-01   |grad|: 8.912349e-01   exceeded trust region\n",
            "REJ TR-   k:    18     num_inner:     2     f: +9.645195e-01   |grad|: 8.912349e-01   exceeded trust region\n",
            "acc TR+   k:    19     num_inner:     1     f: +7.176193e-01   |grad|: 2.716791e-01   exceeded trust region\n",
            "acc       k:    20     num_inner:     1     f: +6.122057e-01   |grad|: 3.677559e-01   exceeded trust region\n",
            "acc       k:    21     num_inner:     4     f: +5.315500e-01   |grad|: 3.291230e-01   exceeded trust region\n",
            "acc TR+   k:    22     num_inner:     3     f: +4.427089e-01   |grad|: 3.943348e-01   negative curvature\n",
            "REJ TR-   k:    23     num_inner:     4     f: +4.427089e-01   |grad|: 3.943348e-01   exceeded trust region\n",
            "acc TR+   k:    24     num_inner:     2     f: +3.898845e-01   |grad|: 1.888441e-01   exceeded trust region\n",
            "acc TR+   k:    25     num_inner:     3     f: +3.340146e-01   |grad|: 2.552387e-01   exceeded trust region\n",
            "REJ TR-   k:    26     num_inner:     4     f: +3.340146e-01   |grad|: 2.552387e-01   exceeded trust region\n",
            "acc TR+   k:    27     num_inner:     3     f: +2.855392e-01   |grad|: 1.427845e-01   exceeded trust region\n",
            "REJ TR-   k:    28     num_inner:     4     f: +2.855392e-01   |grad|: 1.427845e-01   exceeded trust region\n",
            "acc TR+   k:    29     num_inner:     2     f: +2.702868e-01   |grad|: 9.426064e-02   exceeded trust region\n",
            "acc TR+   k:    30     num_inner:     2     f: +2.562354e-01   |grad|: 1.541169e-01   exceeded trust region\n",
            "Terminated - max iterations reached after 19.77 seconds.\n",
            "\n",
            "Optimizing...\n",
            "                                            f: +2.562354e-01   |grad|: 1.081466e-01\n",
            "REJ TR-   k:     1     num_inner:    12     f: +2.562354e-01   |grad|: 1.081466e-01   negative curvature\n",
            "REJ TR-   k:     2     num_inner:    12     f: +2.562354e-01   |grad|: 1.081466e-01   negative curvature\n",
            "acc       k:     3     num_inner:    10     f: +2.378546e-01   |grad|: 9.252334e-02   exceeded trust region\n",
            "acc       k:     4     num_inner:    13     f: +2.180724e-01   |grad|: 8.524031e-02   exceeded trust region\n",
            "acc TR+   k:     5     num_inner:    17     f: +1.971736e-01   |grad|: 7.689973e-02   exceeded trust region\n",
            "acc TR+   k:     6     num_inner:    20     f: +1.764720e-01   |grad|: 8.339103e-02   exceeded trust region\n",
            "REJ TR-   k:     7     num_inner:    24     f: +1.764720e-01   |grad|: 8.339103e-02   exceeded trust region\n",
            "acc TR+   k:     8     num_inner:    20     f: +1.528365e-01   |grad|: 5.652984e-02   exceeded trust region\n",
            "acc       k:     9     num_inner:    22     f: +1.428857e-01   |grad|: 8.127667e-02   exceeded trust region\n",
            "acc TR+   k:    10     num_inner:    39     f: +1.288231e-01   |grad|: 5.645089e-02   exceeded trust region\n",
            "REJ TR-   k:    11     num_inner:    50     f: +1.288231e-01   |grad|: 5.645089e-02   exceeded trust region\n",
            "acc TR+   k:    12     num_inner:    30     f: +1.208535e-01   |grad|: 2.348558e-02   exceeded trust region\n",
            "acc       k:    13     num_inner:    36     f: +1.166666e-01   |grad|: 2.187221e-02   exceeded trust region\n",
            "acc       k:    14     num_inner:    65     f: +1.113492e-01   |grad|: 2.152012e-02   exceeded trust region\n",
            "acc       k:    15     num_inner:   118     f: +1.088343e-01   |grad|: 1.291805e-03   reached target residual-theta (superlinear)\n",
            "acc       k:    16     num_inner:   479     f: +1.087991e-01   |grad|: 4.681942e-05   reached target residual-theta (superlinear)\n",
            "acc       k:    17     num_inner:   613     f: +1.087991e-01   |grad|: 1.653115e-07   reached target residual-theta (superlinear)\n",
            "Terminated - min grad norm reached after 17 iterations, 193.85 seconds.\n",
            "\n"
          ],
          "name": "stdout"
        }
      ]
    },
    {
      "cell_type": "markdown",
      "metadata": {
        "id": "k_bREJu7EKxS",
        "colab_type": "text"
      },
      "source": [
        "Check that it recovers the eigenvalues:"
      ]
    },
    {
      "cell_type": "code",
      "metadata": {
        "id": "ok_miOHFrocA",
        "colab_type": "code",
        "colab": {
          "base_uri": "https://localhost:8080/",
          "height": 221
        },
        "outputId": "d8f7c817-357b-4a7b-a19d-9d7ca1cb5e5b"
      },
      "source": [
        "from numpy.linalg import eigh\n",
        "eh_in = eigh(A0)[0]\n",
        "eh_out = eigh(opt_mat)[0]\n",
        "print(eh_in[-(d+2):])\n",
        "print(eh_out[-(d+2):])"
      ],
      "execution_count": null,
      "outputs": [
        {
          "output_type": "stream",
          "text": [
            "[9.05630876e-16 1.20861592e-15 2.00000000e-02 1.10000000e-01\n",
            " 1.10000000e-01 1.70000000e-01 2.80000000e-01 2.90000000e-01\n",
            " 3.80000000e-01 4.10000000e-01 6.40000000e-01 6.50000000e-01\n",
            " 6.60000000e-01 6.80000000e-01 7.10000000e-01 8.30000000e-01\n",
            " 8.40000000e-01 8.70000000e-01 8.90000000e-01 9.50000000e-01\n",
            " 9.50000000e-01 9.80000000e-01]\n",
            "[9.18271191e-16 1.01429560e-15 2.96691309e-02 1.10447877e-01\n",
            " 1.11422372e-01 1.70167867e-01 2.80328113e-01 2.90081577e-01\n",
            " 3.79803039e-01 4.09939150e-01 6.39754789e-01 6.49350525e-01\n",
            " 6.59626084e-01 6.79811072e-01 7.09953827e-01 8.29739310e-01\n",
            " 8.40452508e-01 8.69698308e-01 8.89565813e-01 9.49418348e-01\n",
            " 9.50031082e-01 9.80132887e-01]\n"
          ],
          "name": "stdout"
        }
      ]
    },
    {
      "cell_type": "markdown",
      "metadata": {
        "id": "gjiXd2L2FMOi",
        "colab_type": "text"
      },
      "source": [
        "Our testing strategy is provide a vectorization to test the adjoints, test the various properties of projection is satisfied, and check the covariant derivatives is compatible with metric and is torsion free."
      ]
    },
    {
      "cell_type": "code",
      "metadata": {
        "id": "7uo5PBp9gJPw",
        "colab_type": "code",
        "colab": {}
      },
      "source": [
        "from numpy import zeros, trace, allclose\n",
        "import numpy.linalg as la\n",
        "\n",
        "from ManNullRange.manifolds.ComplexPositiveSemidefinite import (\n",
        "    ComplexPositiveSemidefinite, psd_ambient, psd_point,\n",
        "    _extended_lyapunov)\n",
        "from ManNullRange.manifolds.tools import crandn, hsym\n"
      ],
      "execution_count": null,
      "outputs": []
    },
    {
      "cell_type": "code",
      "metadata": {
        "id": "KJEU_MlktAtY",
        "colab_type": "code",
        "colab": {
          "base_uri": "https://localhost:8080/",
          "height": 51
        },
        "outputId": "4ac39675-c8dd-487f-c7b4-be30042c566b"
      },
      "source": [
        "def test_vectorize():\n",
        "    from ManNullRange.manifolds.tools import cvech, cunvech, cvecah, cunvecah\n",
        "    p = 10\n",
        "    mat = crandn(p, p)\n",
        "    mat += mat.T.conjugate()\n",
        "    v = cvech(mat)\n",
        "    mat2 = cunvech(v)\n",
        "    print(check_zero(mat-mat2))\n",
        "\n",
        "    # check inner product:\n",
        "    for i in range(p*p):\n",
        "        v = zeros(p*p)\n",
        "        v[i] = 1\n",
        "        h = cunvech(v)\n",
        "        assert(np.abs(trace(h @ h.T.conjugate()).real-1) < 1e-10)\n",
        "\n",
        "    # now do skew\n",
        "    mat = crandn(p, p)\n",
        "    mat -= mat.T.conjugate()\n",
        "    v = cvecah(mat)\n",
        "    mat2 = cunvecah(v)\n",
        "    print(check_zero(mat-mat2))\n",
        "    \n",
        "    for i in range(p*p):\n",
        "        v = zeros(p*p)\n",
        "        v[i] = 1\n",
        "        h = cunvecah(v)\n",
        "        assert(np.abs(trace(h @ h.T.conjugate()).real-1) < 1e-10)\n",
        "        \n",
        "for i in range(1):\n",
        "  test_vectorize()"
      ],
      "execution_count": null,
      "outputs": [
        {
          "output_type": "stream",
          "text": [
            "3.847683754886464e-15\n",
            "3.3861802251067274e-15\n"
          ],
          "name": "stdout"
        }
      ]
    },
    {
      "cell_type": "markdown",
      "metadata": {
        "id": "uDZnTAc-1iwj",
        "colab_type": "text"
      },
      "source": [
        "Note that vectorization above is just a convenient function for testing. We tested that vec and unvec are inverse functions, and an orthogonal basis on the vectorized correspond to an orthogonal basis under the Frobenius inner product. In the next block we check the inner product, and check the implementation of $J$"
      ]
    },
    {
      "cell_type": "code",
      "metadata": {
        "id": "En6ayM5xcVwV",
        "colab_type": "code",
        "colab": {
          "base_uri": "https://localhost:8080/",
          "height": 51
        },
        "outputId": "90477659-d7e6-411f-a47d-65a6d007e23b"
      },
      "source": [
        "def test_inner(man, S):\n",
        "    for i in range(10):\n",
        "        alpha = man.alpha\n",
        "        bt = man.beta\n",
        "        eta1 = man._rand_ambient()\n",
        "        eta2 = man._rand_ambient()\n",
        "        Y = S.Y\n",
        "        Pinv = S.Pinv\n",
        "        inn1 = alpha[0]*trace(eta1.tY.T.conjugate() @ eta2.tY) +\\\n",
        "            (alpha[1]-alpha[0])*trace((eta1.tY.T.conjugate()@Y) @\n",
        "                                      (Y.T.conjugate() @ eta2.tY)) +\\\n",
        "            bt*trace(Pinv@eta1.tP@Pinv@eta2.tP.T.conjugate())\n",
        "        assert(allclose(man.inner(S, eta1, eta2), inn1.real))\n",
        "        \n",
        "        eta2a = man.g_inv(S, eta2)\n",
        "        v1 = man.inner(S, eta1, eta2a)\n",
        "        v2 = trace(eta1.tY @ eta2.tY.T.conjugate()) +\\\n",
        "            trace(eta1.tP@eta2.tP.T.conjugate())\n",
        "        assert(allclose(v1, v2.real))\n",
        "    print(True)\n",
        "\n",
        "\n",
        "def test_J(man, S):\n",
        "    al = man.alpha\n",
        "    bt = man.beta\n",
        "    \n",
        "    def diff_i(ii):\n",
        "        U = zeros(man.tdim_St+man.tdim_P)\n",
        "        U[ii] = 1\n",
        "        E = man._unvec(U)\n",
        "        jE = man.J(S, E)\n",
        "        jE1 = {'P': E.tP - E.tP.T.conjugate(),\n",
        "               'YP': al[1]*S.Y.T.conjugate()@E.tY +\n",
        "               bt*(E.tP@S.Pinv-S.Pinv@E.tP)}\n",
        "        return np.mean(np.abs(man._vec_range_J(jE)-man._vec_range_J(jE1)))\n",
        "\n",
        "    diffs = zeros(man.tdim_St + man.tdim_P)\n",
        "    for ii in range(diffs.shape[0]):\n",
        "        diffs[ii] = diff_i(ii)\n",
        "    try:\n",
        "        assert(allclose(diffs, 0))\n",
        "        print(True)\n",
        "    except Exception:\n",
        "        print(False)\n",
        "\n",
        "alpha = randint(1, 10, 2) * .1\n",
        "beta = randint(1, 10, 1)[0] * .02\n",
        "n = 5\n",
        "d = 3\n",
        "man = ComplexPositiveSemidefinite(n, d, alpha=alpha, beta=beta)\n",
        "S = man.rand()\n",
        "\n",
        "test_inner(man, S)\n",
        "test_J(man, S)\n",
        "\n"
      ],
      "execution_count": null,
      "outputs": [
        {
          "output_type": "stream",
          "text": [
            "True\n",
            "True\n"
          ],
          "name": "stdout"
        }
      ]
    },
    {
      "cell_type": "markdown",
      "metadata": {
        "id": "MgM5mFPQ2qYq",
        "colab_type": "text"
      },
      "source": [
        "We then check the adjoint $Jst$, by vectorizing, representing $J$ as a matrix and take adjoint, then compare with the implementation"
      ]
    },
    {
      "cell_type": "code",
      "metadata": {
        "id": "jveq_CDJ2zIE",
        "colab_type": "code",
        "colab": {
          "base_uri": "https://localhost:8080/",
          "height": 204
        },
        "outputId": "8d445e40-3309-4a04-fbef-694d739faa02"
      },
      "source": [
        "\n",
        "def make_j_mat(man, S):\n",
        "    # philopsophy is if there is a direct sum then cvec a component at a time\n",
        "    # so vec\n",
        "\n",
        "    codim = man.codim\n",
        "    ret = zeros((codim, man.tdim_P + man.tdim_St))\n",
        "    for ii in range(ret.shape[1]):\n",
        "        ee = np.zeros(ret.shape[1])\n",
        "        ee[ii] = 1            \n",
        "        ret[:, ii] = man._vec_range_J(\n",
        "            man.J(S, man._unvec(ee)))\n",
        "    return ret\n",
        "        \n",
        "\n",
        "def make_g_inv_mat(man, S):\n",
        "    nn = man.tdim_P + man.tdim_St\n",
        "    ret = zeros((nn, nn))\n",
        "    for ii in range(ret.shape[1]):\n",
        "        ee = np.zeros(ret.shape[1])\n",
        "        ee[ii] = 1            \n",
        "        eeS = man._unvec(ee)\n",
        "        ret[:, ii] = man._vec(\n",
        "            man.g_inv(S, eeS))\n",
        "    return ret\n",
        "\n",
        "def test_Jst(man, S, jmat):\n",
        "    print(\"test JST\")\n",
        "    for ii in range(10):\n",
        "        a = man._rand_range_J()\n",
        "        avec = man._vec_range_J(a)\n",
        "        jtout = jmat.T @ avec\n",
        "        jtout2 = man._vec(man.Jst(S, a))\n",
        "        # print(np.where(np.abs(jtout - jtout2) > 1e-9))\n",
        "        diff = check_zero(jtout-jtout2)\n",
        "        print(diff)\n",
        "\n",
        "jmat = make_j_mat(man, S)\n",
        "test_Jst(man, S, jmat)    "
      ],
      "execution_count": null,
      "outputs": [
        {
          "output_type": "stream",
          "text": [
            "test JST\n",
            "7.457793063658791e-15\n",
            "4.036647318489406e-15\n",
            "6.789707684973223e-15\n",
            "4.735578248982186e-15\n",
            "2.9498972708985605e-15\n",
            "5.431771568989441e-15\n",
            "1.4996684449819497e-15\n",
            "5.060188379424346e-15\n",
            "5.826068794068107e-15\n",
            "6.645725636467148e-15\n"
          ],
          "name": "stdout"
        }
      ]
    },
    {
      "cell_type": "markdown",
      "metadata": {
        "id": "A95lyYVi3QpE",
        "colab_type": "text"
      },
      "source": [
        "We then test the extended Lyapunov equation:"
      ]
    },
    {
      "cell_type": "code",
      "metadata": {
        "id": "QDneSINT3VNa",
        "colab_type": "code",
        "colab": {
          "base_uri": "https://localhost:8080/",
          "height": 187
        },
        "outputId": "504dd7ca-2386-4e0c-f256-bfec47bb5029"
      },
      "source": [
        "def test_lyapunov():\n",
        "    alpha = randint(1, 10, 2) * .1\n",
        "    beta = randint(1, 10, 1)[0] * .02\n",
        "    n = 5\n",
        "    d = 3\n",
        "    man = ComplexPositiveSemidefinite(n, d, alpha=alpha, beta=beta)\n",
        "    S = man.rand()\n",
        "\n",
        "    P = S.P\n",
        "    B = crandn(d, d)\n",
        "    alpha1 = alpha[1]\n",
        "    \n",
        "    def L(X, P):\n",
        "        Piv = la.inv(P)\n",
        "        return (alpha1 - 2*beta)*X + beta*(P@X@Piv + Piv@X@P)\n",
        "    X = _extended_lyapunov(alpha1, beta, P, B)\n",
        "    # L(X, P)\n",
        "    print(check_zero(B-L(X, P)))\n",
        "\n",
        "for i in range(10):\n",
        "  test_lyapunov()"
      ],
      "execution_count": null,
      "outputs": [
        {
          "output_type": "stream",
          "text": [
            "3.682500364275874e-14\n",
            "1.9190342331594267e-14\n",
            "1.8300535687732768e-14\n",
            "6.832378229334822e-14\n",
            "7.359705291698989e-14\n",
            "3.275736779975626e-14\n",
            "1.966028327596808e-13\n",
            "7.665347504272033e-14\n",
            "1.0623350664183408e-14\n",
            "8.344118579097565e-14\n"
          ],
          "name": "stdout"
        }
      ]
    },
    {
      "cell_type": "markdown",
      "metadata": {
        "id": "vT2FEOgH3vie",
        "colab_type": "text"
      },
      "source": [
        "Test implementation of $g^{-1}J^H$. We represent the metric as an operator, take its inverse, then compute $g^{-1}J^H$ in two different ways and compare"
      ]
    },
    {
      "cell_type": "code",
      "metadata": {
        "id": "Jy6TOoxA31GH",
        "colab_type": "code",
        "colab": {
          "base_uri": "https://localhost:8080/",
          "height": 221
        },
        "outputId": "c48faffd-90fb-4f49-ec38-feabb3d5f2be"
      },
      "source": [
        "  ginv_mat = make_g_inv_mat(man, S)\n",
        "  ee = man._rand_ambient()\n",
        "  g1 = man._unvec(ginv_mat @ man._vec(ee))\n",
        "  print(check_zero(man.g_inv(S, ee).tP-g1.tP))\n",
        "  print(check_zero(man.g_inv(S, ee).tY-g1.tY))\n",
        "  # test g_inv_Jst\n",
        "  for ii in range(10):\n",
        "      a = man._rand_range_J()\n",
        "      avec = man._vec_range_J(a)\n",
        "      jtout = ginv_mat @ jmat.T @ avec\n",
        "      jtout2 = man._vec(man.g_inv_Jst(S, a))\n",
        "      diff = check_zero(jtout-jtout2)\n",
        "      print(diff)\n"
      ],
      "execution_count": null,
      "outputs": [
        {
          "output_type": "stream",
          "text": [
            "5.603589755410392e-13\n",
            "2.1449654801299928e-14\n",
            "2.228314754937344e-12\n",
            "1.7441811883678326e-12\n",
            "2.4999863290631197e-12\n",
            "5.127204216748282e-12\n",
            "3.306938056724107e-12\n",
            "9.74508668205587e-13\n",
            "9.23497389671013e-13\n",
            "1.3669759768575318e-12\n",
            "2.2516988273935112e-12\n",
            "3.511184398785616e-12\n"
          ],
          "name": "stdout"
        }
      ]
    },
    {
      "cell_type": "markdown",
      "metadata": {
        "id": "H56RHl1_4PT5",
        "colab_type": "text"
      },
      "source": [
        "Test projection in two ways, using the $J$ operator approach and the $N$ operator as in the paper. \n",
        "We check: \n",
        "* projection is horizonal, \n",
        "* the stiefel part of projection satisfies the condition for tangent vector on Stiefel and the PD part is symmetric.\n",
        "* $\\langle\\omega, \\eta\\rangle = \\langle \\Pi\\omega, \\eta\\rangle$ if $\\eta$ is in the tangent space and $\\omega$ in ambient space.\n",
        "* The \"N\" method is same as the \"J\" method:"
      ]
    },
    {
      "cell_type": "code",
      "metadata": {
        "id": "EEJghEud4WCb",
        "colab_type": "code",
        "colab": {
          "base_uri": "https://localhost:8080/",
          "height": 340
        },
        "outputId": "eaeacf58-20bd-419e-a9fd-7cfd88624e0c"
      },
      "source": [
        "\n",
        "    \n",
        "def test_projection(man, S):\n",
        "    print(\"test projection\")\n",
        "    N = 10\n",
        "    ret = np.zeros(N)\n",
        "\n",
        "    for i in range(N):\n",
        "        U = man._rand_ambient()\n",
        "        Upr = man.proj(S, U)\n",
        "        ret[i] = check_zero(man._vec_range_J(man.J(S, Upr)))\n",
        "    print(ret)\n",
        "    \n",
        "    if check_zero(ret) > 1e-8:\n",
        "        print(\"not all works\")\n",
        "    else:\n",
        "        print(\"All good\")\n",
        "    print(\"test randvec\")\n",
        "    ret_pr = np.zeros(N)\n",
        "    for i in range(N):\n",
        "        XX = man.rand()\n",
        "        H = man.randvec(XX)\n",
        "        U = man._rand_ambient()\n",
        "        Upr = man.proj(XX, U)\n",
        "        ret_pr[i] = man.inner(XX, U, H) - man.inner(XX, Upr, H)\n",
        "        ret[i] = (check_zero(XX.Y.T.conjugate() @ H.tY +\n",
        "                             H.tY.T.conjugate() @ XX.Y))\n",
        "    print(ret)\n",
        "    if check_zero(ret) > 1e-9:\n",
        "        print(\"not all works\")\n",
        "    else:\n",
        "        print(\"All good\")\n",
        "    print(\"check inner of projection = inner of original\")\n",
        "    print(ret_pr)\n",
        "    if check_zero(ret_pr) > 1e-8:\n",
        "        print(\"not all works\")\n",
        "    else:\n",
        "        print(\"All good\")\n",
        "\n",
        "\n",
        "\n",
        "def test_N_proj():\n",
        "    alpha = randint(1, 10, 2) * .1\n",
        "    beta = randint(1, 10, 1)[0] * .02\n",
        "    n = 10\n",
        "    d = 6\n",
        "    man = ComplexPositiveSemidefinite(n, d, alpha=alpha, beta=beta)\n",
        "    S = man.rand()\n",
        "    \"\"\"\n",
        "    def proj_range_alt(man, S, U):\n",
        "        # projection. U is in ambient\n",
        "        # return one in tangent\n",
        "        al1 = man.alpha[1]\n",
        "        beta = man.beta\n",
        "        YTU = S.Y.T@U.tY\n",
        "        D0 = sym(U.tP + YTU@S.P - S.P@YTU)\n",
        "        D = _extended_lyapunov(al1, beta, S.P, D0, S.evl, S.evec)\n",
        "        return psd_ambient(\n",
        "            beta*S.Y@(S.Pinv@D-D@S.Pinv) + U.tY - S.Y@(S.Y.T@U.tY), al1*D)\n",
        "    \"\"\"\n",
        "    U = man.randvec(S)\n",
        "    Upr1 = super(ComplexPositiveSemidefinite, man).proj(S, U)\n",
        "    Upr2 = man.proj(S, U)\n",
        "    Upr3 = man.proj_range_alt(S, U)\n",
        "    print(check_zero(Upr1.tP-Upr2.tP))\n",
        "    print(check_zero(Upr1.tY-Upr2.tY))\n",
        "    print(check_zero(Upr1.tY-Upr3.tY))\n",
        "    print(check_zero(Upr1.tP-Upr3.tP))\n",
        "test_projection(man, S)\n",
        "test_N_proj()"
      ],
      "execution_count": null,
      "outputs": [
        {
          "output_type": "stream",
          "text": [
            "test projection\n",
            "[3.05924529e-15 2.80073497e-15 3.39685138e-15 4.84392572e-15\n",
            " 3.16185193e-15 2.40218054e-15 1.92437754e-15 2.15116070e-15\n",
            " 3.07670016e-15 2.49718855e-15]\n",
            "All good\n",
            "test randvec\n",
            "[1.66355461e-15 2.53799450e-15 1.48891384e-15 6.22177834e-15\n",
            " 1.70888232e-14 2.13722949e-15 1.46330850e-15 1.48130204e-15\n",
            " 1.80116609e-15 4.61331103e-15]\n",
            "All good\n",
            "check inner of projection = inner of original\n",
            "[ 2.22044605e-16 -4.32986980e-15 -1.11022302e-16  2.62012634e-14\n",
            "  3.90798505e-14 -2.77555756e-16 -1.94289029e-16 -4.44089210e-15\n",
            "  8.88178420e-16  6.66133815e-16]\n",
            "All good\n",
            "3.629857263183131e-14\n",
            "2.2842595181482582e-14\n",
            "7.044474617074443e-14\n",
            "6.634100473313348e-13\n"
          ],
          "name": "stdout"
        }
      ]
    },
    {
      "cell_type": "markdown",
      "metadata": {
        "id": "v6M8L6y_7epc",
        "colab_type": "text"
      },
      "source": [
        "Test the various expression related to inverting $Jg^{-1}J^H$:"
      ]
    },
    {
      "cell_type": "code",
      "metadata": {
        "id": "xP91w7Ow7k_z",
        "colab_type": "code",
        "colab": {
          "base_uri": "https://localhost:8080/",
          "height": 1000
        },
        "outputId": "3d2bb849-ff42-43b3-ced1-975ae5e08a1d"
      },
      "source": [
        "    for i in range(10):\n",
        "        a = man._rand_range_J()\n",
        "        eta = man._rand_ambient()\n",
        "        print(man.base_inner_ambient(eta, man.Jst(S, a)))\n",
        "        print((trace((eta.tP.T.conjugate() - eta.tP) @ a['P'] + (\n",
        "            man.alpha[1]*eta.tY.T.conjugate() @ S.Y + man.beta*(\n",
        "                S.Pinv @ eta.tP.T.conjugate() -\n",
        "                eta.tP.T.conjugate() @ S.Pinv)) @ a['YP'])).real)\n",
        "\n",
        "        print((trace(2 * eta.tP.T.conjugate() @ a['P']) + trace((\n",
        "            man.alpha[1]*eta.tY.T.conjugate() @ S.Y + man.beta*(\n",
        "                S.Pinv @ eta.tP.T.conjugate() -\n",
        "                eta.tP.T.conjugate() @ S.Pinv)) @ a['YP'])).real)\n",
        "\n",
        "        print((trace(eta.tP.T.conjugate() @ (\n",
        "            2*a['P'] + man.beta*(a['YP'] @ S.Pinv - S.Pinv @ a['YP'])))\n",
        "              + trace(eta.tY.T.conjugate() @\n",
        "                      (man.alpha[1] * S.Y @ a['YP']))).real)\n",
        "\n",
        "        print(man.base_inner_E_J(man.J(S, eta), a))\n",
        "        print((trace((eta.tP - eta.tP.T.conjugate()).T.conjugate() @ a['P'] + (\n",
        "            man.alpha[1]*S.Y.T.conjugate() @ eta.tY + man.beta*(\n",
        "                eta.tP @ S.Pinv - S.Pinv @ eta.tP)).T.conjugate() @\n",
        "                a['YP'])).real)\n",
        "\n",
        "    for i in range(10):\n",
        "        a = man._rand_range_J()\n",
        "        beta = man.beta\n",
        "        alf = man.alpha\n",
        "        anew1 = man.J(S, man.g_inv_Jst(S, a))\n",
        "        \n",
        "        anew = {}\n",
        "        saYP = a['YP'] + a['YP'].T.conjugate()\n",
        "        anew['P'] = 4/beta * S.P @ a['P'] @ S.P + S.P @ saYP - saYP @ S.P\n",
        "        anew['YP'] = alf[1]*a['YP'] + beta*(\n",
        "            ((2/man.beta)*S.P@a['P']@S.P + S.P @ a['YP'] - a['YP'] @ S.P) @\n",
        "            S.Pinv - S.Pinv @ ((2/man.beta)*S.P@a['P']@S.P + S.P @ a['YP'] -\n",
        "                               a['YP'] @ S.P))\n",
        "        \n",
        "        anew['YP'] = alf[1]*a['YP'] + (\n",
        "            (2*S.P@a['P'] + beta*S.P @ a['YP'] @ S.Pinv - beta*a['YP'])\n",
        "            - (2*a['P']@S.P + beta*a['YP'] - beta*S.Pinv@a['YP'] @ S.P))\n",
        "\n",
        "        anew['YP'] = (alf[1]-2*beta)*a['YP'] + (\n",
        "            (2*S.P@a['P'] + beta*S.P @ a['YP'] @ S.Pinv)\n",
        "            - (2*a['P']@S.P - beta*S.Pinv@a['YP'] @ S.P))\n",
        "\n",
        "        anew['YP'] = (alf[1]-2*beta)*a['YP'] + (\n",
        "            (2*S.P@a['P'] - 2*a['P']@S.P + beta*S.P @ a['YP'] @ S.Pinv +\n",
        "             beta*S.Pinv@a['YP'] @ S.P))\n",
        "        print(check_zero(man._vec_range_J(anew1)-man._vec_range_J(anew)))\n",
        "\n",
        "    for i in range(10):\n",
        "        a = man._rand_range_J()\n",
        "        b1 = man.J(S, man.g_inv_Jst(S, a))\n",
        "        b2 = man.J_g_inv_Jst(S, a)\n",
        "        print(\n",
        "            check_zero(man._vec_range_J(b1)-man._vec_range_J(b2)))\n",
        "        a1 = man.solve_J_g_inv_Jst(S, b1)\n",
        "        print(check_zero(\n",
        "            man._vec_range_J(a)-man._vec_range_J(a1)))\n",
        "                \n",
        "    for ii in range(10):\n",
        "        E = man._rand_ambient()\n",
        "        a2 = man.J_g_inv(S, E)\n",
        "        a1 = man.J(S, man.g_inv(S, E))\n",
        "        print(check_zero(man._vec_range_J(a1)-man._vec_range_J(a2)))\n",
        "    \n",
        "    for i in range(20):\n",
        "        Uran = man._rand_ambient()\n",
        "        Upr = man.proj(S, man.g_inv(S, Uran))\n",
        "        Upr2 = man.proj_g_inv(S, Uran)\n",
        "        print(check_zero(man._vec(Upr)-man._vec(Upr2)))\n",
        "\n"
      ],
      "execution_count": null,
      "outputs": [
        {
          "output_type": "stream",
          "text": [
            "-11.66140617677216\n",
            "-11.66140617677216\n",
            "-11.661406176772159\n",
            "-11.66140617677216\n",
            "-11.66140617677216\n",
            "-11.66140617677216\n",
            "-1.3018580431761992\n",
            "-1.3018580431761975\n",
            "-1.3018580431761984\n",
            "-1.3018580431761992\n",
            "-1.3018580431761977\n",
            "-1.3018580431761975\n",
            "-11.271432583674661\n",
            "-11.271432583674663\n",
            "-11.271432583674665\n",
            "-11.271432583674661\n",
            "-11.271432583674663\n",
            "-11.271432583674663\n",
            "-12.752588607599412\n",
            "-12.75258860759941\n",
            "-12.75258860759941\n",
            "-12.752588607599412\n",
            "-12.75258860759941\n",
            "-12.75258860759941\n",
            "6.8141119278202025\n",
            "6.8141119278202025\n",
            "6.8141119278202025\n",
            "6.8141119278202025\n",
            "6.814111927820202\n",
            "6.814111927820202\n",
            "-26.793094423471892\n",
            "-26.793094423471892\n",
            "-26.793094423471892\n",
            "-26.793094423471892\n",
            "-26.793094423471892\n",
            "-26.793094423471892\n",
            "-6.149237789564582\n",
            "-6.149237789564582\n",
            "-6.149237789564581\n",
            "-6.149237789564582\n",
            "-6.149237789564582\n",
            "-6.149237789564582\n",
            "-1.8323554638243889\n",
            "-1.8323554638243882\n",
            "-1.832355463824389\n",
            "-1.8323554638243889\n",
            "-1.832355463824388\n",
            "-1.8323554638243882\n",
            "-7.162488784017246\n",
            "-7.162488784017248\n",
            "-7.162488784017246\n",
            "-7.162488784017246\n",
            "-7.162488784017247\n",
            "-7.162488784017248\n",
            "-13.538882820292699\n",
            "-13.5388828202927\n",
            "-13.538882820292702\n",
            "-13.538882820292699\n",
            "-13.5388828202927\n",
            "-13.5388828202927\n",
            "2.555299721818116e-12\n",
            "1.9655206281998794e-12\n",
            "4.324075819628348e-12\n",
            "1.1008555178548818e-12\n",
            "1.858596609949359e-12\n",
            "1.82290293970766e-12\n",
            "2.20420903751517e-12\n",
            "2.0975859937877317e-12\n",
            "2.3149399064337217e-12\n",
            "1.5937945407884513e-12\n",
            "4.169015827004685e-12\n",
            "9.108165610616226e-13\n",
            "1.412883698925782e-12\n",
            "4.129752095849426e-13\n",
            "2.6204802217044687e-12\n",
            "6.812606034856117e-13\n",
            "8.948605745295879e-13\n",
            "6.705261346162672e-13\n",
            "1.1307066394294907e-12\n",
            "3.74950070991531e-13\n",
            "1.079525357994271e-12\n",
            "3.6419131599352284e-13\n",
            "2.753134525912415e-12\n",
            "4.634279071602521e-13\n",
            "2.2642582253595833e-12\n",
            "2.930641840315218e-13\n",
            "1.0557249519038692e-12\n",
            "3.483602295517585e-13\n",
            "3.2109384595635504e-12\n",
            "4.808670822642469e-13\n",
            "7.223666109723581e-13\n",
            "7.963629755636248e-13\n",
            "4.950206911047417e-13\n",
            "2.5144331061710545e-12\n",
            "6.217526493657033e-13\n",
            "6.694644838489694e-13\n",
            "5.814237979961945e-13\n",
            "1.0050849041931542e-12\n",
            "5.017097848281082e-13\n",
            "1.2126966097980585e-12\n",
            "0.0\n",
            "0.0\n",
            "0.0\n",
            "0.0\n",
            "0.0\n",
            "0.0\n",
            "0.0\n",
            "0.0\n",
            "0.0\n",
            "0.0\n",
            "0.0\n",
            "0.0\n",
            "0.0\n",
            "0.0\n",
            "0.0\n",
            "0.0\n",
            "0.0\n",
            "0.0\n",
            "0.0\n",
            "0.0\n"
          ],
          "name": "stdout"
        }
      ]
    },
    {
      "cell_type": "markdown",
      "metadata": {
        "id": "ddUDF7VI6Yun",
        "colab_type": "text"
      },
      "source": [
        "Check numerical derivatives of $J$, $Jst$, and metric $g$:"
      ]
    },
    {
      "cell_type": "code",
      "metadata": {
        "id": "4bhBGn6s60jW",
        "colab_type": "code",
        "colab": {
          "base_uri": "https://localhost:8080/",
          "height": 527
        },
        "outputId": "4c981f2b-76c8-4d55-d05b-ead452ffde05"
      },
      "source": [
        "    for ii in range(10):\n",
        "        a = man._rand_range_J()\n",
        "        xi = man.randvec(S)\n",
        "        jtout2 = man.Jst(S, a)\n",
        "        dlt = 1e-7\n",
        "        Snew = psd_point(S.Y + dlt*xi.tY, S.P+dlt*xi.tP)\n",
        "        jtout2a = man.Jst(Snew, a)\n",
        "        d1 = (jtout2a - jtout2).scalar_mul(1/dlt)\n",
        "        d2 = man.D_Jst(S, xi, a)\n",
        "        print(check_zero(man._vec(d2)-man._vec(d1)))\n",
        "\n",
        "    for ii in range(10):\n",
        "        S1 = man.rand()\n",
        "        eta = man._rand_ambient()\n",
        "        xi = man.randvec(S1)\n",
        "        a1 = man.J(S1, eta)\n",
        "        dlt = 1e-8\n",
        "        Snew = psd_point(S1.Y + dlt*xi.tY, S1.P+dlt*xi.tP)\n",
        "        a2 = man.J(Snew, eta)\n",
        "        d1 = {'P': (a2['P']-a1['P'])/dlt,\n",
        "              'YP': (a2['YP']-a1['YP'])/dlt}\n",
        "        d2 = man.D_J(S1, xi, eta)\n",
        "        print(check_zero(man._vec_range_J(d2) - man._vec_range_J(d1)))\n",
        "                \n",
        "    # derives metrics\n",
        "    for ii in range(10):\n",
        "        S1 = man.rand()\n",
        "        xi = man.randvec(S1)\n",
        "        omg1 = man._rand_ambient()\n",
        "        omg2 = man._rand_ambient()\n",
        "        dlt = 1e-7\n",
        "        S2 = psd_point(S1.Y + dlt*xi.tY, S1.P+dlt*xi.tP)\n",
        "        p1 = man.inner(S1, omg1, omg2)\n",
        "        p2 = man.inner(S2, omg1, omg2)\n",
        "        der1 = (p2-p1)/dlt\n",
        "        der2 = man.base_inner_ambient(\n",
        "            man.D_g(S1, xi, omg2), omg1)\n",
        "        print(der1-der2)\n",
        "        if np.abs(der1 - der2) > 1e-4:\n",
        "            print(der1, der2)\n",
        "            break\n",
        "\n"
      ],
      "execution_count": null,
      "outputs": [
        {
          "output_type": "stream",
          "text": [
            "3.1291329490425526e-08\n",
            "3.4692382234872456e-08\n",
            "1.5969672513636152e-08\n",
            "1.800077404549936e-08\n",
            "2.4520278048398205e-08\n",
            "2.9114063135736337e-08\n",
            "2.5655466208342626e-08\n",
            "1.8422173355802512e-08\n",
            "2.2554236325366545e-08\n",
            "2.6909312436629827e-08\n",
            "5.698037285756241e-08\n",
            "2.5481738464422365e-07\n",
            "9.787855605167262e-06\n",
            "8.171046385549441e-07\n",
            "2.819982456228609e-06\n",
            "7.316881791077923e-08\n",
            "2.3724547362422022e-07\n",
            "1.296860228425234e-05\n",
            "1.0280855380741596e-06\n",
            "3.8609636456299334e-06\n",
            "5.438501611276791e-07\n",
            "9.577610260436131e-06\n",
            "8.512351357126136e-08\n",
            "-1.6034151895105708e-08\n",
            "7.150200422856301e-07\n",
            "1.8668099315277686e-06\n",
            "-4.113224374435731e-07\n",
            "9.934945710554643e-08\n",
            "7.023731085631368e-08\n",
            "2.5302285522332824e-07\n"
          ],
          "name": "stdout"
        }
      ]
    },
    {
      "cell_type": "markdown",
      "metadata": {
        "id": "9I40hnB84kam",
        "colab_type": "text"
      },
      "source": [
        "Derivatives of projection D_proj. Check it against numerical derivatives:"
      ]
    },
    {
      "cell_type": "code",
      "metadata": {
        "id": "b5OOLHlq7HCN",
        "colab_type": "code",
        "colab": {
          "base_uri": "https://localhost:8080/",
          "height": 34
        },
        "outputId": "f92d602d-653f-4a31-ca03-fed34cf76815"
      },
      "source": [
        "    for i in range(1):\n",
        "        e = man._rand_ambient()\n",
        "        S1 = man.rand()\n",
        "        xi = man.randvec(S1)\n",
        "        dlt = 1e-7\n",
        "        S2 = psd_point(S1.Y + dlt*xi.tY, S1.P+dlt*xi.tP)\n",
        "\n",
        "        # S = psd_point(S1.Y, S1.P)\n",
        "        d1P = (man.proj(S2, e).tP - man.proj(S1, e).tP)/dlt\n",
        "        d1Y = (man.proj(S2, e).tY - man.proj(S1, e).tY)/dlt\n",
        "        d2 = man.D_proj(S1, xi, e)\n",
        "        print(check_zero(d1P-d2.tP) + check_zero(d1Y-d2.tY))\n",
        "    \n"
      ],
      "execution_count": null,
      "outputs": [
        {
          "output_type": "stream",
          "text": [
            "1.1223003704220703e-06\n"
          ],
          "name": "stdout"
        }
      ]
    },
    {
      "cell_type": "markdown",
      "metadata": {
        "id": "YQkiiR4k7-47",
        "colab_type": "text"
      },
      "source": [
        "Check the crossterm satisfies $<x12, xi>$ is same as $<D_g(xi, eta1), eta2>$\n",
        "Check Christoffel term $K$ is symmetric and double check the formula:\n",
        "\n"
      ]
    },
    {
      "cell_type": "code",
      "metadata": {
        "id": "37B0F2Aq8Ggv",
        "colab_type": "code",
        "colab": {
          "base_uri": "https://localhost:8080/",
          "height": 527
        },
        "outputId": "de832bb7-2fcc-478c-9aad-2771b44fb486"
      },
      "source": [
        "    # cross term for Christoffel:    \n",
        "    for i in range(10):\n",
        "        S1 = man.rand()\n",
        "        xi = man.randvec(S1)\n",
        "        eta1 = man.randvec(S1)\n",
        "        eta2 = man.randvec(S1)\n",
        "        dr1 = man.D_g(S1, xi, eta1)\n",
        "        x12 = man.contract_D_g(S1, eta1, eta2)\n",
        "\n",
        "        p1 = man.base_inner_ambient(dr1, eta2)\n",
        "        p2 = man.base_inner_ambient(x12, xi)\n",
        "        # print(p1, p2, p1-p2)\n",
        "        print(p1-p2)\n",
        "\n",
        "    # now test christofel:\n",
        "    # two things: symmetric on vector fields\n",
        "    # and christofel relation\n",
        "    # in the case metric\n",
        "\n",
        "    for i in range(10):\n",
        "        S1 = man.rand()\n",
        "        xi = man.randvec(S1)\n",
        "        eta1 = man.randvec(S1)\n",
        "        eta2 = man.randvec(S1)\n",
        "        p1 = man.proj_g_inv(S1, man.christoffel_form(S1, xi, eta1))\n",
        "        p2 = man.proj_g_inv(S1, man.christoffel_form(S1, eta1, xi))\n",
        "        print(check_zero(man._vec(p1)-man._vec(p2)))\n",
        "        v1 = man.base_inner_ambient(\n",
        "            man.christoffel_form(S1, eta1, eta2), xi)\n",
        "        v2 = man.base_inner_ambient(man.D_g(S1, eta1, eta2), xi)\n",
        "        v3 = man.base_inner_ambient(man.D_g(S1, eta2, eta1), xi)\n",
        "        v4 = man.base_inner_ambient(man.D_g(S1, xi, eta1), eta2)\n",
        "        # print(v1, 0.5*(v2+v3-v4), v1-0.5*(v2+v3-v4))\n",
        "        print(v1-0.5*(v2+v3-v4))\n"
      ],
      "execution_count": null,
      "outputs": [
        {
          "output_type": "stream",
          "text": [
            "-1.1102230246251565e-16\n",
            "6.938893903907228e-17\n",
            "-2.7755575615628914e-17\n",
            "-3.252606517456513e-17\n",
            "5.551115123125783e-17\n",
            "-2.0816681711721685e-17\n",
            "1.3877787807814457e-17\n",
            "0.0\n",
            "2.220446049250313e-16\n",
            "1.3877787807814457e-16\n",
            "0.0\n",
            "0.0\n",
            "0.0\n",
            "5.551115123125783e-17\n",
            "0.0\n",
            "5.551115123125783e-17\n",
            "0.0\n",
            "0.0\n",
            "0.0\n",
            "0.0\n",
            "0.0\n",
            "-6.938893903907228e-18\n",
            "0.0\n",
            "-6.938893903907228e-18\n",
            "0.0\n",
            "0.0\n",
            "0.0\n",
            "0.0\n",
            "0.0\n",
            "4.440892098500626e-16\n"
          ],
          "name": "stdout"
        }
      ]
    },
    {
      "cell_type": "markdown",
      "metadata": {
        "id": "5bA0AL029KV6",
        "colab_type": "text"
      },
      "source": [
        "Check preserving metric on flat space:"
      ]
    },
    {
      "cell_type": "code",
      "metadata": {
        "id": "fKnUpq7f9M6B",
        "colab_type": "code",
        "colab": {
          "base_uri": "https://localhost:8080/",
          "height": 68
        },
        "outputId": "7d26db8b-82fa-4d3d-d998-95236e19e4ac"
      },
      "source": [
        "def test_christ_flat():\n",
        "    \"\"\"now test that christofel preserves metrics:\n",
        "    on the flat space\n",
        "    d_xi <v M v> = 2 <v M nabla_xi v>\n",
        "     v = proj(W) @ (aa W + b)\n",
        "    \"\"\"\n",
        "    alpha = randint(1, 10, 2) * .1\n",
        "    beta = randint(1, 10, 2)[0] * .1\n",
        "    n = 20\n",
        "    d = 3\n",
        "    man = ComplexPositiveSemidefinite(n, d, alpha=alpha, beta=beta)\n",
        "    S = man.rand()\n",
        "    \n",
        "    xi = man.randvec(S)\n",
        "    xi = man.randvec(S)\n",
        "    aa = crandn(n*d, n*d)\n",
        "    bb = crandn(n*d)\n",
        "    cc = crandn(d*d, d*d)\n",
        "    dd = hsym(crandn(d, d))\n",
        "        \n",
        "    def v_func_flat(S):\n",
        "        # a function from the manifold\n",
        "        # to ambient\n",
        "        csp = hsym((cc @ S.P.reshape(-1)).reshape(d, d))\n",
        "        \n",
        "        return psd_ambient(\n",
        "            (aa @ S.Y.reshape(-1) + bb).reshape(n, d),\n",
        "            csp + dd)\n",
        "\n",
        "    vv = v_func_flat(S)\n",
        "    dlt = 1e-7\n",
        "    Snew = psd_point(\n",
        "        S.Y + dlt * xi.tY,\n",
        "        S.P + dlt * xi.tP)\n",
        "    vnew = v_func_flat(Snew)\n",
        "\n",
        "    val = man.inner_product_amb(S, vv)\n",
        "    valnew = man.inner_product_amb(Snew, vnew)\n",
        "    d1 = (valnew - val)/dlt\n",
        "    dv = (vnew - vv).scalar_mul(1/dlt)\n",
        "    nabla_xi_v = dv + man.g_inv(\n",
        "        S, man.christoffel_form(S, xi, vv))\n",
        "    nabla_xi_va = dv + man.g_inv(\n",
        "        S, super(ComplexPositiveSemidefinite, man).christoffel_form(S, xi, vv))\n",
        "    print(check_zero(man._vec(nabla_xi_v) - man._vec(nabla_xi_va)))\n",
        "    d2 = man.inner(S, vv, nabla_xi_v)\n",
        "\n",
        "    print(d1)\n",
        "    print(2*d2)\n",
        "\n",
        "test_christ_flat()"
      ],
      "execution_count": null,
      "outputs": [
        {
          "output_type": "stream",
          "text": [
            "0.0\n",
            "72.16768722173583\n",
            "72.1676743245137\n"
          ],
          "name": "stdout"
        }
      ]
    },
    {
      "cell_type": "markdown",
      "metadata": {
        "id": "wRPW8atu_X_n",
        "colab_type": "text"
      },
      "source": [
        "metric compatibility"
      ]
    },
    {
      "cell_type": "code",
      "metadata": {
        "id": "GvyHWmBx_LLE",
        "colab_type": "code",
        "colab": {
          "base_uri": "https://localhost:8080/",
          "height": 34
        },
        "outputId": "029e3062-7a15-4037-995f-ea177369c624"
      },
      "source": [
        "\n",
        "def calc_covar_numeric(man, S, xi, v_func):\n",
        "    \"\"\" compute nabla on E dont do the metric\n",
        "    lower index. So basically\n",
        "    Nabla (Pi e).\n",
        "    Thus, if we want to do Nabla Pi g_inv df\n",
        "    We need to send g_inv df\n",
        "    \"\"\"\n",
        "\n",
        "    def vv_func(W):\n",
        "        return man.proj(W, v_func(W))\n",
        "    \n",
        "    vv = vv_func(S)\n",
        "\n",
        "    dlt = 1e-7\n",
        "    Snew = psd_point(S.Y + dlt*xi.tY, S.P + dlt * xi.tP)\n",
        "    vnew = vv_func(Snew)\n",
        "\n",
        "    val = man.inner_product_amb(S, vv)\n",
        "    valnew = man.inner_product_amb(\n",
        "        Snew, vnew)\n",
        "    d1 = (valnew - val)/dlt\n",
        "    dv = (vnew - vv).scalar_mul(1/dlt)\n",
        "    cx = man.christoffel_form(S, xi, vv)\n",
        "    nabla_xi_v_up = dv + man.g_inv(S, cx)\n",
        "    nabla_xi_v = man.proj(S, nabla_xi_v_up)\n",
        "    \n",
        "    if False:\n",
        "        d2 = man.inner_product_amb(S, vv, nabla_xi_v)\n",
        "        d2up = man.inner_product_amb(\n",
        "            S, vv, nabla_xi_v_up)\n",
        "\n",
        "        print(d1)\n",
        "        print(2*d2up)\n",
        "        print(2*d2)\n",
        "    return nabla_xi_v, dv, cx\n",
        "\n",
        "\n",
        "def test_chris_vectorfields():\n",
        "    # now test that it works on embedded metrics\n",
        "    # we test that D_xi (eta g eta) = 2(eta g nabla_xi eta)\n",
        "    n, d = (20, 3)\n",
        "    alpha = randint(1, 10, 2) * .1\n",
        "    beta = randint(1, 10, 1)[0] * .1\n",
        "    man = ComplexPositiveSemidefinite(n, d, alpha=alpha, beta=beta)\n",
        "\n",
        "    S0 = man.rand()\n",
        "    aa = crandn(n*d, n*d)\n",
        "    intc = crandn(n*d)\n",
        "    cc = crandn(d*d, d*d)\n",
        "    p_intc = hsym(crandn(d, d))\n",
        "\n",
        "    inct_xi = man._rand_ambient()\n",
        "    aa_xi = crandn(n*d, n*d)\n",
        "    cc_xi = crandn(d*d, d*d)\n",
        "    \n",
        "    def v_func(S):\n",
        "        # a function from the manifold\n",
        "        # to ambient\n",
        "        csp = hsym((cc @ (S.P-S0.P).reshape(-1)).reshape(d, d))\n",
        "        \n",
        "        return man.proj(S, psd_ambient(\n",
        "            (aa @ (S.Y-S0.Y).reshape(-1) + intc).reshape(n, d),\n",
        "            csp + p_intc))\n",
        "\n",
        "    SS = psd_point(S0.Y, S0.P)\n",
        "    xi = man.proj(SS, inct_xi)\n",
        "\n",
        "    nabla_xi_v, dv, cxv = calc_covar_numeric(\n",
        "        man, SS, xi, v_func)\n",
        "\n",
        "    def xi_func(S):\n",
        "        csp_xi = hsym((cc_xi @ (S.P-S0.P).reshape(-1)).reshape(d, d))\n",
        "        xi_amb = psd_ambient(\n",
        "            (aa_xi @ (S.Y-S0.Y).reshape(-1) +\n",
        "             inct_xi.tY.reshape(-1)).reshape(n, d),\n",
        "            csp_xi + inct_xi.tP)\n",
        "        return man.proj(S, xi_amb)\n",
        "\n",
        "    vv = v_func(SS)\n",
        "\n",
        "    nabla_v_xi, dxi, cxxi = calc_covar_numeric(\n",
        "        man, SS, vv, xi_func)\n",
        "    diff = nabla_xi_v - nabla_v_xi\n",
        "    # print(diff.tY, diff.tP)\n",
        "    # now do Lie bracket:\n",
        "    dlt = 1e-7\n",
        "    SnewXi = psd_point(SS.Y+dlt*xi.tY, SS.P+dlt*xi.tP)\n",
        "    Snewvv = psd_point(SS.Y+dlt*vv.tY, SS.P+dlt*vv.tP)\n",
        "    vnewxi = v_func(SnewXi)\n",
        "    xnewv = xi_func(Snewvv)\n",
        "    dxiv = (vnewxi - vv).scalar_mul(1/dlt)\n",
        "    dvxi = (xnewv - xi).scalar_mul(1/dlt)\n",
        "    diff2 = man.proj(SS, dxiv-dvxi)\n",
        "    print(check_zero(man._vec(diff) - man._vec(diff2)))\n",
        "test_chris_vectorfields()"
      ],
      "execution_count": null,
      "outputs": [
        {
          "output_type": "stream",
          "text": [
            "6.129012066318114e-07\n"
          ],
          "name": "stdout"
        }
      ]
    },
    {
      "cell_type": "markdown",
      "metadata": {
        "id": "fiZbq_kmA9yx",
        "colab_type": "text"
      },
      "source": [
        "Check $\\Pi(D_{\\xi}\\imath\\eta - D_{\\eta}\\imath\\xi) = \\imath[\\xi, \\eta]$, check covariant derivatives given by the formula is the covariant derivatives of the gradient:"
      ]
    },
    {
      "cell_type": "code",
      "metadata": {
        "id": "MztBsxpSArnC",
        "colab_type": "code",
        "colab": {
          "base_uri": "https://localhost:8080/",
          "height": 85
        },
        "outputId": "67645089-7a05-437d-a4e4-e0efd53f0b5c"
      },
      "source": [
        "                            \n",
        "\n",
        "def num_deriv_amb(man, S, xi, func, dlt=1e-7):\n",
        "    Snew = psd_point(S.Y + dlt*xi.tY,\n",
        "                     S.P + dlt*xi.tP)\n",
        "    return (func(Snew) - func(S)).scalar_mul(1/dlt)\n",
        "\n",
        "    \n",
        "def test_covariance_deriv():\n",
        "    # now test full:\n",
        "    # do covariant derivatives\n",
        "    # check that it works, preseving everything\n",
        "    n, d = (5, 3)\n",
        "    alpha = randint(1, 10, 2) * .1\n",
        "    beta = randint(1, 10, 2)[0] * .01\n",
        "    man = ComplexPositiveSemidefinite(n, d, alpha=alpha, beta=beta)\n",
        "    S = man.rand()\n",
        "    \n",
        "    aa = crandn(n*d, n*d)\n",
        "    cc = crandn(d*d, d*d)\n",
        "    icpt = man._rand_ambient()\n",
        "\n",
        "    def omg_func(S):\n",
        "        csp = hsym((cc @ S.P.reshape(-1)).reshape(d, d))\n",
        "        return psd_ambient(\n",
        "            (aa @ S.Y.reshape(-1) + icpt.tY.reshape(-1)).reshape(n, d),\n",
        "            csp + icpt.tP)\n",
        "\n",
        "    xi = man.randvec(S)\n",
        "    egrad = omg_func(S)\n",
        "    ecsp = hsym((cc @ xi.tP.reshape(-1)).reshape(d, d))\n",
        "    ehess = psd_ambient(\n",
        "        (aa @ xi.tY.reshape(-1)).reshape(n, d),\n",
        "        ecsp)\n",
        "\n",
        "    val1 = man.ehess2rhess(S, egrad, ehess, xi)\n",
        "\n",
        "    def rgrad_func(W):\n",
        "        return man.proj_g_inv(W, omg_func(W))\n",
        "\n",
        "    if False:\n",
        "        first = ehess\n",
        "        a = man.J_g_inv(S, egrad)\n",
        "        rgrad = man.proj_g_inv(S, egrad)\n",
        "        second = man.D_g(\n",
        "            S, xi, man.g_inv(S, egrad)).scalar_mul(-1)\n",
        "        aout = man.solve_J_g_inv_Jst(S, a)\n",
        "        third = man.proj(S, man.D_g_inv_Jst(S, xi, aout)).scalar_mul(-1)\n",
        "        fourth = man.christoffel_form(S, xi, rgrad)\n",
        "        val1a1 = man.proj_g_inv(S, first + second + fourth) + third\n",
        "        print(check_zero(man._vec(val1-val1a1)))\n",
        "    elif False:\n",
        "        d_xi_rgrad = num_deriv_amb(man, S, xi, rgrad_func)\n",
        "        rgrad = man.proj_g_inv(S, egrad)\n",
        "        fourth = man.christoffel_form(S, xi, rgrad)\n",
        "        val1a = man.proj(S, d_xi_rgrad) + man.proj_g_inv(S, fourth)\n",
        "        print(check_zero(man._vec(val1-val1a)))\n",
        "\n",
        "    # nabla_v_xi, dxi, cxxi\n",
        "    val2a, _, _ = calc_covar_numeric(man, S, xi, omg_func)\n",
        "    val2, _, _ = calc_covar_numeric(man, S, xi, rgrad_func)\n",
        "    # val2_p = project(prj, val2)\n",
        "    val2_p = man.proj(S, val2)\n",
        "    # print(val1)\n",
        "    # print(val2_p)\n",
        "    print(check_zero(man._vec(val1)-man._vec(val2_p)))\n",
        "    if True:\n",
        "        H = xi\n",
        "        valrangeA_ = ehess + man.g(S, man.D_proj(\n",
        "            S, H, man.g_inv(S, egrad))) - man.D_g(\n",
        "                S, H, man.g_inv(S, egrad)) +\\\n",
        "            man.christoffel_form(S, H, man.proj_g_inv(S, egrad))\n",
        "        valrangeB = man.proj_g_inv(S, valrangeA_)\n",
        "    valrange = man.ehess2rhess_alt(S, egrad, ehess, xi)\n",
        "    print(check_zero(man._vec(valrange)-man._vec(val2_p)))\n",
        "    print(check_zero(man._vec(valrange)-man._vec(val1)))\n",
        "    print(check_zero(man._vec(valrange)-man._vec(valrangeB)))\n",
        "\n",
        "test_covariance_deriv()    \n"
      ],
      "execution_count": null,
      "outputs": [
        {
          "output_type": "stream",
          "text": [
            "0.08302525268707142\n",
            "0.08302525598455748\n",
            "5.280510379656223e-09\n",
            "0.0\n"
          ],
          "name": "stdout"
        }
      ]
    },
    {
      "cell_type": "code",
      "metadata": {
        "id": "c3gcbwZIAJ19",
        "colab_type": "code",
        "colab": {
          "base_uri": "https://localhost:8080/",
          "height": 323
        },
        "outputId": "de53d57a-0432-4f8d-fa4a-faa96d6f3653"
      },
      "source": [
        "def test_rhess_02():\n",
        "    n, d = (50, 3)\n",
        "    alpha = randint(1, 10, 2) * .1\n",
        "    beta = randint(1, 10, 2)[0] * .1\n",
        "    man = ComplexPositiveSemidefinite(n, d, alpha=alpha, beta=beta)\n",
        "\n",
        "    S = man.rand()\n",
        "    # simple function. Distance to a given matrix\n",
        "    # || S - A||_F^2\n",
        "    A = hsym(crandn(n, n))\n",
        "\n",
        "    def f(S):\n",
        "        diff = (A - S.Y @ S.P @ S.Y.T.conjugate())\n",
        "        return trace(diff @ diff.T.conjugate())\n",
        "\n",
        "    def df(S):\n",
        "        return psd_ambient(-4*A @ S.Y @ S.P,\n",
        "                           2*(S.P-S.Y.T.conjugate() @ A @ S.Y))\n",
        "\n",
        "    def ehess_form(S, xi, eta):\n",
        "        return (trace(-4*A @ (xi.tY @ S.P + S.Y @ xi.tP) @\n",
        "                      eta.tY.T.conjugate()) +\n",
        "                2*trace((xi.tP - xi.tY.T.conjugate()@A@S.Y -\n",
        "                         S.Y.T.conjugate()@A@xi.tY) @\n",
        "                        eta.tP.T.conjugate())).real\n",
        "\n",
        "    def ehess_vec(S, xi):\n",
        "        return psd_ambient(-4*A @ (xi.tY @ S.P + S.Y @ xi.tP),\n",
        "                           2*(xi.tP - xi.tY.T.conjugate() @ A @ S.Y -\n",
        "                              S.Y.T.conjugate() @ A @ xi.tY))\n",
        "\n",
        "    xxi = man.randvec(S)\n",
        "    dlt = 1e-8\n",
        "    Snew = psd_point(\n",
        "        S.Y+dlt*xxi.tY, S.P + dlt*xxi.tP)\n",
        "    d1 = (f(Snew) - f(S))/dlt\n",
        "    d2 = df(S)\n",
        "    print(\"difference of numerical vs analytic directional derivatives of function:\")\n",
        "    print(d1 - man.base_inner_ambient(d2,  xxi))\n",
        "\n",
        "    eeta = man.randvec(S)\n",
        "\n",
        "    d1 = man.base_inner_ambient((df(Snew) - df(S)), eeta) / dlt\n",
        "    ehess_val = ehess_form(S, xxi, eeta)\n",
        "    dv2 = ehess_vec(S, xxi)\n",
        "    print(\"Eucliean Hessian bilinear form, 2 ways\")\n",
        "    print(man.base_inner_ambient(dv2, eeta))\n",
        "    print(d1, ehess_val, d1-ehess_val)\n",
        "\n",
        "    # now check the formula: ehess = xi (eta_func(f)) - <D_xi eta, df(Y)>\n",
        "    # promote eta to a vector field.\n",
        "\n",
        "    m1 = crandn(n, n)\n",
        "    m2 = crandn(d, d)\n",
        "    m_p = crandn(d*d, d*d)\n",
        "\n",
        "    def eta_field(Sin):\n",
        "        return man.proj(S, psd_ambient(\n",
        "            m1 @ (Sin.Y - S.Y) @ m2,\n",
        "            hsym((m_p @ (Sin.P - S.P).reshape(-1)).reshape(d, d)))) + eeta\n",
        "\n",
        "    # xietaf: should go to ehess(xi, eta) + df(Y) @ etafield)\n",
        "    xietaf = (man.base_inner_ambient(df(Snew), eta_field(Snew)) -\n",
        "              man.base_inner_ambient(df(S), eta_field(S))) / dlt\n",
        "    # appy eta_func to f: should go to tr(m1 @ xxi @ m2 @ df(Y).T)\n",
        "    Dxietaf = man.base_inner_ambient(\n",
        "        (eta_field(Snew) - eta_field(S)), df(S))/dlt\n",
        "    # this is ehess. should be same as d1 or ehess_val\n",
        "    # print(xietaf-Dxietaf)\n",
        "    print(\"Check the proposition on Euclidean Hessian\")\n",
        "    print(check_zero(xietaf-Dxietaf-ehess_val))\n",
        "\n",
        "    # now check: rhess. Need to make sure xi, eta in the tangent space.\n",
        "    # first compare this with numerical differentiation\n",
        "    xi1 = man.proj(S, xxi)\n",
        "    eta1 = man.proj(S, eeta)\n",
        "    egvec = df(S)\n",
        "    ehvec = ehess_vec(S, xi1)\n",
        "    rhessvec = man.ehess2rhess(S, egvec, ehvec, xi1)\n",
        "\n",
        "    # check it numerically:\n",
        "    def rgrad_func(Y):\n",
        "        return man.proj_g_inv(Y, df(Y))\n",
        "    \n",
        "    # val2a, _, _ = calc_covar_numeric_raw(man, W, xi1, df)\n",
        "    val2, _, _ = calc_covar_numeric(man, S, xi1, rgrad_func)\n",
        "    val2_p = man.proj(S, val2)\n",
        "    # print(rhessvec)\n",
        "    # print(val2_p)\n",
        "    print(\"check numerical covariant derivative of gradient is same as rhess implemeted\")\n",
        "    print(check_zero(man._vec(rhessvec-val2_p)))\n",
        "    rhessval = man.inner_product_amb(S, rhessvec, eta1)\n",
        "    print(man.inner_product_amb(S, val2, eta1))\n",
        "    print(rhessval)\n",
        "\n",
        "    # check symmetric:\n",
        "    ehvec_e = ehess_vec(S, eta1)\n",
        "    rhessvec_e = man.ehess2rhess(S, egvec, ehvec_e, eta1)\n",
        "    rhessval_e = man.inner_product_amb(S, rhessvec_e, xi1)\n",
        "    print(rhessval_e)\n",
        "    # the above computed inner_prod(Nabla_xi Pi * df, eta)\n",
        "    # in the following check. Extend eta1 to eta_proj\n",
        "    # (Pi Nabla_hat Pi g_inv df, g eta)\n",
        "    # = D_xi (Pi g_inv df, g eta) - (Pi g_inv df g Pi Nabla_hat eta)\n",
        "    \n",
        "    def eta_proj(S):\n",
        "        return man.proj(S, eta_field(S))\n",
        "    print(check_zero(man._vec(eta1-eta_proj(S))))\n",
        "    \n",
        "    e1 = man.inner(S, man.proj_g_inv(S, df(S)), eta_proj(S))\n",
        "    e1a = man.base_inner_ambient(df(S), eta_proj(S))\n",
        "    print(e1, e1a, e1-e1a)\n",
        "    Snew = psd_point(S.Y + dlt*xi1.tY, S.P + dlt*xi1.tP)\n",
        "    e2 = man.inner(Snew, man.proj_g_inv(Snew, df(Snew)), eta_proj(Snew))\n",
        "    e2a = man.base_inner_ambient(df(Snew), eta_proj(Snew))\n",
        "    print(e2, e2a, e2-e2a)\n",
        "    \n",
        "    first = (e2 - e1)/dlt\n",
        "    first1 = (man.base_inner_ambient(df(Snew), eta_proj(Snew)) -\n",
        "              man.base_inner_ambient(df(S), eta_proj(S)))/dlt\n",
        "    print(first-first1)\n",
        "    \n",
        "    val3, _, _ = calc_covar_numeric(man, S, xi1, eta_proj)\n",
        "    second = man.inner(S, man.proj_g_inv(S, df(S)), man.proj(S, val3))\n",
        "    second2 = man.inner(S, man.proj_g_inv(S, df(S)), val3)\n",
        "    print(second, second2, second-second2)\n",
        "    print('same as rhess_val %f' % (first-second))\n",
        "    \n",
        "\n",
        "test_rhess_02()"
      ],
      "execution_count": null,
      "outputs": [
        {
          "output_type": "stream",
          "text": [
            "difference of numerical vs analytic directional derivatives of function:\n",
            "(-7.467418117457214e-05+0j)\n",
            "Eucliean Hessian bilinear form, 2 ways\n",
            "-18.899729419173234\n",
            "-18.89972854658729 -18.899729419173237 8.725859466096608e-07\n",
            "Check the proposition on Euclidean Hessian\n",
            "4.48227615024166e-06\n",
            "check numerical covariant derivative of gradient is same as rhess implemeted\n",
            "0.0007588259374895626\n",
            "-22.753426776659005\n",
            "-22.7534266420712\n",
            "-22.753426642071098\n",
            "0.0\n",
            "-17.133342525390137 -17.133342525390177 3.907985046680551e-14\n",
            "-17.13335090999161 -17.133350909991538 -7.105427357601002e-14\n",
            "-1.1013412404281553e-05\n",
            "-815.7067191417839 -815.706719141784 1.1368683772161603e-13\n",
            "same as rhess_val -22.753428\n"
          ],
          "name": "stdout"
        }
      ]
    }
  ]
}